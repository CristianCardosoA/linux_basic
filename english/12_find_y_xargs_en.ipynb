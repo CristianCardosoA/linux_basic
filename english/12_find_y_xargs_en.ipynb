{
 "cells": [
  {
   "cell_type": "markdown",
   "metadata": {},
   "source": [
    "## The ```find``` command.\n",
    "\n",
    "This command allows you to perform various types of searches from a directory by means of an expression.\n",
    "\n",
    "```\n",
    "find <directory> <expression>\n",
    "```\n",
    "\n",
    "Expressions can be made up of:\n",
    "\n",
    "* Options.\n",
    "* Evidence.\n",
    "* Actions."
   ]
  },
  {
   "cell_type": "markdown",
   "metadata": {},
   "source": [
    "**Example:**"
   ]
  },
  {
   "cell_type": "code",
   "execution_count": 1,
   "metadata": {
    "scrolled": false
   },
   "outputs": [
    {
     "name": "stdout",
     "output_type": "stream",
     "text": [
      ".\n",
      "./09_usuarios_y_grupos_en.ipynb\n",
      "./xac\n",
      "./13_introduccion_a_bash_scripting_en.ipynb\n",
      "./xad\n",
      "./11_procesos_trabajos_y_daemons_en.ipynb\n",
      "./.ipynb_checkpoints\n",
      "./.ipynb_checkpoints/12_find_y_xargs_en-checkpoint.ipynb\n",
      "./.ipynb_checkpoints/04_directorios_y_archivos_en-checkpoint.ipynb\n",
      "./.ipynb_checkpoints/07_expresiones_regulares_y_grep_en-checkpoint.ipynb\n",
      "./.ipynb_checkpoints/10_permisos_y_propietarios_de_archivos_en-checkpoint.ipynb\n",
      "./.ipynb_checkpoints/05_jerarquía_de_directorios_en-checkpoint.ipynb\n",
      "./.ipynb_checkpoints/02_sistemas_de_computo_en-checkpoint.ipynb\n",
      "./.ipynb_checkpoints/06_flujos_de_texto_filtros_y_pipes_en-checkpoint.ipynb\n",
      "./.ipynb_checkpoints/13_introduccion_a_bash_scripting_en-checkpoint.ipynb\n",
      "./.ipynb_checkpoints/03_la_linea_de_comandos_en-checkpoint.ipynb\n",
      "./.ipynb_checkpoints/01_introduccion_en-checkpoint.ipynb\n",
      "./05_jerarquía_de_directorios_en.ipynb\n",
      "./x01\n",
      "./02_sistemas_de_computo_en.ipynb\n",
      "./12_find_y_xargs_en.ipynb\n",
      "./01_introduccion_en.ipynb\n",
      "./26_seguridad_basica_en.ipynb\n",
      "./20_introduccion_a_redes_en.ipynb\n",
      "./06_flujos_de_texto_filtros_y_pipes_en.ipynb\n",
      "./04_directorios_y_archivos_en.ipynb\n",
      "./xaa\n",
      "./xae\n",
      "./x02\n",
      "./21_sesiones_remotas_y_transmision_de_datos_en.ipynb\n",
      "./24_distribucion_de_software_en.ipynb\n",
      "./16_kernel_modulos_y_dispositivos_en.ipynb\n",
      "./23_compresion_de_archivos_en.ipynb\n",
      "./saluda.sh\n",
      "./07_expresiones_regulares_y_grep_en.ipynb\n",
      "./x00\n",
      "./xab\n",
      "./19_chroot_y_contenedores_en.ipynb\n",
      "./18_gestion_de_servicios_con_systemd_en.ipynb\n",
      "./22_virtualizacion_en.ipynb\n",
      "./10_permisos_y_propietarios_de_archivos_en.ipynb\n",
      "./08_introduccion_a_vim_en.ipynb\n",
      "./14_entorno_del_shell_en.ipynb\n",
      "./03_la_linea_de_comandos_en.ipynb\n",
      "01_introduccion_en.ipynb\n",
      "02_sistemas_de_computo_en.ipynb\n",
      "03_la_linea_de_comandos_en.ipynb\n",
      "04_directorios_y_archivos_en.ipynb\n",
      "05_jerarquía_de_directorios_en.ipynb\n",
      "06_flujos_de_texto_filtros_y_pipes_en.ipynb\n",
      "07_expresiones_regulares_y_grep_en.ipynb\n",
      "08_introduccion_a_vim_en.ipynb\n",
      "09_usuarios_y_grupos_en.ipynb\n",
      "10_permisos_y_propietarios_de_archivos_en.ipynb\n",
      "11_procesos_trabajos_y_daemons_en.ipynb\n",
      "12_find_y_xargs_en.ipynb\n",
      "13_introduccion_a_bash_scripting_en.ipynb\n",
      "14_entorno_del_shell_en.ipynb\n",
      "16_kernel_modulos_y_dispositivos_en.ipynb\n",
      "18_gestion_de_servicios_con_systemd_en.ipynb\n",
      "19_chroot_y_contenedores_en.ipynb\n",
      "20_introduccion_a_redes_en.ipynb\n",
      "21_sesiones_remotas_y_transmision_de_datos_en.ipynb\n",
      "22_virtualizacion_en.ipynb\n",
      "23_compresion_de_archivos_en.ipynb\n",
      "24_distribucion_de_software_en.ipynb\n",
      "26_seguridad_basica_en.ipynb\n"
     ]
    }
   ],
   "source": [
    "find . *.ipynb"
   ]
  },
  {
   "cell_type": "markdown",
   "metadata": {},
   "source": [
    "### Some options.\n",
    "\n",
    "* ```-L``` continues searching in directories with symbolic links.\n",
    "* ```-P``` does not search directories with symbolic links.\n",
    "* ```-maxdepth``` indicates the maximum number of subdirectory levels in which to search.\n",
    "* ```-mindepth``` indicates the minimum number of subdirectory levels to search."
   ]
  },
  {
   "cell_type": "code",
   "execution_count": null,
   "metadata": {},
   "outputs": [],
   "source": [
    "find . *.ipynb -maxdepth 1"
   ]
  },
  {
   "cell_type": "code",
   "execution_count": null,
   "metadata": {},
   "outputs": [],
   "source": [
    "find . *.ipynb -maxdepth 2"
   ]
  },
  {
   "cell_type": "markdown",
   "metadata": {},
   "source": [
    "### Numeric criteria.\n",
    "\n",
    "* ```+n``` greater than n.\n",
    "* ```-n``` less than n.\n",
    "* ```n``` equals n."
   ]
  },
  {
   "cell_type": "markdown",
   "metadata": {},
   "source": [
    "### Evidence."
   ]
  },
  {
   "cell_type": "markdown",
   "metadata": {},
   "source": [
    "#### Tests with respect to time.\n",
    "* ```-newer``` file\n",
    "* ```-amin''`` n\n",
    "* ```-atime``` n\n",
    "* ```-anewer``` file\n",
    "* ```-cmin``` n\n",
    "* ```-ctime``` n\n",
    "* ```-cnewer``` file\n",
    "* ```-mmin``` n\n",
    "* ```-mtime''' approx\n",
    "* ```-mnewer``` file"
   ]
  },
  {
   "cell_type": "code",
   "execution_count": null,
   "metadata": {},
   "outputs": [],
   "source": [
    "find . -maxdepth 1 -mmin -60 "
   ]
  },
  {
   "cell_type": "code",
   "execution_count": null,
   "metadata": {},
   "outputs": [],
   "source": [
    "find . -maxdepth 1 -atime -1 "
   ]
  },
  {
   "cell_type": "code",
   "execution_count": null,
   "metadata": {},
   "outputs": [],
   "source": [
    "find . *.ipynb -maxdepth 1 -newer 05_jerarquía_de_directorios.ipynb "
   ]
  },
  {
   "cell_type": "markdown",
   "metadata": {},
   "source": [
    "#### Tests regarding permissions.\n",
    "\n",
    "* ```-readable```\n",
    "* ```-executable```\n",
    "* ```-writable```\n",
    "* ```-perm```"
   ]
  },
  {
   "cell_type": "code",
   "execution_count": null,
   "metadata": {},
   "outputs": [],
   "source": [
    "echo \"/bin/bash\n",
    "echo Hola, mundo.\" > saluda.sh"
   ]
  },
  {
   "cell_type": "code",
   "execution_count": null,
   "metadata": {},
   "outputs": [],
   "source": [
    "chmod +x saluda.sh"
   ]
  },
  {
   "cell_type": "code",
   "execution_count": null,
   "metadata": {},
   "outputs": [],
   "source": [
    "ls -l saluda.sh"
   ]
  },
  {
   "cell_type": "code",
   "execution_count": null,
   "metadata": {},
   "outputs": [],
   "source": [
    "find . -maxdepth 1 -executable"
   ]
  },
  {
   "cell_type": "markdown",
   "metadata": {},
   "source": [
    "#### Tests against file type.\n",
    "* ```-links```\n",
    "* ```-fstype```"
   ]
  },
  {
   "cell_type": "markdown",
   "metadata": {},
   "source": [
    "#### Evidence regarding owners.\n",
    "* ```-gid``` n\n",
    "* ```-group``` name\n",
    "* ```-nogroup``` n\n",
    "* ```pid``` n\n",
    "* ```-user``` name\n",
    "* ```-nouser``` n"
   ]
  },
  {
   "cell_type": "code",
   "execution_count": null,
   "metadata": {},
   "outputs": [],
   "source": [
    "sudo chown oi:root saluda.sh"
   ]
  },
  {
   "cell_type": "code",
   "execution_count": null,
   "metadata": {},
   "outputs": [],
   "source": [
    "ls -l saluda.sh"
   ]
  },
  {
   "cell_type": "code",
   "execution_count": null,
   "metadata": {},
   "outputs": [],
   "source": [
    "find . -maxdepth 1 -uid 1000 | sort"
   ]
  },
  {
   "cell_type": "code",
   "execution_count": null,
   "metadata": {
    "scrolled": true
   },
   "outputs": [],
   "source": [
    "find . -maxdepth 1 -group root"
   ]
  },
  {
   "cell_type": "markdown",
   "metadata": {},
   "source": [
    "#### Tests against names.\n",
    "* ```-name``` pattern\n",
    "* ```-iname``` pattern\n",
    "\n",
    "* ```-lname``` pattern\n",
    "* ```-ilname``` pattern"
   ]
  },
  {
   "cell_type": "code",
   "execution_count": null,
   "metadata": {},
   "outputs": [],
   "source": [
    "find . -maxdepth 1 -iname *bash*"
   ]
  },
  {
   "cell_type": "markdown",
   "metadata": {},
   "source": [
    "#### Tests per route.\n",
    "* ```-path``` pattern\n",
    "* ```-ipath``` pattern"
   ]
  },
  {
   "cell_type": "code",
   "execution_count": null,
   "metadata": {},
   "outputs": [],
   "source": [
    "find . -path \"*CH*\""
   ]
  },
  {
   "cell_type": "markdown",
   "metadata": {},
   "source": [
    "#### Test by inode.\n",
    "* ``-inum'' n"
   ]
  },
  {
   "cell_type": "markdown",
   "metadata": {},
   "source": [
    "#### Tests by regex.\n",
    "* ```-regex``` pattern\n",
    "* ```-iregex``` pattern"
   ]
  },
  {
   "cell_type": "code",
   "execution_count": null,
   "metadata": {},
   "outputs": [],
   "source": [
    "find . -regextype egrep -regex '.*(0|2)(3|5|7)_.*' | sort"
   ]
  },
  {
   "cell_type": "code",
   "execution_count": null,
   "metadata": {},
   "outputs": [],
   "source": [
    "find . -regextype egrep -regex '.*(sh$|png$)' | sort"
   ]
  },
  {
   "cell_type": "markdown",
   "metadata": {},
   "source": [
    "#### Test for equality.\n",
    "\n",
    "* ```-samefile``` file"
   ]
  },
  {
   "cell_type": "code",
   "execution_count": null,
   "metadata": {},
   "outputs": [],
   "source": [
    "sudo chown 1000:1000 *.sh"
   ]
  },
  {
   "cell_type": "code",
   "execution_count": null,
   "metadata": {},
   "outputs": [],
   "source": [
    "ls -l *.sh"
   ]
  },
  {
   "cell_type": "code",
   "execution_count": null,
   "metadata": {},
   "outputs": [],
   "source": [
    "cp saluda.sh ../img/"
   ]
  },
  {
   "cell_type": "code",
   "execution_count": null,
   "metadata": {},
   "outputs": [],
   "source": [
    "find . -samefile ../img/saluda.sh"
   ]
  },
  {
   "cell_type": "markdown",
   "metadata": {},
   "source": [
    "#### Test for features.\n",
    "* ```-size``` n\n",
    "* ```-type``` tipo\n",
    "* ```-used``` n"
   ]
  },
  {
   "cell_type": "code",
   "execution_count": null,
   "metadata": {},
   "outputs": [],
   "source": [
    "find . -maxdepth 1 -size +20k"
   ]
  },
  {
   "cell_type": "code",
   "execution_count": null,
   "metadata": {},
   "outputs": [],
   "source": [
    "find . -maxdepth 2 -type d"
   ]
  },
  {
   "cell_type": "markdown",
   "metadata": {},
   "source": [
    "### Actions.\n",
    "* ```-delete``` **WARNING:** Place after a test.\n",
    "* ```-exec <command> {} \\;```\n",
    "* ```-ok <command> {} \\;```\n",
    "* ```-execdir <command> {} \\;```\n",
    "* ```-okdir <command> {} \\;```\n",
    "* ```-print```\n",
    "* ```-printf```"
   ]
  },
  {
   "cell_type": "code",
   "execution_count": null,
   "metadata": {},
   "outputs": [],
   "source": [
    "find . -iname '*.ipynb' -print"
   ]
  },
  {
   "cell_type": "code",
   "execution_count": null,
   "metadata": {
    "scrolled": true
   },
   "outputs": [],
   "source": [
    "find . -iname '*.ipynb' -exec  wc {} -l \\;"
   ]
  },
  {
   "cell_type": "markdown",
   "metadata": {},
   "source": [
    "* Run the following command from a terminal.\n",
    "\n",
    "```\n",
    "find . -iname '*.ipynb' -ok  wc {} \\;\n",
    "```"
   ]
  },
  {
   "cell_type": "code",
   "execution_count": null,
   "metadata": {},
   "outputs": [],
   "source": [
    "find . -maxdepth 1 -type d -exec ls {} +"
   ]
  },
  {
   "cell_type": "code",
   "execution_count": null,
   "metadata": {},
   "outputs": [],
   "source": [
    "find .  -iname '*.ipynb' -exec cat {} \\; | grep -i 'gnu/linux'"
   ]
  },
  {
   "cell_type": "code",
   "execution_count": null,
   "metadata": {},
   "outputs": [],
   "source": [
    "man find"
   ]
  },
  {
   "cell_type": "markdown",
   "metadata": {},
   "source": [
    "## The ```xargs``` command.\n",
    "\n",
    "This command is a filter that takes each element of a data stream as an argument to a command.\n",
    "\n",
    "```\n",
    " <pipe> xargs <command> \n",
    "```"
   ]
  },
  {
   "cell_type": "code",
   "execution_count": null,
   "metadata": {},
   "outputs": [],
   "source": [
    "ls"
   ]
  },
  {
   "cell_type": "code",
   "execution_count": null,
   "metadata": {},
   "outputs": [],
   "source": [
    "ls | xargs wc"
   ]
  },
  {
   "cell_type": "code",
   "execution_count": null,
   "metadata": {
    "scrolled": true
   },
   "outputs": [],
   "source": [
    "man xargs"
   ]
  },
  {
   "cell_type": "markdown",
   "metadata": {
    "collapsed": true
   },
   "source": [
    "<p style=\"text-align: center\"><a rel=\"license\" href=\"http://creativecommons.org/licenses/by/4.0/\"><img alt=\"Creative Commons License\" style=\" border-width:0\" src=\"https://i.creativecommons.org/l/by/4.0/80x15.png\" /></a><br />This work is licensed under a <a rel=\"license \" href=\"http://creativecommons.org/licenses/by/4.0/\">Creative Commons Attribution 4.0 International License</a>.</p>\n",
    "<p style=\"text-align: center\">Content created by: José Luis Chiquete Valdivieso. 2019.</p><p style=\"text-align: center\">Content modified by: Cristian Cardoso Arellano. 2023.</p>"
   ]
  }
 ],
 "metadata": {
  "kernelspec": {
   "display_name": "Bash",
   "language": "bash",
   "name": "bash"
  },
  "language_info": {
   "codemirror_mode": "shell",
   "file_extension": ".sh",
   "mimetype": "text/x-sh",
   "name": "bash"
  }
 },
 "nbformat": 4,
 "nbformat_minor": 2
}
