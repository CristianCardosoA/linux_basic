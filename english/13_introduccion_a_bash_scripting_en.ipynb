{
 "cells": [
  {
   "cell_type": "markdown",
   "metadata": {},
   "source": [
    "# Introduction to *Bash* scripting."
   ]
  },
  {
   "cell_type": "code",
   "execution_count": 1,
   "metadata": {},
   "outputs": [
    {
     "name": "stdout",
     "output_type": "stream",
     "text": [
      "01_introduccion_en.ipynb\n",
      "02_sistemas_de_computo_en.ipynb\n",
      "03_la_linea_de_comandos_en.ipynb\n",
      "04_directorios_y_archivos_en.ipynb\n",
      "05_jerarquía_de_directorios_en.ipynb\n",
      "06_flujos_de_texto_filtros_y_pipes_en.ipynb\n",
      "07_expresiones_regulares_y_grep_en.ipynb\n",
      "08_introduccion_a_vim_en.ipynb\n",
      "09_usuarios_y_grupos_en.ipynb\n",
      "10_permisos_y_propietarios_de_archivos_en.ipynb\n",
      "11_procesos_trabajos_y_daemons_en.ipynb\n",
      "12_find_y_xargs_en.ipynb\n",
      "13_introduccion_a_bash_scripting_en.ipynb\n",
      "14_entorno_del_shell_en.ipynb\n",
      "16_kernel_modulos_y_dispositivos_en.ipynb\n",
      "18_gestion_de_servicios_con_systemd_en.ipynb\n",
      "19_chroot_y_contenedores_en.ipynb\n",
      "20_introduccion_a_redes_en.ipynb\n",
      "21_sesiones_remotas_y_transmision_de_datos_en.ipynb\n",
      "22_virtualizacion_en.ipynb\n",
      "23_compresion_de_archivos_en.ipynb\n",
      "24_distribucion_de_software_en.ipynb\n",
      "26_seguridad_basica_en.ipynb\n",
      "saluda.sh\n",
      "x00\n",
      "x01\n",
      "x02\n",
      "xaa\n",
      "xab\n",
      "xac\n",
      "xad\n",
      "xae\n"
     ]
    }
   ],
   "source": [
    "ls"
   ]
  },
  {
   "cell_type": "markdown",
   "metadata": {},
   "source": [
    "*Bourne again shell*, *GNU Bash* or simply [*Bash*](https://www.gnu.org/software/bash/) is an interpreted language considered to be the most popular [*Bash*](https://www.gnu.org/software/bash/) in *GNU/Linux* environments.\n",
    "\n",
    "The *Bash* interpreter is usually found in ```/bin/bash```.\n",
    "* *Bash* is based on the [*Bourne Shell*](https://es.wikipedia.org/wiki/Bourne_Shell), which is used primarily on *UNIX* systems and is usually found in ```/bin/sh```. On some *GNU/Linux* distributions, the path ```/bin/sh``` is a link pointing to ```/bin/bash```.\n",
    "\n",
    "*Bash* allows programs to be executed by means of *scripts* which are text documents that are interpreted and executed line by line by the interpreter.\n",
    "\n",
    "*Bash* is a very simple language, but it integrates very well with GNU/Linux commands, allowing:\n",
    "\n",
    "* Define variables.\n",
    "* Define functions.\n",
    "* Perform basic arithmetic operations (exclusively with integers).\n",
    "* Perform logical operations.\n",
    "* Use conditionals.\n",
    "* Perform cycles and iterations.\n",
    "* Perform input/output operations.\n",
    "* Manage files.\n",
    "* Manage arrangements.\n",
    "* Manage command history.\n",
    "* Manage the environment of the terminal.\n",
    "\n",
    "*Bash* has some declarations that allow you to modify the flow of execution of a script. In this chapter you will study:\n",
    "\n",
    "* ```if```...```elif``` ... ```else```.\n",
    "* ```for``` .. ```in```\n",
    "* ```while```\n",
    "* ```until```\n",
    "\n",
    "*Bash* uses its own commands (builtins) so cales can be consulted from:\n",
    "\n",
    "https://www.gnu.org/software/bash/manual/html_node/Bash-Builtins.html"
   ]
  },
  {
   "cell_type": "markdown",
   "metadata": {},
   "source": [
    "This chapter is a brief introduction to the most commonly used expressions and declarations for *Bash* scripting.\n",
    "\n",
    "In case you want to know more about it, it is recommended to consult the tutorial located at:\n",
    "\n",
    "http://tldp.org/LDP/Bash-Beginners-Guide/html/index.html\n",
    "\n",
    "It is also possible to consult a *Cheat sheet* from:\n",
    "\n",
    "https://devhints.io/bash"
   ]
  },
  {
   "cell_type": "markdown",
   "metadata": {},
   "source": [
    "## Strings in *Bash*.\n",
    "\n",
    "The ```echo``` command identifies any value as a string, so unless special characters are included, apostrophes and quotes can be optional."
   ]
  },
  {
   "cell_type": "code",
   "execution_count": null,
   "metadata": {},
   "outputs": [],
   "source": [
    "echo Hola, Mundo."
   ]
  },
  {
   "cell_type": "code",
   "execution_count": null,
   "metadata": {},
   "outputs": [],
   "source": [
    "echo 'Hola, Mundo.'"
   ]
  },
  {
   "cell_type": "code",
   "execution_count": null,
   "metadata": {},
   "outputs": [],
   "source": [
    "echo 2 + 5"
   ]
  },
  {
   "cell_type": "markdown",
   "metadata": {},
   "source": [
    "## Basic *Bash* data types.\n",
    "\n",
    "Bash can only identify:\n",
    "\n",
    "* Text streams.\n",
    "* Integer numbers."
   ]
  },
  {
   "cell_type": "markdown",
   "metadata": {},
   "source": [
    "## Expressions."
   ]
  },
  {
   "cell_type": "markdown",
   "metadata": {},
   "source": [
    "### Structure of an expression.\n",
    "\n",
    "```\n",
    "<value 1><operator 1><value><operator 2>...<operator m><value n>\n",
    "```\n",
    "\n",
    "**Note:** In *Bash* it is not recommended to leave spaces between values ​​and operators."
   ]
  },
  {
   "cell_type": "markdown",
   "metadata": {},
   "source": [
    "### Syntax of an expression.\n",
    "\n",
    "```bash\n",
    "[<expression>]\n",
    "```\n",
    "\n",
    "```bash\n",
    "((<expression>))\n",
    "```"
   ]
  },
  {
   "cell_type": "code",
   "execution_count": null,
   "metadata": {},
   "outputs": [],
   "source": [
    "[1 + 1]"
   ]
  },
  {
   "cell_type": "markdown",
   "metadata": {},
   "source": [
    "### Indicating the end of an expression with the semicolon ```;```."
   ]
  },
  {
   "cell_type": "markdown",
   "metadata": {},
   "source": [
    "### The sign ```$```.\n",
    "\n",
    "```\n",
    "<comando> $<expresión>\n",
    "```\n"
   ]
  },
  {
   "cell_type": "code",
   "execution_count": null,
   "metadata": {},
   "outputs": [],
   "source": [
    "$[2+2]"
   ]
  },
  {
   "cell_type": "code",
   "execution_count": null,
   "metadata": {},
   "outputs": [],
   "source": [
    "echo $[2 + 2]"
   ]
  },
  {
   "cell_type": "code",
   "execution_count": null,
   "metadata": {},
   "outputs": [],
   "source": [
    "echo $((2 + 2))"
   ]
  },
  {
   "cell_type": "code",
   "execution_count": null,
   "metadata": {},
   "outputs": [],
   "source": [
    "CADENA=\"HOLA\""
   ]
  },
  {
   "cell_type": "code",
   "execution_count": null,
   "metadata": {},
   "outputs": [],
   "source": [
    "ls $[4 - 2]*"
   ]
  },
  {
   "cell_type": "code",
   "execution_count": null,
   "metadata": {},
   "outputs": [],
   "source": [
    "echo $CADENA"
   ]
  },
  {
   "cell_type": "code",
   "execution_count": null,
   "metadata": {},
   "outputs": [],
   "source": [
    "echo $HOME"
   ]
  },
  {
   "cell_type": "markdown",
   "metadata": {},
   "source": [
    "## Operators.\n",
    "\n",
    "There are several operators that can be used depending on the type of data.\n",
    "\n",
    "It is possible to consult the operators available in\n",
    "http://tldp.org/HOWTO/Bash-Prog-Intro-HOWTO-11.html"
   ]
  },
  {
   "cell_type": "markdown",
   "metadata": {},
   "source": [
    "### Operators for numbers.\n",
    "\n",
    "* ```+``` corresponds to addition.\n",
    "* ```-``` corresponds to subtraction.\n",
    "* ```*``` corresponds to multiplication.\n",
    "* ```/``` corresponds to division.\n",
    "* ```%``` corresponds to the remainder of an integer division (modulus).\n",
    "* ```==``` tests whether two numeric values ​​are equal.\n",
    "* ```!=``` tests whether two numeric values ​​are distinct."
   ]
  },
  {
   "cell_type": "code",
   "execution_count": null,
   "metadata": {},
   "outputs": [],
   "source": [
    "echo $[2+2]"
   ]
  },
  {
   "cell_type": "code",
   "execution_count": null,
   "metadata": {},
   "outputs": [],
   "source": [
    "echo $[14/3]"
   ]
  },
  {
   "cell_type": "code",
   "execution_count": null,
   "metadata": {
    "scrolled": true
   },
   "outputs": [],
   "source": [
    "echo $[14%3]"
   ]
  },
  {
   "cell_type": "code",
   "execution_count": null,
   "metadata": {},
   "outputs": [],
   "source": [
    "echo $[14!=3]"
   ]
  },
  {
   "cell_type": "code",
   "execution_count": null,
   "metadata": {},
   "outputs": [],
   "source": [
    "echo $[14==3]"
   ]
  },
  {
   "cell_type": "markdown",
   "metadata": {},
   "source": [
    "### String operators.\n",
    "\n",
    "* ```=``` tests whether one string is equal to another.\n",
    "* ```!=``` evaluates to whether one string is different from another."
   ]
  },
  {
   "cell_type": "code",
   "execution_count": null,
   "metadata": {},
   "outputs": [],
   "source": [
    "echo $[\"hola\"!=\"Hola\"]"
   ]
  },
  {
   "cell_type": "code",
   "execution_count": null,
   "metadata": {},
   "outputs": [],
   "source": [
    "echo $[\"hola\"==\"hola\"]"
   ]
  },
  {
   "cell_type": "markdown",
   "metadata": {},
   "source": [
    "## Commands as expressions.\n",
    "\n",
    "```\n",
    "$(<comando>)\n",
    "```"
   ]
  },
  {
   "cell_type": "code",
   "execution_count": null,
   "metadata": {},
   "outputs": [],
   "source": [
    "echo $(ls)"
   ]
  },
  {
   "cell_type": "code",
   "execution_count": null,
   "metadata": {
    "scrolled": true
   },
   "outputs": [],
   "source": [
    "echo `ls`"
   ]
  },
  {
   "cell_type": "markdown",
   "metadata": {},
   "source": [
    "## Variables."
   ]
  },
  {
   "cell_type": "markdown",
   "metadata": {},
   "source": [
    "### Assignment of the value to a variable.\n",
    "\n",
    "Bash allows you to assign variables to expressions using the following syntax:\n",
    "\n",
    "```\n",
    "<NAME>=<expression>\n",
    "```"
   ]
  },
  {
   "cell_type": "code",
   "execution_count": null,
   "metadata": {},
   "outputs": [],
   "source": [
    "VARIABLE=1"
   ]
  },
  {
   "cell_type": "markdown",
   "metadata": {},
   "source": [
    "### Obtaining the value of a variable.\n",
    "\n",
    "```\n",
    "$<var>\n",
    "```"
   ]
  },
  {
   "cell_type": "code",
   "execution_count": null,
   "metadata": {},
   "outputs": [],
   "source": [
    "echo $VARIABLE"
   ]
  },
  {
   "cell_type": "markdown",
   "metadata": {},
   "source": [
    "### Variables and expressions.\n",
    "\n",
    "```\n",
    "<nombre><operador><expresión>\n",
    "```"
   ]
  },
  {
   "cell_type": "code",
   "execution_count": null,
   "metadata": {},
   "outputs": [],
   "source": [
    "NUMERO=12"
   ]
  },
  {
   "cell_type": "code",
   "execution_count": null,
   "metadata": {},
   "outputs": [],
   "source": [
    "echo $[$NUMERO*2]"
   ]
  },
  {
   "cell_type": "code",
   "execution_count": null,
   "metadata": {},
   "outputs": [],
   "source": [
    "MUL=$[12*$NUMERO]"
   ]
  },
  {
   "cell_type": "code",
   "execution_count": null,
   "metadata": {},
   "outputs": [],
   "source": [
    "echo $MUL"
   ]
  },
  {
   "cell_type": "markdown",
   "metadata": {},
   "source": [
    "## Arithmetic expressions with ```let```."
   ]
  },
  {
   "cell_type": "code",
   "execution_count": null,
   "metadata": {},
   "outputs": [],
   "source": [
    "let NUMERO=$NUMERO+15"
   ]
  },
  {
   "cell_type": "code",
   "execution_count": null,
   "metadata": {},
   "outputs": [],
   "source": [
    "echo $NUMERO"
   ]
  },
  {
   "cell_type": "code",
   "execution_count": null,
   "metadata": {},
   "outputs": [],
   "source": [
    "let NUMERO+=1"
   ]
  },
  {
   "cell_type": "code",
   "execution_count": null,
   "metadata": {},
   "outputs": [],
   "source": [
    "echo $NUMERO"
   ]
  },
  {
   "cell_type": "code",
   "execution_count": null,
   "metadata": {},
   "outputs": [],
   "source": [
    "let OTRO_NUMERO=\"Hola\""
   ]
  },
  {
   "cell_type": "code",
   "execution_count": null,
   "metadata": {},
   "outputs": [],
   "source": [
    "echo $OTRO_NUMERO"
   ]
  },
  {
   "cell_type": "code",
   "execution_count": null,
   "metadata": {},
   "outputs": [],
   "source": [
    "OTRO_NUMERO=\"Hola\""
   ]
  },
  {
   "cell_type": "code",
   "execution_count": null,
   "metadata": {},
   "outputs": [],
   "source": [
    "echo $OTRO_NUMERO"
   ]
  },
  {
   "cell_type": "markdown",
   "metadata": {},
   "source": [
    "## Assignment operators for arithmetic operations.\n",
    "\n",
    "* ```<a>=$<b>```.\n",
    "* ```<a>+=$<b>``` equivalent to ```<a>=$<a>+$<b>```.\n",
    "* ```<a>-=$<b>``` equivalent to ```<a>=$<a>-$<b>```.\n",
    "* ```<a>*=$<b>``` equivalent to ```<a>=$<a>*$<b>```.\n",
    "* ```<a>/=$<b>``` equivalent to ```<a>=$<a>/$<b>```.\n",
    "* ```<a>%=$<b>``` equivalent to ```<a>=$<a>%$<b>```."
   ]
  },
  {
   "cell_type": "markdown",
   "metadata": {},
   "source": [
    "## Logical expressions.\n",
    "```\n",
    "[ $<a> <operator> $b ]\n",
    "```\n",
    "\n",
    "**Note:** It is syntactically important to leave spaces between each element of the expression.\n",
    "\n",
    "**Warning:** The ```echo``` command cannot display these types of expressions."
   ]
  },
  {
   "cell_type": "code",
   "execution_count": null,
   "metadata": {
    "scrolled": true
   },
   "outputs": [],
   "source": [
    "echo $[ 11 -lt 13 ]"
   ]
  },
  {
   "cell_type": "markdown",
   "metadata": {},
   "source": [
    "## Operators."
   ]
  },
  {
   "cell_type": "markdown",
   "metadata": {},
   "source": [
    "### Evaluation operators for integers.\n",
    "\n",
    "``` [ $<var 1> <operator> $<var 2> ] ```\n",
    "\n",
    "* ```-eq``` ¿is equal ?\n",
    "* ```-ne``` ¿is different?\n",
    "* ```-gt``` ¿is greater than?\n",
    "* ```-lt``` ¿is lower than?\n",
    "* ```-ge``` ¿is greater or equal than?\n",
    "* ```-le``` ¿is lower or equal than?"
   ]
  },
  {
   "cell_type": "markdown",
   "metadata": {},
   "source": [
    "### String operations"
   ]
  },
  {
   "cell_type": "markdown",
   "metadata": {},
   "source": [
    "#### Compare operations\n",
    "\n",
    "```\n",
    "[ \"$<var 1>\" <operator> \"S<var 2>\" ]\n",
    "```\n",
    "\n",
    "* ```=``` ¿Is equals?\n",
    "* ```!-``` ¿Is different?"
   ]
  },
  {
   "cell_type": "markdown",
   "metadata": {},
   "source": [
    "#### Operadores de validación.\n",
    "\n",
    "```\n",
    "[ <operator> $<var> ]\n",
    "```\n",
    " \n",
    "* ```-z``` ¿empty string?\n",
    "* ```-n``` ¿string size is n?"
   ]
  },
  {
   "cell_type": "markdown",
   "metadata": {},
   "source": [
    "### Operadores booleanos.\n",
    "\n",
    "```\n",
    "[ <exp 1> <operator> <exp 2> ]\n",
    "```\n",
    "\n",
    "* ```-o``` *OR*.\n",
    "* ```-a``` *AND*.\n",
    "\n",
    "\n",
    "* ```!``` *NOT*"
   ]
  },
  {
   "cell_type": "markdown",
   "metadata": {},
   "source": [
    "## Condicionales."
   ]
  },
  {
   "cell_type": "markdown",
   "metadata": {},
   "source": [
    "### La estructura ```if```...```elif```...```else```...```fi```.\n",
    "\n",
    "```\n",
    "if <expression 1>; then\n",
    "...\n",
    "...\n",
    "elif <expression 2>; then\n",
    "...\n",
    "...\n",
    "elif <expression 3>; then\n",
    "...\n",
    "...\n",
    "...\n",
    "elif <expression and>; then\n",
    "...\n",
    "else\n",
    "...\n",
    "...\n",
    "fi\n",
    "```"
   ]
  },
  {
   "cell_type": "code",
   "execution_count": null,
   "metadata": {},
   "outputs": [],
   "source": [
    "T1=\"hola\"\n",
    "T2=\"adiós\"\n",
    "\n",
    "if [ \"$T1\" = \"$T2\" ]; then\n",
    "echo La expresion es true.\n",
    "else\n",
    "echo La expresion es false.\n",
    "fi"
   ]
  },
  {
   "cell_type": "markdown",
   "metadata": {},
   "source": [
    "### ```case```...```esac```.\n",
    "\n",
    "```\n",
    "case \"$<VARIABLE>\" in\n",
    "\n",
    "\"<value 1>\" ) <code 1> ;;\n",
    "\"<value 2>\" ) <code 2> ;;\n",
    "\"<value n>\" ) <code n> ;;\n",
    "esac\n",
    "```"
   ]
  },
  {
   "cell_type": "code",
   "execution_count": null,
   "metadata": {},
   "outputs": [],
   "source": [
    "VEGETAL=\"plátano\"\n",
    "\n",
    "case \"$VEGETAL\" in\n",
    "   \"manzana\") echo \"Una al día, qué alegría.\" \n",
    "   ;;\n",
    "   \"plátano\") echo \"Chí cheñol.\" \n",
    "   ;;\n",
    "   \"zanahoria\") echo \"NO es el día del plátano.\" \n",
    "   ;;\n",
    "   *) echo Eso no se come.\n",
    "   ;;\n",
    "esac"
   ]
  },
  {
   "cell_type": "markdown",
   "metadata": {},
   "source": [
    "## Iteraions."
   ]
  },
  {
   "cell_type": "markdown",
   "metadata": {},
   "source": [
    "### Command  ```for```...```in```."
   ]
  },
  {
   "cell_type": "code",
   "execution_count": null,
   "metadata": {},
   "outputs": [],
   "source": [
    "for i in $( ls ); \n",
    "do\n",
    "echo item: $i\n",
    "done"
   ]
  },
  {
   "cell_type": "markdown",
   "metadata": {},
   "source": [
    "### Command  ```seq```.\n",
    "\n",
    "This command returns a secuence\n",
    "\n",
    "```\n",
    "seq <start> ,interval> <end>\n",
    "```"
   ]
  },
  {
   "cell_type": "code",
   "execution_count": null,
   "metadata": {},
   "outputs": [],
   "source": [
    "seq 11"
   ]
  },
  {
   "cell_type": "code",
   "execution_count": null,
   "metadata": {},
   "outputs": [],
   "source": [
    "seq 5 10"
   ]
  },
  {
   "cell_type": "code",
   "execution_count": null,
   "metadata": {},
   "outputs": [],
   "source": [
    "seq 1 2 9"
   ]
  },
  {
   "cell_type": "code",
   "execution_count": null,
   "metadata": {},
   "outputs": [],
   "source": [
    "seq 20 -5 -21"
   ]
  },
  {
   "cell_type": "code",
   "execution_count": null,
   "metadata": {},
   "outputs": [],
   "source": [
    "for i in $(seq 1 10);\n",
    "        do\n",
    "                echo $i\n",
    "        done  "
   ]
  },
  {
   "cell_type": "code",
   "execution_count": null,
   "metadata": {},
   "outputs": [],
   "source": [
    "for ((i = 0 ; i < 10 ; i++));\n",
    "do\n",
    "echo $i\n",
    "done"
   ]
  },
  {
   "cell_type": "code",
   "execution_count": null,
   "metadata": {},
   "outputs": [],
   "source": [
    "for ((i = 10 ; i > 1 ; --i));\n",
    "do\n",
    "echo $i\n",
    "done"
   ]
  },
  {
   "cell_type": "markdown",
   "metadata": {},
   "source": [
    "### while.\n",
    "\n",
    "```\n",
    "while <expression>; of\n",
    "<code>\n",
    "done\n",
    "```"
   ]
  },
  {
   "cell_type": "code",
   "execution_count": null,
   "metadata": {
    "scrolled": true
   },
   "outputs": [],
   "source": [
    "let CUENTA=0\n",
    "while [ $CUENTA -lt 10 ]; do\n",
    " echo El numero es $CUENTA\n",
    "  let CUENTA=CUENTA+1 \n",
    "done"
   ]
  },
  {
   "cell_type": "markdown",
   "metadata": {},
   "source": [
    "### ```until```.\n",
    "\n",
    "```\n",
    "until <expression>; of\n",
    "<code>\n",
    "done\n",
    "```"
   ]
  },
  {
   "cell_type": "code",
   "execution_count": null,
   "metadata": {},
   "outputs": [],
   "source": [
    "let CUENTA=20\n",
    "until [  $CUENTA -lt 10 ]; do\n",
    "echo iterador $CUENTA\n",
    "let CUENTA-=1\n",
    "done"
   ]
  },
  {
   "cell_type": "markdown",
   "metadata": {},
   "source": [
    "## Scripts  *Bash*."
   ]
  },
  {
   "cell_type": "markdown",
   "metadata": {},
   "source": [
    "```\n",
    "#! /bin/bash\n",
    "<code>\n",
    "```\n",
    "\n",
    "The script should contain execution permissions"
   ]
  },
  {
   "cell_type": "markdown",
   "metadata": {},
   "source": [
    "### Execution.\n",
    "\n",
    "\n",
    "```\n",
    "<route> <arg 1> <arg 2> ... <arg n>\n",
    "```\n",
    "\n",
    "**Nota:** In case is in the same directory ```./```. "
   ]
  },
  {
   "cell_type": "markdown",
   "metadata": {},
   "source": [
    "## Capture arguments\n",
    "\n",
    "* ```$@``` Is an array that captures all arguments.\n",
    "* ```$#``` Return numbers of arguments as input to the program\n",
    "* ```$n``` Return argument number n."
   ]
  },
  {
   "cell_type": "markdown",
   "metadata": {},
   "source": [
    "**Example:**\n",
    "\n",
    "Script ```../src/argumentos.sh``` contains the following code:\n",
    "\n",
    "```bash\n",
    "#! /bin/bash\n",
    "\n",
    "echo you entered $# arguments.\n",
    "let NUMBER=0\n",
    "for i in $@;\n",
    "do\n",
    "let NUMBER+=1\n",
    "echo This is the argument $NUMBER $i\n",
    "done\n",
    "```"
   ]
  },
  {
   "cell_type": "code",
   "execution_count": null,
   "metadata": {},
   "outputs": [],
   "source": [
    "../src/argumentos.sh"
   ]
  },
  {
   "cell_type": "code",
   "execution_count": null,
   "metadata": {},
   "outputs": [],
   "source": [
    "../src/argumentos.sh uno dos tres"
   ]
  },
  {
   "cell_type": "markdown",
   "metadata": {},
   "source": [
    "## Data input with ```read```.\n",
    "\n",
    "```\n",
    "read <options> <arguments> <variable>\n",
    "```"
   ]
  },
  {
   "cell_type": "markdown",
   "metadata": {},
   "source": [
    "### Options  ```read```.\n",
    "\n",
    "* ```-p``` Permit display a text before attemping to enter any data \n",
    "* ```-e``` Waits until a return line is entered"
   ]
  },
  {
   "cell_type": "markdown",
   "metadata": {},
   "source": [
    "**Ejemplo:**\n",
    " El script ```pide_numero.sh``` contiene el siguiente código:\n",
    "\n",
    "``` bash\n",
    "#! /bin/bash\n",
    "\n",
    "read -ep \"Give me a number: \" NUMBER\n",
    "echo You typed: $NUMBER\n",
    "if  [ $NUMERO -lt 5 ]; then\n",
    "echo $NUMBER is less than 5.\n",
    "elif [ $NUMERO -gt 5 ]; then\n",
    "echo $NUMBER is greater than 5.\n",
    "else\n",
    "echo The number is 5.\n",
    "fi\n",
    "```"
   ]
  },
  {
   "cell_type": "code",
   "execution_count": null,
   "metadata": {},
   "outputs": [],
   "source": [
    "../src/pide_numero.sh"
   ]
  },
  {
   "cell_type": "markdown",
   "metadata": {},
   "source": [
    "<p style=\"text-align: center\"><a rel=\"license\" href=\"http://creativecommons.org/licenses/by/4.0/\"><img alt=\"Licencia Creative Commons\" style=\"border-width:0\" src=\"https://i.creativecommons.org/l/by/4.0/80x15.png\" /></a><br />Esta obra está bajo una <a rel=\"license\" href=\"http://creativecommons.org/licenses/by/4.0/\">Licencia Creative Commons Atribución 4.0 Internacional</a>.</p>\n",
    "<p style=\"text-align: center\">Contenido creado por: José Luis Chiquete Valdivieso. 2019.</p><p style=\"text-align: center\">Contenido modificado por: Cristian Cardoso Arellano. 2023.</p>"
   ]
  }
 ],
 "metadata": {
  "kernelspec": {
   "display_name": "Bash",
   "language": "bash",
   "name": "bash"
  },
  "language_info": {
   "codemirror_mode": "shell",
   "file_extension": ".sh",
   "mimetype": "text/x-sh",
   "name": "bash"
  }
 },
 "nbformat": 4,
 "nbformat_minor": 2
}
