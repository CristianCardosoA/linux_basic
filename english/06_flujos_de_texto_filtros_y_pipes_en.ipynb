{
 "cells": [
  {
   "cell_type": "markdown",
   "metadata": {},
   "source": [
    "# Text streams, filters and *pipes*."
   ]
  },
  {
   "cell_type": "markdown",
   "metadata": {},
   "source": [
    "## Standard input, standard output, and standard error."
   ]
  },
  {
   "cell_type": "markdown",
   "metadata": {},
   "source": [
    "### Standard input.\n",
    "\n",
    "It is known as ```stdin``` and to the user it corresponds to the signals sent by a keyboard."
   ]
  },
  {
   "cell_type": "markdown",
   "metadata": {},
   "source": [
    "### Standard output.\n",
    "\n",
    "It is known as ```stdout``` and in a terminal it corresponds to what is displayed in the monitor after executing a command."
   ]
  },
  {
   "cell_type": "markdown",
   "metadata": {},
   "source": [
    "**Example:**"
   ]
  },
  {
   "cell_type": "markdown",
   "metadata": {},
   "source": [
    "* The following cell will show the standard output resulting from executing the ```ls``` command."
   ]
  },
  {
   "cell_type": "code",
   "execution_count": 1,
   "metadata": {},
   "outputs": [
    {
     "name": "stdout",
     "output_type": "stream",
     "text": [
      "01_introduccion_en.ipynb\n",
      "02_sistemas_de_computo_en.ipynb\n",
      "03_la_linea_de_comandos_en.ipynb\n",
      "04_directorios_y_archivos_en.ipynb\n",
      "05_jerarquía_de_directorios_en.ipynb\n",
      "06_flujos_de_texto_filtros_y_pipes_en.ipynb\n",
      "07_expresiones_regulares_y_grep_en.ipynb\n",
      "08_introduccion_a_vim_en.ipynb\n",
      "09_usuarios_y_grupos_en.ipynb\n",
      "10_permisos_y_propietarios_de_archivos_en.ipynb\n",
      "11_procesos_trabajos_y_daemons_en.ipynb\n",
      "12_find_y_xargs_en.ipynb\n",
      "13_introduccion_a_bash_scripting_en.ipynb\n",
      "14_entorno_del_shell_en.ipynb\n",
      "16_kernel_modulos_y_dispositivos_en.ipynb\n",
      "18_gestion_de_servicios_con_systemd_en.ipynb\n",
      "19_chroot_y_contenedores_en.ipynb\n",
      "20_introduccion_a_redes_en.ipynb\n",
      "21_sesiones_remotas_y_transmision_de_datos_en.ipynb\n",
      "22_virtualizacion_en.ipynb\n",
      "23_compresion_de_archivos_en.ipynb\n",
      "24_distribucion_de_software_en.ipynb\n",
      "26_seguridad_basica_en.ipynb\n"
     ]
    }
   ],
   "source": [
    "ls"
   ]
  },
  {
   "cell_type": "markdown",
   "metadata": {},
   "source": [
    "### Standard error.\n",
    "\n",
    "Standard output occurs when a command is executed successfully. However, the standard error ```stderr``` corresponds to the text stream resulting from an error."
   ]
  },
  {
   "cell_type": "markdown",
   "metadata": {},
   "source": [
    "* The next cell refers to the ```wrong``` directory, which does not exist. Therefore a standard error will be displayed."
   ]
  },
  {
   "cell_type": "code",
   "execution_count": 2,
   "metadata": {},
   "outputs": [
    {
     "name": "stdout",
     "output_type": "stream",
     "text": [
      "ls: cannot access 'erroneo': No such file or directory\n"
     ]
    },
    {
     "ename": "",
     "evalue": "2",
     "output_type": "error",
     "traceback": []
    }
   ],
   "source": [
    "ls erroneo"
   ]
  },
  {
   "cell_type": "markdown",
   "metadata": {},
   "source": [
    "### Numbering of the standard input and outputs.\n",
    "\n",
    "In order to identify the standard input and output streams, they have been numbered as:\n",
    "\n",
    "* ```0``` for ``` stdin ```.\n",
    "* ```1``` for ``` stdout ```.\n",
    "* ```2``` for ``` stderr ```."
   ]
  },
  {
   "cell_type": "markdown",
   "metadata": {},
   "source": [
    "## The ```echo``` command.\n",
    "\n",
    "The ```echo```command sends a stream of text or an expression to standard output.\n",
    "\n",
    "```\n",
    "echo <options> <stream>\n",
    "```\n",
    "\n",
    "Where:\n",
    "\n",
    "* ```<stream>``` echo is a file or text stream.\n",
    "\n",
    "\n",
    "O well:\n",
    "\n",
    "```\n",
    "echo \\$(<expresion>)\n",
    "```\n",
    "\n",
    "\n",
    "Where:\n",
    "\n",
    "* ```<expression>``` is a shell expression and the result will be displayed.\n",
    "\n",
    "**Note:** The use of comillas ```\"``` or apostrophes ```'``` to delimit a text is optional."
   ]
  },
  {
   "cell_type": "markdown",
   "metadata": {},
   "source": [
    "* The following cell will display ```Hello``` to stdout."
   ]
  },
  {
   "cell_type": "code",
   "execution_count": 3,
   "metadata": {},
   "outputs": [
    {
     "name": "stdout",
     "output_type": "stream",
     "text": [
      "Hello\n"
     ]
    }
   ],
   "source": [
    "echo Hello"
   ]
  },
  {
   "cell_type": "markdown",
   "metadata": {},
   "source": [
    "* The following cells will display a multi-line message to standard output."
   ]
  },
  {
   "cell_type": "code",
   "execution_count": 4,
   "metadata": {},
   "outputs": [
    {
     "name": "stdout",
     "output_type": "stream",
     "text": [
      "Hola.\n",
      "Este es un texto de varias líneas.\n"
     ]
    }
   ],
   "source": [
    "echo \"Hola.\n",
    "Este es un texto de varias líneas.\""
   ]
  },
  {
   "cell_type": "code",
   "execution_count": 5,
   "metadata": {
    "scrolled": true
   },
   "outputs": [
    {
     "name": "stdout",
     "output_type": "stream",
     "text": [
      "Hola.\n",
      "Este es un texto de varias líneas.\n"
     ]
    }
   ],
   "source": [
    "echo 'Hola.\n",
    "Este es un texto de varias líneas.'"
   ]
  },
  {
   "cell_type": "markdown",
   "metadata": {},
   "source": [
    "### Display of special characters.\n",
    "\n",
    "The ```-e``` option of ```echo``` allows you to display special characters using ```\\``` as the escape character within a string like the following:\n",
    "\n",
    "* ```\\n``` corresponds to a line return.\n",
    "* ```\\t``` corresponds to a tab.\n",
    "* ``` \\0<digit>``` corresponds to an *ASCII* character identified by its octal code number.\n",
    "* ```\\\\``` is used to display the ```\\``` character."
   ]
  },
  {
   "cell_type": "markdown",
   "metadata": {},
   "source": [
    "**EXAMPLES:**"
   ]
  },
  {
   "cell_type": "markdown",
   "metadata": {},
   "source": [
    "* The string of characters in the next cell includes the escape character ```\\n```, but it will not be taken into account by ```echo```."
   ]
  },
  {
   "cell_type": "code",
   "execution_count": 7,
   "metadata": {},
   "outputs": [
    {
     "name": "stdout",
     "output_type": "stream",
     "text": [
      "Hola\\nMundo.\n"
     ]
    }
   ],
   "source": [
    "echo \"Hola\\nMundo.\""
   ]
  },
  {
   "cell_type": "markdown",
   "metadata": {},
   "source": [
    "* The string of characters in the next cell includes the escape characters ```\\n``` and ```\\046``` (corresponding to ```&``` in *ASCII*). By including the ```-e``` option, ```echo``` will display the escape characters."
   ]
  },
  {
   "cell_type": "code",
   "execution_count": 6,
   "metadata": {},
   "outputs": [
    {
     "name": "stdout",
     "output_type": "stream",
     "text": [
      "Hola\n",
      "Mundo & anexas.\n"
     ]
    }
   ],
   "source": [
    "echo -e \"Hola\\nMundo \\046 anexas.\""
   ]
  },
  {
   "cell_type": "markdown",
   "metadata": {},
   "source": [
    "### Display expressions and commands with ```echo```.\n",
    "\n",
    "The ```echo``` command allows you to display the result of an expression or the standard output of another command using the following syntax:\n",
    "\n",
    "```\n",
    "echo $(comando)\n",
    "```\n",
    "\n",
    "Where:\n",
    "\n",
    "* ```<command>``` is a *shell* command.\n",
    "\n",
    "O well.\n",
    "\n",
    "```\n",
    "echo $((expresión))\n",
    "```\n",
    "Where:\n",
    "\n",
    "* ```<expression>``` is an expression.\n",
    "\n",
    "**Note:** Expressions will be covered in later chapters."
   ]
  },
  {
   "cell_type": "markdown",
   "metadata": {},
   "source": [
    "**Examples:**"
   ]
  },
  {
   "cell_type": "markdown",
   "metadata": {},
   "source": [
    "* The following cell will display the output of the ```ls``` command."
   ]
  },
  {
   "cell_type": "code",
   "execution_count": 8,
   "metadata": {
    "scrolled": true
   },
   "outputs": [
    {
     "name": "stdout",
     "output_type": "stream",
     "text": [
      "01_introduccion_en.ipynb 02_sistemas_de_computo_en.ipynb 03_la_linea_de_comandos_en.ipynb 04_directorios_y_archivos_en.ipynb 05_jerarquía_de_directorios_en.ipynb 06_flujos_de_texto_filtros_y_pipes_en.ipynb 07_expresiones_regulares_y_grep_en.ipynb 08_introduccion_a_vim_en.ipynb 09_usuarios_y_grupos_en.ipynb 10_permisos_y_propietarios_de_archivos_en.ipynb 11_procesos_trabajos_y_daemons_en.ipynb 12_find_y_xargs_en.ipynb 13_introduccion_a_bash_scripting_en.ipynb 14_entorno_del_shell_en.ipynb 16_kernel_modulos_y_dispositivos_en.ipynb 18_gestion_de_servicios_con_systemd_en.ipynb 19_chroot_y_contenedores_en.ipynb 20_introduccion_a_redes_en.ipynb 21_sesiones_remotas_y_transmision_de_datos_en.ipynb 22_virtualizacion_en.ipynb 23_compresion_de_archivos_en.ipynb 24_distribucion_de_software_en.ipynb 26_seguridad_basica_en.ipynb\n"
     ]
    }
   ],
   "source": [
    "echo $(ls)"
   ]
  },
  {
   "cell_type": "markdown",
   "metadata": {},
   "source": [
    "* The following cell will display the output of the expression ```6/2```. The result will be ```1```, since by default, the *shell* uses only integers."
   ]
  },
  {
   "cell_type": "code",
   "execution_count": 9,
   "metadata": {},
   "outputs": [
    {
     "name": "stdout",
     "output_type": "stream",
     "text": [
      "1\n"
     ]
    }
   ],
   "source": [
    "echo $((6/5))"
   ]
  },
  {
   "cell_type": "markdown",
   "metadata": {},
   "source": [
    "* The following cell will display the output of the expression ```23565465 - 435435433```. The result will be ```-411869968```."
   ]
  },
  {
   "cell_type": "code",
   "execution_count": 10,
   "metadata": {},
   "outputs": [
    {
     "name": "stdout",
     "output_type": "stream",
     "text": [
      "-411869968\n"
     ]
    }
   ],
   "source": [
    "echo $((23565465 - 435435433))"
   ]
  },
  {
   "cell_type": "markdown",
   "metadata": {},
   "source": [
    "* The next cell will display the value of the ```PATH``` variable.\n",
    "\n",
    "**Note:** Environment variables will be covered later."
   ]
  },
  {
   "cell_type": "code",
   "execution_count": 11,
   "metadata": {},
   "outputs": [
    {
     "name": "stdout",
     "output_type": "stream",
     "text": [
      "/opt/oi/ls/bin:/opt/oi/ls/condabin:/home/oi/pythonista/bin:/usr/local/sbin:/usr/local/bin:/usr/sbin:/usr/bin:/sbin:/bin\n"
     ]
    }
   ],
   "source": [
    "echo $PATH"
   ]
  },
  {
   "cell_type": "markdown",
   "metadata": {},
   "source": [
    "### The *manpage* of ```echo```."
   ]
  },
  {
   "cell_type": "code",
   "execution_count": 12,
   "metadata": {},
   "outputs": [
    {
     "name": "stdout",
     "output_type": "stream",
     "text": [
      "ECHO(1)                          User Commands                         ECHO(1)\n",
      "\n",
      "NAME\n",
      "       echo - display a line of text\n",
      "\n",
      "SYNOPSIS\n",
      "       echo [SHORT-OPTION]... [STRING]...\n",
      "       echo LONG-OPTION\n",
      "\n",
      "DESCRIPTION\n",
      "       Echo the STRING(s) to standard output.\n",
      "\n",
      "       -n     do not output the trailing newline\n",
      "\n",
      "       -e     enable interpretation of backslash escapes\n",
      "\n",
      "       -E     disable interpretation of backslash escapes (default)\n",
      "\n",
      "       --help display this help and exit\n",
      "\n",
      "       --version\n",
      "              output version information and exit\n",
      "\n",
      "       If -e is in effect, the following sequences are recognized:\n",
      "\n",
      "       \\\\     backslash\n",
      "\n",
      "       \\a     alert (BEL)\n",
      "\n",
      "       \\b     backspace\n",
      "\n",
      "       \\c     produce no further output\n",
      "\n",
      "       \\e     escape\n",
      "\n",
      "       \\f     form feed\n",
      "\n",
      "       \\n     new line\n",
      "\n",
      "       \\r     carriage return\n",
      "\n",
      "       \\t     horizontal tab\n",
      "\n",
      "       \\v     vertical tab\n",
      "\n",
      "       \\0NNN  byte with octal value NNN (1 to 3 digits)\n",
      "\n",
      "       \\xHH   byte with hexadecimal value HH (1 to 2 digits)\n",
      "\n",
      "       NOTE: your shell may have its own version of echo, which usually super‐\n",
      "       sedes the version described here.  Please refer to your  shell's  docu‐\n",
      "       mentation for details about the options it supports.\n",
      "\n",
      "AUTHOR\n",
      "       Written by Brian Fox and Chet Ramey.\n",
      "\n",
      "REPORTING BUGS\n",
      "       GNU coreutils online help: <https://www.gnu.org/software/coreutils/>\n",
      "       Report any translation bugs to <https://translationproject.org/team/>\n",
      "\n",
      "COPYRIGHT\n",
      "       Copyright  ©  2020  Free Software Foundation, Inc.  License GPLv3+: GNU\n",
      "       GPL version 3 or later <https://gnu.org/licenses/gpl.html>.\n",
      "       This is free software: you are free  to  change  and  redistribute  it.\n",
      "       There is NO WARRANTY, to the extent permitted by law.\n",
      "\n",
      "SEE ALSO\n",
      "       Full documentation <https://www.gnu.org/software/coreutils/echo>\n",
      "       or available locally via: info '(coreutils) echo invocation'\n",
      "\n",
      "GNU coreutils 8.32              September 2020                         ECHO(1)\n"
     ]
    }
   ],
   "source": [
    "man echo"
   ]
  },
  {
   "cell_type": "markdown",
   "metadata": {},
   "source": [
    "## The ```cat``` command.\n",
    "\n",
    "The ```cat``` command allows you to redirect text streams both to files and to standard output and standard input."
   ]
  },
  {
   "cell_type": "markdown",
   "metadata": {},
   "source": [
    "### Display a conventional file to stdout.\n",
    "\n",
    "The ```cat``` command can extract and display the contents of a file and send it to standard output using the following syntax:\n",
    "\n",
    "```\n",
    "cat <path 1> <path 2> ... <path n> \n",
    "```\n",
    "\n",
    "Where:\n",
    "\n",
    "* ```<path i>``` is the path to a data stream.\n",
    "\n",
    "**Note:** The default data stream is ```stdin``` and you finish capturing by typing <kbd>Ctrl</kbd><kbd>D</kbd>."
   ]
  },
  {
   "cell_type": "markdown",
   "metadata": {},
   "source": [
    "**Examples:**"
   ]
  },
  {
   "cell_type": "markdown",
   "metadata": {},
   "source": [
    "* The following cell will extract and send to ```stdout``` the contents of the ```README.md``` file located in the current directory."
   ]
  },
  {
   "cell_type": "code",
   "execution_count": 15,
   "metadata": {
    "scrolled": false
   },
   "outputs": [
    {
     "name": "stdout",
     "output_type": "stream",
     "text": [
      "\n",
      "# cd101 \"Introducción a GNU/Linux desde la línea de comandos\".\n",
      "\n",
      "Notebooks de [Jupyter](https://jupyter.org) que incluyen los apuntes del curso cd101 \"Introducción a GNU/Linux desde la línea de comandos\"\n",
      "\n",
      "\n",
      "## El kernel de Bash para Jupyter.\n",
      "\n",
      "Las notebooks se deben de ejecutar utilizando el [kernel de Bash](https://github.com/takluyver/bash_kernel).\n",
      "\n",
      "\n",
      "## Clonación del repositorio.\n",
      "\n",
      "Para clonar el repositorio en su sistema de archivos local, ejecute desde una terminal:\n",
      "\n",
      "``` bash\n",
      "git clone https://github.com/CristianCardosoA/linux_basic.git\n",
      "```\n",
      "\n",
      "Las notebooks son liberadas bajo los términos de la [Licencia MIT](LICENSE).\n",
      "\n",
      "<p style=\"text-align: center\"><a rel=\"license\" href=\"http://creativecommons.org/licenses/by/4.0/\"><img alt=\"Licencia Creative Commons\" style=\"border-width:0\" src=\"https://i.creativecommons.org/l/by/4.0/80x15.png\" /></a><br />Esta obra está bajo una <a rel=\"license\" href=\"http://creativecommons.org/licenses/by/4.0/\">Licencia Creative Commons Atribución 4.0 Internacional</a>.</p>\n",
      "<p style=\"text-align: center\">Contenido creado por: José Luis Chiquete Valdivieso. 2019.</p><p style=\"text-align: center\">Contenido modificado por: Cristian Cardoso Arellano. 2023.</p>\n"
     ]
    }
   ],
   "source": [
    "cat ../README.md"
   ]
  },
  {
   "cell_type": "markdown",
   "metadata": {},
   "source": [
    "* The following cell will extract and output to ```stdout``` the contents of the ```README.md``` and ```.gitignore``` files located in the current directory."
   ]
  },
  {
   "cell_type": "code",
   "execution_count": 16,
   "metadata": {},
   "outputs": [
    {
     "name": "stdout",
     "output_type": "stream",
     "text": [
      "\n",
      "# cd101 \"Introducción a GNU/Linux desde la línea de comandos\".\n",
      "\n",
      "Notebooks de [Jupyter](https://jupyter.org) que incluyen los apuntes del curso cd101 \"Introducción a GNU/Linux desde la línea de comandos\"\n",
      "\n",
      "\n",
      "## El kernel de Bash para Jupyter.\n",
      "\n",
      "Las notebooks se deben de ejecutar utilizando el [kernel de Bash](https://github.com/takluyver/bash_kernel).\n",
      "\n",
      "\n",
      "## Clonación del repositorio.\n",
      "\n",
      "Para clonar el repositorio en su sistema de archivos local, ejecute desde una terminal:\n",
      "\n",
      "``` bash\n",
      "git clone https://github.com/CristianCardosoA/linux_basic.git\n",
      "```\n",
      "\n",
      "Las notebooks son liberadas bajo los términos de la [Licencia MIT](LICENSE).\n",
      "\n",
      "<p style=\"text-align: center\"><a rel=\"license\" href=\"http://creativecommons.org/licenses/by/4.0/\"><img alt=\"Licencia Creative Commons\" style=\"border-width:0\" src=\"https://i.creativecommons.org/l/by/4.0/80x15.png\" /></a><br />Esta obra está bajo una <a rel=\"license\" href=\"http://creativecommons.org/licenses/by/4.0/\">Licencia Creative Commons Atribución 4.0 Internacional</a>.</p>\n",
      "<p style=\"text-align: center\">Contenido creado por: José Luis Chiquete Valdivieso. 2019.</p><p style=\"text-align: center\">Contenido modificado por: Cristian Cardoso Arellano. 2023.</p>\n",
      "# Byte-compiled / optimized / DLL files\n",
      "__pycache__/\n",
      "*.py[cod]\n",
      "*$py.class\n",
      "\n",
      "# C extensions\n",
      "*.so\n",
      "\n",
      "# Distribution / packaging\n",
      ".Python\n",
      "build/\n",
      "develop-eggs/\n",
      "dist/\n",
      "downloads/\n",
      "eggs/\n",
      ".eggs/\n",
      "lib/\n",
      "lib64/\n",
      "parts/\n",
      "sdist/\n",
      "var/\n",
      "wheels/\n",
      "*.egg-info/\n",
      ".installed.cfg\n",
      "*.egg\n",
      "MANIFEST\n",
      "\n",
      "# PyInstaller\n",
      "#  Usually these files are written by a python script from a template\n",
      "#  before PyInstaller builds the exe, so as to inject date/other infos into it.\n",
      "*.manifest\n",
      "*.spec\n",
      "\n",
      "# Installer logs\n",
      "pip-log.txt\n",
      "pip-delete-this-directory.txt\n",
      "\n",
      "# Unit test / coverage reports\n",
      "htmlcov/\n",
      ".tox/\n",
      ".coverage\n",
      ".coverage.*\n",
      ".cache\n",
      "nosetests.xml\n",
      "coverage.xml\n",
      "*.cover\n",
      ".hypothesis/\n",
      ".pytest_cache/\n",
      "\n",
      "# Translations\n",
      "*.mo\n",
      "*.pot\n",
      "\n",
      "# Django stuff:\n",
      "*.log\n",
      "local_settings.py\n",
      "db.sqlite3\n",
      "\n",
      "# Flask stuff:\n",
      "instance/\n",
      ".webassets-cache\n",
      "\n",
      "# Scrapy stuff:\n",
      ".scrapy\n",
      "\n",
      "# Sphinx documentation\n",
      "docs/_build/\n",
      "\n",
      "# PyBuilder\n",
      "target/\n",
      "\n",
      "# Jupyter Notebook\n",
      ".ipynb_checkpoints\n",
      "\n",
      "# pyenv\n",
      ".python-version\n",
      "\n",
      "# celery beat schedule file\n",
      "celerybeat-schedule\n",
      "\n",
      "# SageMath parsed files\n",
      "*.sage.py\n",
      "\n",
      "# Environments\n",
      ".env\n",
      ".venv\n",
      "env/\n",
      "venv/\n",
      "ENV/\n",
      "env.bak/\n",
      "venv.bak/\n",
      "\n",
      "# Spyder project settings\n",
      ".spyderproject\n",
      ".spyproject\n",
      "\n",
      "# Rope project settings\n",
      ".ropeproject\n",
      "\n",
      "# mkdocs documentation\n",
      "/site\n",
      "\n",
      "# mypy\n",
      ".mypy_cache/\n",
      "\n",
      "saluda.sh\n"
     ]
    }
   ],
   "source": [
    "cat ../README.md ../.gitignore"
   ]
  },
  {
   "cell_type": "markdown",
   "metadata": {},
   "source": [
    "### Redirection of a system data stream.\n",
    "\n",
    "As previously mentioned, *UNIX* and *GNU/Linux* systems consider processes and devices as files, with the difference that these files are linked to a constant stream of data. This data stream can be thought of as a text stream that can be captured by ```cat```."
   ]
  },
  {
   "cell_type": "markdown",
   "metadata": {},
   "source": [
    "### Standard input redirection.\n",
    "\n",
    "\n",
    "When no data stream is indicated, the ```cat``` command will capture events from ```stdin``` and send them to ```stdout``` on pressing <kbd>iNTRO</kbd> .\n",
    "\n",
    "```\n",
    "cat\n",
    "```\n",
    "\n",
    "To stop the ```cat``` command from capturing ```stdin``` you need to type <kbd>Ctrl</kbd>+<kbd>D</kbd>."
   ]
  },
  {
   "cell_type": "markdown",
   "metadata": {},
   "source": [
    "### At the *manpage* of ```cat'''."
   ]
  },
  {
   "cell_type": "code",
   "execution_count": 13,
   "metadata": {
    "scrolled": true
   },
   "outputs": [
    {
     "name": "stdout",
     "output_type": "stream",
     "text": [
      "CAT(1)                           User Commands                          CAT(1)\n",
      "\n",
      "NAME\n",
      "       cat - concatenate files and print on the standard output\n",
      "\n",
      "SYNOPSIS\n",
      "       cat [OPTION]... [FILE]...\n",
      "\n",
      "DESCRIPTION\n",
      "       Concatenate FILE(s) to standard output.\n",
      "\n",
      "       With no FILE, or when FILE is -, read standard input.\n",
      "\n",
      "       -A, --show-all\n",
      "              equivalent to -vET\n",
      "\n",
      "       -b, --number-nonblank\n",
      "              number nonempty output lines, overrides -n\n",
      "\n",
      "       -e     equivalent to -vE\n",
      "\n",
      "       -E, --show-ends\n",
      "              display $ at end of each line\n",
      "\n",
      "       -n, --number\n",
      "              number all output lines\n",
      "\n",
      "       -s, --squeeze-blank\n",
      "              suppress repeated empty output lines\n",
      "\n",
      "       -t     equivalent to -vT\n",
      "\n",
      "       -T, --show-tabs\n",
      "              display TAB characters as ^I\n",
      "\n",
      "       -u     (ignored)\n",
      "\n",
      "       -v, --show-nonprinting\n",
      "              use ^ and M- notation, except for LFD and TAB\n",
      "\n",
      "       --help display this help and exit\n",
      "\n",
      "       --version\n",
      "              output version information and exit\n",
      "\n",
      "EXAMPLES\n",
      "       cat f - g\n",
      "              Output f's contents, then standard input, then g's contents.\n",
      "\n",
      "       cat    Copy standard input to standard output.\n",
      "\n",
      "AUTHOR\n",
      "       Written by Torbjorn Granlund and Richard M. Stallman.\n",
      "\n",
      "REPORTING BUGS\n",
      "       GNU coreutils online help: <https://www.gnu.org/software/coreutils/>\n",
      "       Report any translation bugs to <https://translationproject.org/team/>\n",
      "\n",
      "COPYRIGHT\n",
      "       Copyright  ©  2020  Free Software Foundation, Inc.  License GPLv3+: GNU\n",
      "       GPL version 3 or later <https://gnu.org/licenses/gpl.html>.\n",
      "       This is free software: you are free  to  change  and  redistribute  it.\n",
      "       There is NO WARRANTY, to the extent permitted by law.\n",
      "\n",
      "SEE ALSO\n",
      "       tac(1)\n",
      "\n",
      "       Full documentation <https://www.gnu.org/software/coreutils/cat>\n",
      "       or available locally via: info '(coreutils) cat invocation'\n",
      "\n",
      "GNU coreutils 8.32              September 2020                          CAT(1)\n"
     ]
    }
   ],
   "source": [
    "man cat"
   ]
  },
  {
   "cell_type": "markdown",
   "metadata": {},
   "source": [
    "## Redirection of a text stream to and from files."
   ]
  },
  {
   "cell_type": "markdown",
   "metadata": {},
   "source": [
    "### Send to a file with ```>```.\n",
    "\n",
    "This pipe allows you to redirect ```stdout``` to a file. If the file exists, it will be replaced.\n",
    "\n",
    "``` \n",
    "<stream> > <path>\n",
    "```\n",
    "\n",
    "Where:\n",
    "\n",
    "* ```<stream>``` is a data stream.\n",
    "* ```<path>``` is the path of the file that will be created or replaced with the content of the stream."
   ]
  },
  {
   "cell_type": "markdown",
   "metadata": {},
   "source": [
    "**Examples:**"
   ]
  },
  {
   "cell_type": "markdown",
   "metadata": {},
   "source": [
    "* The next cell will send the message that would be displayed by ```echo``` to the file ```~/greeting.txt```."
   ]
  },
  {
   "cell_type": "code",
   "execution_count": 17,
   "metadata": {},
   "outputs": [],
   "source": [
    "echo -e \"Saludos.\\nEste es un mensaje de texto.\" > ~/saludo.txt"
   ]
  },
  {
   "cell_type": "code",
   "execution_count": 18,
   "metadata": {},
   "outputs": [
    {
     "name": "stdout",
     "output_type": "stream",
     "text": [
      "Saludos.\n",
      "Este es un mensaje de texto.\n"
     ]
    }
   ],
   "source": [
    "cat ~/saludo.txt"
   ]
  },
  {
   "cell_type": "markdown",
   "metadata": {},
   "source": [
    "* The following cell will send the output of the ```ls -i``` command to the file ```~/listing.txt```."
   ]
  },
  {
   "cell_type": "code",
   "execution_count": 19,
   "metadata": {},
   "outputs": [],
   "source": [
    "ls -i > ~/listado.txt"
   ]
  },
  {
   "cell_type": "code",
   "execution_count": 20,
   "metadata": {},
   "outputs": [
    {
     "name": "stdout",
     "output_type": "stream",
     "text": [
      "4593780 01_introduccion_en.ipynb\n",
      "4593781 02_sistemas_de_computo_en.ipynb\n",
      "4593782 03_la_linea_de_comandos_en.ipynb\n",
      "4593783 04_directorios_y_archivos_en.ipynb\n",
      "4593784 05_jerarquía_de_directorios_en.ipynb\n",
      "4593785 06_flujos_de_texto_filtros_y_pipes_en.ipynb\n",
      "4593786 07_expresiones_regulares_y_grep_en.ipynb\n",
      "4593787 08_introduccion_a_vim_en.ipynb\n",
      "4593788 09_usuarios_y_grupos_en.ipynb\n",
      "4593789 10_permisos_y_propietarios_de_archivos_en.ipynb\n",
      "4593790 11_procesos_trabajos_y_daemons_en.ipynb\n",
      "4593791 12_find_y_xargs_en.ipynb\n",
      "4593792 13_introduccion_a_bash_scripting_en.ipynb\n",
      "4593793 14_entorno_del_shell_en.ipynb\n",
      "4593794 16_kernel_modulos_y_dispositivos_en.ipynb\n",
      "4593795 18_gestion_de_servicios_con_systemd_en.ipynb\n",
      "4593796 19_chroot_y_contenedores_en.ipynb\n",
      "4593797 20_introduccion_a_redes_en.ipynb\n",
      "4593798 21_sesiones_remotas_y_transmision_de_datos_en.ipynb\n",
      "4593799 22_virtualizacion_en.ipynb\n",
      "4593800 23_compresion_de_archivos_en.ipynb\n",
      "4593801 24_distribucion_de_software_en.ipynb\n",
      "4593802 26_seguridad_basica_en.ipynb\n"
     ]
    }
   ],
   "source": [
    "cat ~/listado.txt"
   ]
  },
  {
   "cell_type": "markdown",
   "metadata": {},
   "source": [
    "* The next cell will send the content extracted from the files ```~/list.txt``` and ```~/greeting.txt >``` to the file ```~/concatenated.txt```."
   ]
  },
  {
   "cell_type": "code",
   "execution_count": 21,
   "metadata": {},
   "outputs": [],
   "source": [
    "cat ~/listado.txt ~/saludo.txt > ~/concatenado.txt"
   ]
  },
  {
   "cell_type": "code",
   "execution_count": 22,
   "metadata": {},
   "outputs": [
    {
     "name": "stdout",
     "output_type": "stream",
     "text": [
      "4593780 01_introduccion_en.ipynb\n",
      "4593781 02_sistemas_de_computo_en.ipynb\n",
      "4593782 03_la_linea_de_comandos_en.ipynb\n",
      "4593783 04_directorios_y_archivos_en.ipynb\n",
      "4593784 05_jerarquía_de_directorios_en.ipynb\n",
      "4593785 06_flujos_de_texto_filtros_y_pipes_en.ipynb\n",
      "4593786 07_expresiones_regulares_y_grep_en.ipynb\n",
      "4593787 08_introduccion_a_vim_en.ipynb\n",
      "4593788 09_usuarios_y_grupos_en.ipynb\n",
      "4593789 10_permisos_y_propietarios_de_archivos_en.ipynb\n",
      "4593790 11_procesos_trabajos_y_daemons_en.ipynb\n",
      "4593791 12_find_y_xargs_en.ipynb\n",
      "4593792 13_introduccion_a_bash_scripting_en.ipynb\n",
      "4593793 14_entorno_del_shell_en.ipynb\n",
      "4593794 16_kernel_modulos_y_dispositivos_en.ipynb\n",
      "4593795 18_gestion_de_servicios_con_systemd_en.ipynb\n",
      "4593796 19_chroot_y_contenedores_en.ipynb\n",
      "4593797 20_introduccion_a_redes_en.ipynb\n",
      "4593798 21_sesiones_remotas_y_transmision_de_datos_en.ipynb\n",
      "4593799 22_virtualizacion_en.ipynb\n",
      "4593800 23_compresion_de_archivos_en.ipynb\n",
      "4593801 24_distribucion_de_software_en.ipynb\n",
      "4593802 26_seguridad_basica_en.ipynb\n",
      "Saludos.\n",
      "Este es un mensaje de texto.\n"
     ]
    }
   ],
   "source": [
    "cat ~/concatenado.txt"
   ]
  },
  {
   "cell_type": "markdown",
   "metadata": {},
   "source": [
    "* When executing the following command from a terminal, the content entered from the keyboard will be redirected to the file ````~/written.txt```` after typing <kbd>Ctrl</kbd>+<kbd>D< /kbd>.\n",
    "```\n",
    "cat > ~/escrito.txt\n",
    "```"
   ]
  },
  {
   "cell_type": "code",
   "execution_count": null,
   "metadata": {},
   "outputs": [],
   "source": [
    "cat ~/escrito.txt"
   ]
  },
  {
   "cell_type": "markdown",
   "metadata": {},
   "source": [
    "### Adding a stream to a file with ```>>```.\n",
    "\n",
    "This pipe allows you to redirect ```stdout``` to a file. If the file exists, the stream will be added to the end of the file.\n",
    "\n",
    "``` \n",
    "<stream> >> <path>\n",
    "```\n",
    "\n",
    "Where:\n",
    "\n",
    "* ```<stream>``` is a data stream.\n",
    "* ```<path>``` is the path of the file that will be created or added to by the content of the stream."
   ]
  },
  {
   "cell_type": "markdown",
   "metadata": {},
   "source": [
    "**Example:**"
   ]
  },
  {
   "cell_type": "markdown",
   "metadata": {},
   "source": [
    "* The next cell will display the content of the ```listing.txt``` file."
   ]
  },
  {
   "cell_type": "code",
   "execution_count": null,
   "metadata": {},
   "outputs": [],
   "source": [
    "cat ~/listado.txt"
   ]
  },
  {
   "cell_type": "markdown",
   "metadata": {},
   "source": [
    "* The following cell will send the output of the ```ls -l``` command to the end of the ```listing.txt``` file."
   ]
  },
  {
   "cell_type": "code",
   "execution_count": null,
   "metadata": {},
   "outputs": [],
   "source": [
    "ls -l >> ~/listado.txt"
   ]
  },
  {
   "cell_type": "markdown",
   "metadata": {},
   "source": [
    "* The next cell will display the content of the ```listing.txt``` file."
   ]
  },
  {
   "cell_type": "code",
   "execution_count": 23,
   "metadata": {
    "scrolled": true
   },
   "outputs": [
    {
     "name": "stdout",
     "output_type": "stream",
     "text": [
      "4593780 01_introduccion_en.ipynb\n",
      "4593781 02_sistemas_de_computo_en.ipynb\n",
      "4593782 03_la_linea_de_comandos_en.ipynb\n",
      "4593783 04_directorios_y_archivos_en.ipynb\n",
      "4593784 05_jerarquía_de_directorios_en.ipynb\n",
      "4593785 06_flujos_de_texto_filtros_y_pipes_en.ipynb\n",
      "4593786 07_expresiones_regulares_y_grep_en.ipynb\n",
      "4593787 08_introduccion_a_vim_en.ipynb\n",
      "4593788 09_usuarios_y_grupos_en.ipynb\n",
      "4593789 10_permisos_y_propietarios_de_archivos_en.ipynb\n",
      "4593790 11_procesos_trabajos_y_daemons_en.ipynb\n",
      "4593791 12_find_y_xargs_en.ipynb\n",
      "4593792 13_introduccion_a_bash_scripting_en.ipynb\n",
      "4593793 14_entorno_del_shell_en.ipynb\n",
      "4593794 16_kernel_modulos_y_dispositivos_en.ipynb\n",
      "4593795 18_gestion_de_servicios_con_systemd_en.ipynb\n",
      "4593796 19_chroot_y_contenedores_en.ipynb\n",
      "4593797 20_introduccion_a_redes_en.ipynb\n",
      "4593798 21_sesiones_remotas_y_transmision_de_datos_en.ipynb\n",
      "4593799 22_virtualizacion_en.ipynb\n",
      "4593800 23_compresion_de_archivos_en.ipynb\n",
      "4593801 24_distribucion_de_software_en.ipynb\n",
      "4593802 26_seguridad_basica_en.ipynb\n"
     ]
    }
   ],
   "source": [
    "cat ~/listado.txt"
   ]
  },
  {
   "cell_type": "markdown",
   "metadata": {},
   "source": [
    "### Sending a text stream from a file with ```<```.\n",
    "\n",
    "``` \n",
    "<stream> <path>\n",
    "```\n",
    "\n",
    "Where:\n",
    "\n",
    "* ```<stream>``` is a data stream.\n",
    "* ```<path>``` is the path of the file from which its contents will be extracted."
   ]
  },
  {
   "cell_type": "markdown",
   "metadata": {},
   "source": [
    "**Example:**"
   ]
  },
  {
   "cell_type": "markdown",
   "metadata": {},
   "source": [
    "The next cell will send the contents of file ```~/greeting.txt``` to the ```nl``` filter, which will be covered later in this chapter. The result is a stream in which each line of ```~/greeting.txt``` is numbered."
   ]
  },
  {
   "cell_type": "code",
   "execution_count": 24,
   "metadata": {},
   "outputs": [
    {
     "name": "stdout",
     "output_type": "stream",
     "text": [
      "     1\tSaludos.\n",
      "     2\tEste es un mensaje de texto.\n"
     ]
    }
   ],
   "source": [
    "nl < ~/saludo.txt"
   ]
  },
  {
   "cell_type": "markdown",
   "metadata": {},
   "source": [
    "### Redirection of ```stderr``` to a file.\n",
    "\n",
    "\n",
    "```\n",
    "<stream> 2> <file>\n",
    "```\n",
    "\n",
    "```\n",
    "<stream> 2>> <file>\n",
    "```"
   ]
  },
  {
   "cell_type": "markdown",
   "metadata": {},
   "source": [
    "**Example:**"
   ]
  },
  {
   "cell_type": "code",
   "execution_count": 25,
   "metadata": {},
   "outputs": [
    {
     "name": "stdout",
     "output_type": "stream",
     "text": [
      "ls: cannot access 'erróneo': No such file or directory\n"
     ]
    },
    {
     "ename": "",
     "evalue": "2",
     "output_type": "error",
     "traceback": []
    }
   ],
   "source": [
    "ls erróneo"
   ]
  },
  {
   "cell_type": "code",
   "execution_count": 26,
   "metadata": {},
   "outputs": [
    {
     "name": "stdout",
     "output_type": "stream",
     "text": [
      "cat: /home/oi/error.txt: No such file or directory\n"
     ]
    },
    {
     "ename": "",
     "evalue": "1",
     "output_type": "error",
     "traceback": []
    }
   ],
   "source": [
    "cat ~/error.txt"
   ]
  },
  {
   "cell_type": "code",
   "execution_count": 27,
   "metadata": {},
   "outputs": [
    {
     "name": "stdout",
     "output_type": "stream",
     "text": [
      "01_introduccion_en.ipynb\n",
      "02_sistemas_de_computo_en.ipynb\n",
      "03_la_linea_de_comandos_en.ipynb\n",
      "04_directorios_y_archivos_en.ipynb\n",
      "05_jerarquía_de_directorios_en.ipynb\n",
      "06_flujos_de_texto_filtros_y_pipes_en.ipynb\n",
      "07_expresiones_regulares_y_grep_en.ipynb\n",
      "08_introduccion_a_vim_en.ipynb\n",
      "09_usuarios_y_grupos_en.ipynb\n",
      "10_permisos_y_propietarios_de_archivos_en.ipynb\n",
      "11_procesos_trabajos_y_daemons_en.ipynb\n",
      "12_find_y_xargs_en.ipynb\n",
      "13_introduccion_a_bash_scripting_en.ipynb\n",
      "14_entorno_del_shell_en.ipynb\n",
      "16_kernel_modulos_y_dispositivos_en.ipynb\n",
      "18_gestion_de_servicios_con_systemd_en.ipynb\n",
      "19_chroot_y_contenedores_en.ipynb\n",
      "20_introduccion_a_redes_en.ipynb\n",
      "21_sesiones_remotas_y_transmision_de_datos_en.ipynb\n",
      "22_virtualizacion_en.ipynb\n",
      "23_compresion_de_archivos_en.ipynb\n",
      "24_distribucion_de_software_en.ipynb\n",
      "26_seguridad_basica_en.ipynb\n"
     ]
    }
   ],
   "source": [
    "ls 2> ~/error.txt"
   ]
  },
  {
   "cell_type": "code",
   "execution_count": 28,
   "metadata": {},
   "outputs": [],
   "source": [
    "cat ~/error.txt"
   ]
  },
  {
   "cell_type": "code",
   "execution_count": 29,
   "metadata": {},
   "outputs": [
    {
     "ename": "",
     "evalue": "2",
     "output_type": "error",
     "traceback": []
    }
   ],
   "source": [
    "ls erróneo 2>> ~/error.txt"
   ]
  },
  {
   "cell_type": "code",
   "execution_count": 30,
   "metadata": {},
   "outputs": [
    {
     "name": "stdout",
     "output_type": "stream",
     "text": [
      "ls: cannot access 'erróneo': No such file or directory\n"
     ]
    }
   ],
   "source": [
    "cat ~/error.txt"
   ]
  },
  {
   "cell_type": "markdown",
   "metadata": {},
   "source": [
    "### Redirection of ```stderr``` and ```stdout``` to a file.\n",
    "\n",
    "\n",
    "```\n",
    "<stream> &> <file>\n",
    "```\n",
    "\n",
    "```\n",
    "<stream> &>> <file>\n",
    "```"
   ]
  },
  {
   "cell_type": "code",
   "execution_count": 31,
   "metadata": {},
   "outputs": [
    {
     "ename": "",
     "evalue": "2",
     "output_type": "error",
     "traceback": []
    }
   ],
   "source": [
    "ls erroneo &> ~/mensaje.txt"
   ]
  },
  {
   "cell_type": "code",
   "execution_count": 32,
   "metadata": {},
   "outputs": [
    {
     "name": "stdout",
     "output_type": "stream",
     "text": [
      "ls: cannot access 'erroneo': No such file or directory\n"
     ]
    }
   ],
   "source": [
    "cat ~/mensaje.txt"
   ]
  },
  {
   "cell_type": "code",
   "execution_count": 33,
   "metadata": {},
   "outputs": [],
   "source": [
    "ls ~ &>> ~/mensaje.txt"
   ]
  },
  {
   "cell_type": "code",
   "execution_count": 34,
   "metadata": {},
   "outputs": [
    {
     "name": "stdout",
     "output_type": "stream",
     "text": [
      "ls: cannot access 'erroneo': No such file or directory\n",
      "archivo\n",
      "con\n",
      "concatenado.txt\n",
      "directorio con espacios\n",
      "ejemplo_1\n",
      "ejemplo_2\n",
      "erroneo\n",
      "error.txt\n",
      "espacios\n",
      "jupyter.sh\n",
      "listado.txt\n",
      "mensaje.txt\n",
      "objeto\n",
      "otro_archivo\n",
      "py-deploy\n",
      "pythonista\n",
      "saludo.txt\n",
      "~tilde\n",
      "tilde\n"
     ]
    }
   ],
   "source": [
    "cat ~/mensaje.txt"
   ]
  },
  {
   "cell_type": "markdown",
   "metadata": {},
   "source": [
    "## Filters."
   ]
  },
  {
   "cell_type": "markdown",
   "metadata": {},
   "source": [
    "Filters are applications with the ability to process (modify or analyze) the text stream it receives, resulting in another text stream."
   ]
  },
  {
   "cell_type": "markdown",
   "metadata": {},
   "source": [
    "### Display text in a window using ```less``` and ```more```.\n",
    "\n",
    "The ```less``` filter allows you to use a ```man```-like window in a terminal.\n",
    "\n",
    "\n",
    "**Examples:**\n",
    "\n",
    "* Open a Jupyter terminal and run the command ```less cd101/README.md```.\n",
    "\n",
    "* Open a Jupyter terminal and run the ```more cd101/README.md``` command.\n",
    "\n",
    "**Use:**\n",
    "To exit the window, use the <kbd>q</kbd> key."
   ]
  },
  {
   "cell_type": "markdown",
   "metadata": {},
   "source": [
    "#### The *manpage* of ```less```."
   ]
  },
  {
   "cell_type": "code",
   "execution_count": 35,
   "metadata": {},
   "outputs": [
    {
     "name": "stdout",
     "output_type": "stream",
     "text": [
      "LESS(1)                     General Commands Manual                    LESS(1)\n",
      "\n",
      "NAME\n",
      "       less - opposite of more\n",
      "\n",
      "SYNOPSIS\n",
      "       less -?\n",
      "       less --help\n",
      "       less -V\n",
      "       less --version\n",
      "       less [-[+]aABcCdeEfFgGiIJKLmMnNqQrRsSuUVwWX~]\n",
      "            [-b space] [-h lines] [-j line] [-k keyfile]\n",
      "            [-{oO} logfile] [-p pattern] [-P prompt] [-t tag]\n",
      "            [-T tagsfile] [-x tab,...] [-y lines] [-[z] lines]\n",
      "            [-# shift] [+[+]cmd] [--] [filename]...\n",
      "       (See  the  OPTIONS section for alternate option syntax with long option\n",
      "       names.)\n",
      "\n",
      "DESCRIPTION\n",
      "       Less is a program similar to more (1), but it has many  more  features.\n",
      "       Less  does  not  have to read the entire input file before starting, so\n",
      "       with large input files it starts up faster than text  editors  like  vi\n",
      "       (1).  Less uses termcap (or terminfo on some systems), so it can run on\n",
      "       a variety of terminals.  There is even  limited  support  for  hardcopy\n",
      "       terminals.   (On  a hardcopy terminal, lines which should be printed at\n",
      "       the top of the screen are prefixed with a caret.)\n",
      "\n",
      "       Commands are based on both more and vi.  Commands may be preceded by  a\n",
      "       decimal number, called N in the descriptions below.  The number is used\n",
      "       by some commands, as indicated.\n",
      "\n",
      "COMMANDS\n",
      "       In the following descriptions, ^X means control-X.  ESC stands for  the\n",
      "       ESCAPE  key;  for  example  ESC-v means the two character sequence \"ES‐\n",
      "       CAPE\", then \"v\".\n",
      "\n",
      "       h or H Help: display a summary of these commands.  If  you  forget  all\n",
      "              the other commands, remember this one.\n",
      "\n",
      "       SPACE or ^V or f or ^F\n",
      "              Scroll  forward  N  lines, default one window (see option -z be‐\n",
      "              low).  If N is more than the screen size, only the final screen‐\n",
      "              ful  is  displayed.   Warning:  some systems use ^V as a special\n",
      "              literalization character.\n",
      "\n",
      "       z      Like SPACE, but if N is specified, it  becomes  the  new  window\n",
      "              size.\n",
      "\n",
      "       ESC-SPACE\n",
      "              Like  SPACE,  but  scrolls  a full screenful, even if it reaches\n",
      "              end-of-file in the process.\n",
      "\n",
      "       ENTER or RETURN or ^N or e or ^E or j or ^J\n",
      "              Scroll forward N lines, default 1.  The entire N lines are  dis‐\n",
      "              played, even if N is more than the screen size.\n",
      "\n",
      "       d or ^D\n",
      "              Scroll forward N lines, default one half of the screen size.  If\n",
      "              N is specified, it becomes the new default for subsequent d  and\n",
      "              u commands.\n",
      "\n",
      "       b or ^B or ESC-v\n",
      "              Scroll  backward  N lines, default one window (see option -z be‐\n",
      "              low).  If N is more than the screen size, only the final screen‐\n",
      "              ful is displayed.\n",
      "\n",
      "       w      Like  ESC-v,  but  if  N is specified, it becomes the new window\n",
      "              size.\n",
      "\n",
      "       y or ^Y or ^P or k or ^K\n",
      "              Scroll backward N lines, default 1.  The entire N lines are dis‐\n",
      "              played,  even  if N is more than the screen size.  Warning: some\n",
      "              systems use ^Y as a special job control character.\n",
      "\n",
      "       u or ^U\n",
      "              Scroll backward N lines, default one half of  the  screen  size.\n",
      "              If  N  is specified, it becomes the new default for subsequent d\n",
      "              and u commands.\n",
      "\n",
      "       J      Like j, but continues to scroll beyond the end of the file.\n",
      "\n",
      "       K or Y Like k, but continues to scroll  beyond  the  beginning  of  the\n",
      "              file.\n",
      "\n",
      "       ESC-) or RIGHTARROW\n",
      "              Scroll  horizontally right N characters, default half the screen\n",
      "              width (see the -# option).  If a number N is specified,  it  be‐\n",
      "              comes  the default for future RIGHTARROW and LEFTARROW commands.\n",
      "              While the text is scrolled, it acts  as  though  the  -S  option\n",
      "              (chop lines) were in effect.\n",
      "\n",
      "       ESC-( or LEFTARROW\n",
      "              Scroll  horizontally  left N characters, default half the screen\n",
      "              width (see the -# option).  If a number N is specified,  it  be‐\n",
      "              comes the default for future RIGHTARROW and LEFTARROW commands.\n",
      "\n",
      "       ESC-} or ^RIGHTARROW\n",
      "              Scroll  horizontally  right  to show the end of the longest dis‐\n",
      "              played line.\n",
      "\n",
      "       ESC-{ or ^LEFTARROW\n",
      "              Scroll horizontally left back to the first column.\n",
      "\n",
      "       r or ^R or ^L\n",
      "              Repaint the screen.\n",
      "\n",
      "       R      Repaint the screen, discarding any buffered  input.   Useful  if\n",
      "              the file is changing while it is being viewed.\n",
      "\n",
      "       F      Scroll  forward, and keep trying to read when the end of file is\n",
      "              reached.  Normally this command would be used  when  already  at\n",
      "              the  end of the file.  It is a way to monitor the tail of a file\n",
      "              which is growing while it is being  viewed.   (The  behavior  is\n",
      "              similar to the \"tail -f\" command.)\n",
      "\n",
      "       ESC-F  Like  F,  but  as soon as a line is found which matches the last\n",
      "              search pattern, the terminal bell is rung and forward  scrolling\n",
      "              stops.\n",
      "\n",
      "       g or < or ESC-<\n",
      "              Go to line N in the file, default 1 (beginning of file).  (Warn‐\n",
      "              ing: this may be slow if N is large.)\n",
      "\n",
      "       G or > or ESC->\n",
      "              Go to line N in the file, default the end of the  file.   (Warn‐\n",
      "              ing:  this  may  be slow if N is large, or if N is not specified\n",
      "              and standard input, rather than a file, is being read.)\n",
      "\n",
      "       ESC-G  Same as G, except if no number N is specified and the  input  is\n",
      "              standard  input,  goes  to  the  last  line  which  is currently\n",
      "              buffered.\n",
      "\n",
      "       p or % Go to a position N percent into the file.  N should be between 0\n",
      "              and 100, and may contain a decimal point.\n",
      "\n",
      "       P      Go to the line containing byte offset N in the file.\n",
      "\n",
      "       {      If a left curly bracket appears in the top line displayed on the\n",
      "              screen, the { command  will  go  to  the  matching  right  curly\n",
      "              bracket.   The matching right curly bracket is positioned on the\n",
      "              bottom line of the screen.  If there is more than one left curly\n",
      "              bracket  on  the top line, a number N may be used to specify the\n",
      "              N-th bracket on the line.\n",
      "\n",
      "       }      If a right curly bracket appears in the bottom line displayed on\n",
      "              the  screen,  the  }  command will go to the matching left curly\n",
      "              bracket.  The matching left curly bracket is positioned  on  the\n",
      "              top  line  of the screen.  If there is more than one right curly\n",
      "              bracket on the top line, a number N may be used to  specify  the\n",
      "              N-th bracket on the line.\n",
      "\n",
      "       (      Like {, but applies to parentheses rather than curly brackets.\n",
      "\n",
      "       )      Like }, but applies to parentheses rather than curly brackets.\n",
      "\n",
      "       [      Like  {, but applies to square brackets rather than curly brack‐\n",
      "              ets.\n",
      "\n",
      "       ]      Like }, but applies to square brackets rather than curly  brack‐\n",
      "              ets.\n",
      "\n",
      "       ESC-^F Followed  by two characters, acts like {, but uses the two char‐\n",
      "              acters as open and close brackets, respectively.   For  example,\n",
      "              \"ESC  ^F < >\" could be used to go forward to the > which matches\n",
      "              the < in the top displayed line.\n",
      "\n",
      "       ESC-^B Followed by two characters, acts like }, but uses the two  char‐\n",
      "              acters  as  open and close brackets, respectively.  For example,\n",
      "              \"ESC ^B < >\" could be used to go backward to the < which matches\n",
      "              the > in the bottom displayed line.\n",
      "\n",
      "       m      Followed  by  any lowercase or uppercase letter, marks the first\n",
      "              displayed line with that letter.  If the status  column  is  en‐\n",
      "              abled  via  the  -J  option,  the status column shows the marked\n",
      "              line.\n",
      "\n",
      "       M      Acts like m, except the last displayed  line  is  marked  rather\n",
      "              than the first displayed line.\n",
      "\n",
      "       '      (Single  quote.)  Followed by any lowercase or uppercase letter,\n"
     ]
    },
    {
     "name": "stdout",
     "output_type": "stream",
     "text": [
      "              returns to the position which was previously  marked  with  that\n",
      "              letter.   Followed by another single quote, returns to the posi‐\n",
      "              tion at which the last \"large\" movement  command  was  executed.\n",
      "              Followed  by a ^ or $, jumps to the beginning or end of the file\n",
      "              respectively.  Marks are preserved when a new file is  examined,\n",
      "              so the ' command can be used to switch between input files.\n",
      "\n",
      "       ^X^X   Same as single quote.\n",
      "\n",
      "       ESC-m  Followed  by  any lowercase or uppercase letter, clears the mark\n",
      "              identified by that letter.\n",
      "\n",
      "       /pattern\n",
      "              Search forward in the file for the N-th line containing the pat‐\n",
      "              tern.  N defaults to 1.  The pattern is a regular expression, as\n",
      "              recognized by the regular expression library  supplied  by  your\n",
      "              system.   The search starts at the first line displayed (but see\n",
      "              the -a and -j options, which change this).\n",
      "\n",
      "              Certain characters are special if entered at  the  beginning  of\n",
      "              the  pattern;  they modify the type of search rather than become\n",
      "              part of the pattern:\n",
      "\n",
      "              ^N or !\n",
      "                     Search for lines which do NOT match the pattern.\n",
      "\n",
      "              ^E or *\n",
      "                     Search multiple files.  That is, if  the  search  reaches\n",
      "                     the  END of the current file without finding a match, the\n",
      "                     search continues in the next file  in  the  command  line\n",
      "                     list.\n",
      "\n",
      "              ^F or @\n",
      "                     Begin  the  search at the first line of the FIRST file in\n",
      "                     the command line list, regardless of  what  is  currently\n",
      "                     displayed  on  the screen or the settings of the -a or -j\n",
      "                     options.\n",
      "\n",
      "              ^K     Highlight any text which matches the pattern on the  cur‐\n",
      "                     rent screen, but don't move to the first match (KEEP cur‐\n",
      "                     rent position).\n",
      "\n",
      "              ^R     Don't interpret regular expression  metacharacters;  that\n",
      "                     is, do a simple textual comparison.\n",
      "\n",
      "       ?pattern\n",
      "              Search  backward  in  the  file for the N-th line containing the\n",
      "              pattern.  The search starts at the last line displayed (but  see\n",
      "              the -a and -j options, which change this).\n",
      "\n",
      "              Certain characters are special as in the / command:\n",
      "\n",
      "              ^N or !\n",
      "                     Search for lines which do NOT match the pattern.\n",
      "\n",
      "              ^E or *\n",
      "                     Search  multiple  files.   That is, if the search reaches\n",
      "                     the beginning of  the  current  file  without  finding  a\n",
      "                     match,  the  search continues in the previous file in the\n",
      "                     command line list.\n",
      "\n",
      "              ^F or @\n",
      "                     Begin the search at the last line of the last file in the\n",
      "                     command  line  list, regardless of what is currently dis‐\n",
      "                     played on the screen or the settings of the -a or -j  op‐\n",
      "                     tions.\n",
      "\n",
      "              ^K     As in forward searches.\n",
      "\n",
      "              ^R     As in forward searches.\n",
      "\n",
      "       ESC-/pattern\n",
      "              Same as \"/*\".\n",
      "\n",
      "       ESC-?pattern\n",
      "              Same as \"?*\".\n",
      "\n",
      "       n      Repeat  previous  search, for N-th line containing the last pat‐\n",
      "              tern.  If the previous search was modified by ^N, the search  is\n",
      "              made  for the N-th line NOT containing the pattern.  If the pre‐\n",
      "              vious search was modified by ^E, the  search  continues  in  the\n",
      "              next  (or  previous)  file if not satisfied in the current file.\n",
      "              If the previous search was modified by ^R, the  search  is  done\n",
      "              without  using  regular  expressions.  There is no effect if the\n",
      "              previous search was modified by ^F or ^K.\n",
      "\n",
      "       N      Repeat previous search, but in the reverse direction.\n",
      "\n",
      "       ESC-n  Repeat previous search, but crossing file boundaries.   The  ef‐\n",
      "              fect is as if the previous search were modified by *.\n",
      "\n",
      "       ESC-N  Repeat  previous search, but in the reverse direction and cross‐\n",
      "              ing file boundaries.\n",
      "\n",
      "       ESC-u  Undo search highlighting.   Turn  off  highlighting  of  strings\n",
      "              matching the current search pattern.  If highlighting is already\n",
      "              off because of a previous ESC-u command, turn highlighting  back\n",
      "              on.   Any  search  command  will also turn highlighting back on.\n",
      "              (Highlighting can also be disabled by toggling the -G option; in\n",
      "              that case search commands do not turn highlighting back on.)\n",
      "\n",
      "       &pattern\n",
      "              Display  only  lines which match the pattern; lines which do not\n",
      "              match the pattern are not displayed.  If pattern  is  empty  (if\n",
      "              you  type  &  immediately  followed  by ENTER), any filtering is\n",
      "              turned off, and all lines are displayed.  While filtering is  in\n",
      "              effect,  an  ampersand  is  displayed  at  the  beginning of the\n",
      "              prompt, as a reminder that some lines in the file may be hidden.\n",
      "\n",
      "              Certain characters are special as in the / command:\n",
      "\n",
      "              ^N or !\n",
      "                     Display only lines which do NOT match the pattern.\n",
      "\n",
      "              ^R     Don't interpret regular expression  metacharacters;  that\n",
      "                     is, do a simple textual comparison.\n",
      "\n",
      "       :e [filename]\n",
      "              Examine  a  new file.  If the filename is missing, the \"current\"\n",
      "              file (see the :n and :p commands below) from the list  of  files\n",
      "              in  the  command line is re-examined.  A percent sign (%) in the\n",
      "              filename is replaced by the name of the current file.   A  pound\n",
      "              sign  (#)  is  replaced  by  the name of the previously examined\n",
      "              file.  However, two consecutive percent  signs  are  simply  re‐\n",
      "              placed  with  a single percent sign.  This allows you to enter a\n",
      "              filename that contains a percent sign in the  name.   Similarly,\n",
      "              two  consecutive  pound  signs  are replaced with a single pound\n",
      "              sign.  The filename is inserted into the command  line  list  of\n",
      "              files  so  that it can be seen by subsequent :n and :p commands.\n",
      "              If the filename consists of several files, they are all inserted\n",
      "              into  the  list  of files and the first one is examined.  If the\n",
      "              filename contains one or more spaces, the entire filename should\n",
      "              be enclosed in double quotes (also see the -\" option).\n",
      "\n",
      "       ^X^V or E\n",
      "              Same  as :e.  Warning: some systems use ^V as a special literal‐\n",
      "              ization character.  On such systems, you may not be able to  use\n",
      "              ^V.\n",
      "\n",
      "       :n     Examine  the next file (from the list of files given in the com‐\n",
      "              mand line).  If a number N is specified, the N-th next  file  is\n",
      "              examined.\n",
      "\n",
      "       :p     Examine the previous file in the command line list.  If a number\n",
      "              N is specified, the N-th previous file is examined.\n",
      "\n",
      "       :x     Examine the first file in the command line list.  If a number  N\n",
      "              is specified, the N-th file in the list is examined.\n",
      "\n",
      "       :d     Remove the current file from the list of files.\n",
      "\n",
      "       t      Go  to the next tag, if there were more than one matches for the\n",
      "              current tag.  See the -t option for more details about tags.\n",
      "\n",
      "       T      Go to the previous tag, if there were more than one matches  for\n",
      "              the current tag.\n",
      "\n",
      "       = or ^G or :f\n",
      "              Prints  some  information about the file being viewed, including\n",
      "              its name and the line number and byte offset of the bottom  line\n",
      "              being  displayed.  If possible, it also prints the length of the\n",
      "              file, the number of lines in the file and  the  percent  of  the\n",
      "              file above the last displayed line.\n",
      "\n",
      "       -      Followed  by one of the command line option letters (see OPTIONS\n"
     ]
    },
    {
     "name": "stdout",
     "output_type": "stream",
     "text": [
      "              below), this will change the setting of that option and print  a\n",
      "              message  describing the new setting.  If a ^P (CONTROL-P) is en‐\n",
      "              tered immediately after the dash, the setting of the  option  is\n",
      "              changed  but  no message is printed.  If the option letter has a\n",
      "              numeric value (such as -b or -h), or a string value (such as  -P\n",
      "              or  -t), a new value may be entered after the option letter.  If\n",
      "              no new value is entered, a message describing the  current  set‐\n",
      "              ting is printed and nothing is changed.\n",
      "\n",
      "       --     Like  the  -  command, but takes a long option name (see OPTIONS\n",
      "              below) rather than a single option letter.  You must press ENTER\n",
      "              or  RETURN after typing the option name.  A ^P immediately after\n",
      "              the second dash suppresses printing of a message describing  the\n",
      "              new setting, as in the - command.\n",
      "\n",
      "       -+     Followed by one of the command line option letters this will re‐\n",
      "              set the option to its default setting and print  a  message  de‐\n",
      "              scribing  the  new  setting.   (The  \"-+X\" command does the same\n",
      "              thing as \"-+X\" on the command line.)  This  does  not  work  for\n",
      "              string-valued options.\n",
      "\n",
      "       --+    Like  the -+ command, but takes a long option name rather than a\n",
      "              single option letter.\n",
      "\n",
      "       -!     Followed by one of the command line option  letters,  this  will\n",
      "              reset  the  option  to the \"opposite\" of its default setting and\n",
      "              print a message describing the new setting.  This does not  work\n",
      "              for numeric or string-valued options.\n",
      "\n",
      "       --!    Like  the -! command, but takes a long option name rather than a\n",
      "              single option letter.\n",
      "\n",
      "       _      (Underscore.)  Followed by one of the command line  option  let‐\n",
      "              ters,  this  will print a message describing the current setting\n",
      "              of that option.  The setting of the option is not changed.\n",
      "\n",
      "       __     (Double underscore.)  Like the _ (underscore) command, but takes\n",
      "              a long option name rather than a single option letter.  You must\n",
      "              press ENTER or RETURN after typing the option name.\n",
      "\n",
      "       +cmd   Causes the specified cmd to be executed each time a new file  is\n",
      "              examined.  For example, +G causes less to initially display each\n",
      "              file starting at the end rather than the beginning.\n",
      "\n",
      "       V      Prints the version number of less being run.\n",
      "\n",
      "       q or Q or :q or :Q or ZZ\n",
      "              Exits less.\n",
      "\n",
      "       The following four commands may or may not be valid, depending on  your\n",
      "       particular installation.\n",
      "\n",
      "       v      Invokes  an  editor  to edit the current file being viewed.  The\n",
      "              editor is taken from the environment variable VISUAL if defined,\n",
      "              or  EDITOR if VISUAL is not defined, or defaults to \"vi\" if nei‐\n",
      "              ther VISUAL nor EDITOR is defined.  See also the  discussion  of\n",
      "              LESSEDIT under the section on PROMPTS below.\n",
      "\n",
      "       ! shell-command\n",
      "              Invokes  a shell to run the shell-command given.  A percent sign\n",
      "              (%) in the command is replaced by the name of the current  file.\n",
      "              A pound sign (#) is replaced by the name of the previously exam‐\n",
      "              ined file.  \"!!\" repeats the last shell command.   \"!\"  with  no\n",
      "              shell  command  simply  invokes  a  shell.  On Unix systems, the\n",
      "              shell is taken from the environment variable SHELL, or  defaults\n",
      "              to  \"sh\".   On  MS-DOS and OS/2 systems, the shell is the normal\n",
      "              command processor.\n",
      "\n",
      "       | <m> shell-command\n",
      "              <m> represents any mark letter.  Pipes a section  of  the  input\n",
      "              file  to the given shell command.  The section of the file to be\n",
      "              piped is between the position marked by the letter and the  cur‐\n",
      "              rent  screen.  The entire current screen is included, regardless\n",
      "              of whether the marked position is before or  after  the  current\n",
      "              screen.   <m> may also be ^ or $ to indicate beginning or end of\n",
      "              file respectively.  If <m> is . or newline, the  current  screen\n",
      "              is piped.\n",
      "\n",
      "       s filename\n",
      "              Save  the  input  to  a file.  This only works if the input is a\n",
      "              pipe, not an ordinary file.\n",
      "\n",
      "OPTIONS\n",
      "       Command line options are described below.  Most options may be  changed\n",
      "       while less is running, via the \"-\" command.\n",
      "\n",
      "       Most  options  may be given in one of two forms: either a dash followed\n",
      "       by a single letter, or two dashes followed by a long  option  name.   A\n",
      "       long  option name may be abbreviated as long as the abbreviation is un‐\n",
      "       ambiguous.  For example, --quit-at-eof may be abbreviated  --quit,  but\n",
      "       not --qui, since both --quit-at-eof and --quiet begin with --qui.  Some\n",
      "       long option names are in uppercase, such as --QUIT-AT-EOF, as  distinct\n",
      "       from  --quit-at-eof.  Such option names need only have their first let‐\n",
      "       ter capitalized; the remainder of the name may be in either case.   For\n",
      "       example, --Quit-at-eof is equivalent to --QUIT-AT-EOF.\n",
      "\n",
      "       Options are also taken from the environment variable \"LESS\".  For exam‐\n",
      "       ple, to avoid typing \"less -options ...\" each time less is invoked, you\n",
      "       might tell csh:\n",
      "\n",
      "       setenv LESS \"-options\"\n",
      "\n",
      "       or if you use sh:\n",
      "\n",
      "       LESS=\"-options\"; export LESS\n",
      "\n",
      "       On  MS-DOS,  you don't need the quotes, but you should replace any per‐\n",
      "       cent signs in the options string by double percent signs.\n",
      "\n",
      "       The environment variable is parsed before the command line, so  command\n",
      "       line  options override the LESS environment variable.  If an option ap‐\n",
      "       pears in the LESS variable, it can be reset to its default value on the\n",
      "       command line by beginning the command line option with \"-+\".\n",
      "\n",
      "       Some  options  like -k or -D require a string to follow the option let‐\n",
      "       ter.  The string for that option is considered to  end  when  a  dollar\n",
      "       sign  ($)  is found.  For example, you can set two -D options on MS-DOS\n",
      "       like this:\n",
      "\n",
      "       LESS=\"Dn9.1$Ds4.1\"\n",
      "\n",
      "       If the --use-backslash option appears earlier in the  options,  then  a\n",
      "       dollar  sign or backslash may be included literally in an option string\n",
      "       by preceding it with a backslash.  If the --use-backslash option is not\n",
      "       in  effect, then backslashes are not treated specially, and there is no\n",
      "       way to include a dollar sign in the option string.\n",
      "\n",
      "       -? or --help\n",
      "              This option displays a summary of the commands accepted by  less\n",
      "              (the  same  as the h command).  (Depending on how your shell in‐\n",
      "              terprets the question mark, it may be  necessary  to  quote  the\n",
      "              question mark, thus: \"-\\?\".)\n",
      "\n",
      "       -a or --search-skip-screen\n",
      "              By  default,  forward searches start at the top of the displayed\n",
      "              screen and backwards searches start at the bottom  of  the  dis‐\n",
      "              played  screen (except for repeated searches invoked by the n or\n",
      "              N commands, which start after or before the  \"target\"  line  re‐\n",
      "              spectively;  see  the -j option for more about the target line).\n",
      "              The -a option causes forward searches to instead  start  at  the\n",
      "              bottom  of  the screen and backward searches to start at the top\n",
      "              of the screen, thus skipping all lines displayed on the screen.\n",
      "\n",
      "       -A or --SEARCH-SKIP-SCREEN\n",
      "              Causes all forward searches (not just non-repeated searches)  to\n",
      "              start  just  after the target line, and all backward searches to\n",
      "              start just before the target line.  Thus, forward searches  will\n",
      "              skip part of the displayed screen (from the first line up to and\n",
      "              including the target line).  Similarly backwards  searches  will\n",
      "              skip the displayed screen from the last line up to and including\n",
      "              the target line.  This was the default behavior in less versions\n"
     ]
    },
    {
     "name": "stdout",
     "output_type": "stream",
     "text": [
      "              prior to 441.\n",
      "\n",
      "       -bn or --buffers=n\n",
      "              Specifies  the  amount  of  buffer  space less will use for each\n",
      "              file, in units of kilobytes (1024 bytes).  By  default  64 K  of\n",
      "              buffer  space  is used for each file (unless the file is a pipe;\n",
      "              see the -B option).  The -b  option  specifies  instead  that  n\n",
      "              kilobytes of buffer space should be used for each file.  If n is\n",
      "              -1, buffer space is unlimited; that is, the entire file  can  be\n",
      "              read into memory.\n",
      "\n",
      "       -B or --auto-buffers\n",
      "              By default, when data is read from a pipe, buffers are allocated\n",
      "              automatically as needed.  If a large amount of data is read from\n",
      "              the  pipe,  this  can cause a large amount of memory to be allo‐\n",
      "              cated.  The -B option disables this automatic allocation of buf‐\n",
      "              fers for pipes, so that only 64 K (or the amount of space speci‐\n",
      "              fied by the -b option) is used for the pipe.  Warning: use of -B\n",
      "              can  result  in  erroneous display, since only the most recently\n",
      "              viewed part of the piped data is kept  in  memory;  any  earlier\n",
      "              data is lost.\n",
      "\n",
      "       -c or --clear-screen\n",
      "              Causes  full  screen  repaints  to  be painted from the top line\n",
      "              down.  By default, full screen repaints are  done  by  scrolling\n",
      "              from the bottom of the screen.\n",
      "\n",
      "       -C or --CLEAR-SCREEN\n",
      "              Same as -c, for compatibility with older versions of less.\n",
      "\n",
      "       -d or --dumb\n",
      "              The -d option suppresses the error message normally displayed if\n",
      "              the terminal is dumb; that is, lacks some important  capability,\n",
      "              such as the ability to clear the screen or scroll backward.  The\n",
      "              -d option does not otherwise change the behavior of  less  on  a\n",
      "              dumb terminal.\n",
      "\n",
      "       -Dxcolor or --color=xcolor\n",
      "              [MS-DOS only] Sets the color of the text displayed.  x is a sin‐\n",
      "              gle character which selects the type of text whose color is  be‐\n",
      "              ing  set:  n=normal,  s=standout, d=bold, u=underlined, k=blink.\n",
      "              color is a pair of numbers separated by  a  period.   The  first\n",
      "              number  selects  the foreground color and the second selects the\n",
      "              background color of the text.  A single number N is the same  as\n",
      "              N.M,  where  M  is  the  normal background color.  The color may\n",
      "              start or end with u to use underline (with the normal color,  if\n",
      "              by  itself),  if  the  system supports it (Windows only).  x may\n",
      "              also be a to toggle strict ANSI sequence rendering (SGR mode).\n",
      "\n",
      "       -e or --quit-at-eof\n",
      "              Causes less to automatically exit the  second  time  it  reaches\n",
      "              end-of-file.   By  default, the only way to exit less is via the\n",
      "              \"q\" command.\n",
      "\n",
      "       -E or --QUIT-AT-EOF\n",
      "              Causes less to automatically exit the first time it reaches end-\n",
      "              of-file.\n",
      "\n",
      "       -f or --force\n",
      "              Forces non-regular files to be opened.  (A non-regular file is a\n",
      "              directory or a device special file.)  Also suppresses the  warn‐\n",
      "              ing message when a binary file is opened.  By default, less will\n",
      "              refuse to open non-regular files.  Note that some operating sys‐\n",
      "              tems will not allow directories to be read, even if -f is set.\n",
      "\n",
      "       -F or --quit-if-one-screen\n",
      "              Causes less to automatically exit if the entire file can be dis‐\n",
      "              played on the first screen.\n",
      "\n",
      "       -g or --hilite-search\n",
      "              Normally, less will highlight ALL strings which match  the  last\n",
      "              search  command.   The  -g option changes this behavior to high‐\n",
      "              light only the particular string which was  found  by  the  last\n",
      "              search command.  This can cause less to run somewhat faster than\n",
      "              the default.\n",
      "\n",
      "       -G or --HILITE-SEARCH\n",
      "              The -G option suppresses all highlighting of  strings  found  by\n",
      "              search commands.\n",
      "\n",
      "       -hn or --max-back-scroll=n\n",
      "              Specifies  a  maximum number of lines to scroll backward.  If it\n",
      "              is necessary to scroll backward more than n lines, the screen is\n",
      "              repainted in a forward direction instead.  (If the terminal does\n",
      "              not have the ability to scroll backward, -h0 is implied.)\n",
      "\n",
      "       -i or --ignore-case\n",
      "              Causes searches to ignore case; that is, uppercase and lowercase\n",
      "              are  considered identical.  This option is ignored if any upper‐\n",
      "              case letters appear in the search pattern; in other words, if  a\n",
      "              pattern  contains  uppercase  letters, then that search does not\n",
      "              ignore case.\n",
      "\n",
      "       -I or --IGNORE-CASE\n",
      "              Like -i, but searches ignore case even if the  pattern  contains\n",
      "              uppercase letters.\n",
      "\n",
      "       -jn or --jump-target=n\n",
      "              Specifies  a line on the screen where the \"target\" line is to be\n",
      "              positioned.  The target line is the line specified by  any  com‐\n",
      "              mand  to  search for a pattern, jump to a line number, jump to a\n",
      "              file percentage or jump to a tag.  The screen line may be speci‐\n",
      "              fied  by  a number: the top line on the screen is 1, the next is\n",
      "              2, and so on.  The number may be negative to specify a line rel‐\n",
      "              ative to the bottom of the screen: the bottom line on the screen\n",
      "              is -1, the second to the bottom is -2, and so on.   Alternately,\n",
      "              the  screen line may be specified as a fraction of the height of\n",
      "              the screen, starting with a decimal point: .5 is in  the  middle\n",
      "              of  the screen, .3 is three tenths down from the first line, and\n",
      "              so on.  If the line is specified as a fraction, the actual  line\n",
      "              number  is  recalculated  if  the terminal window is resized, so\n",
      "              that the target line remains at the specified  fraction  of  the\n",
      "              screen  height.   If any form of the -j option is used, repeated\n",
      "              forward searches (invoked with \"n\" or \"N\") begin at the line im‐\n",
      "              mediately  after the target line, and repeated backward searches\n",
      "              begin at the target line, unless changed by -a or -A.  For exam‐\n",
      "              ple, if \"-j4\" is used, the target line is the fourth line on the\n",
      "              screen, so forward searches begin  at  the  fifth  line  on  the\n",
      "              screen.   However nonrepeated searches (invoked with \"/\" or \"?\")\n",
      "              always begin at the start or end of the current  screen  respec‐\n",
      "              tively.\n",
      "\n",
      "       -J or --status-column\n",
      "              Displays  a  status  column at the left edge of the screen.  The\n",
      "              status column shows the lines that matched the  current  search,\n",
      "              and  any  lines  that  are marked (via the m or M command).  The\n",
      "              status column is also used if the -w or -W option is in effect.\n",
      "\n",
      "       -kfilename or --lesskey-file=filename\n",
      "              Causes less to open and interpret the named file  as  a  lesskey\n",
      "              (1) file.  Multiple -k options may be specified.  If the LESSKEY\n",
      "              or LESSKEY_SYSTEM environment variable is set, or if  a  lesskey\n",
      "              file is found in a standard place (see KEY BINDINGS), it is also\n",
      "              used as a lesskey file.\n",
      "\n",
      "       -K or --quit-on-intr\n",
      "              Causes less to exit immediately (with status 2) when  an  inter‐\n",
      "              rupt  character  (usually  ^C) is typed.  Normally, an interrupt\n",
      "              character causes less to stop whatever it is doing and return to\n",
      "              its  command  prompt.  Note that use of this option makes it im‐\n",
      "              possible to return to the command prompt from the \"F\" command.\n",
      "\n",
      "       -L or --no-lessopen\n",
      "              Ignore the LESSOPEN environment variable  (see  the  INPUT  PRE‐\n",
      "              PROCESSOR  section  below).   This option can be set from within\n"
     ]
    },
    {
     "name": "stdout",
     "output_type": "stream",
     "text": [
      "              less, but it will apply only to files opened  subsequently,  not\n",
      "              to the file which is currently open.\n",
      "\n",
      "       -m or --long-prompt\n",
      "              Causes  less  to  prompt verbosely (like more), with the percent\n",
      "              into the file.  By default, less prompts with a colon.\n",
      "\n",
      "       -M or --LONG-PROMPT\n",
      "              Causes less to prompt even more verbosely than more.\n",
      "\n",
      "       -n or --line-numbers\n",
      "              Suppresses line numbers.  The default (to use line numbers)  may\n",
      "              cause  less  to run more slowly in some cases, especially with a\n",
      "              very large input file.  Suppressing line numbers with the -n op‐\n",
      "              tion  will  avoid  this  problem.  Using line numbers means: the\n",
      "              line number will be displayed in the verbose prompt and in the =\n",
      "              command,  and the v command will pass the current line number to\n",
      "              the editor (see also the discussion of LESSEDIT in  PROMPTS  be‐\n",
      "              low).\n",
      "\n",
      "       -N or --LINE-NUMBERS\n",
      "              Causes  a  line  number to be displayed at the beginning of each\n",
      "              line in the display.\n",
      "\n",
      "       -ofilename or --log-file=filename\n",
      "              Causes less to copy its input to the named file as it  is  being\n",
      "              viewed.  This applies only when the input file is a pipe, not an\n",
      "              ordinary file.  If the file already exists, less  will  ask  for\n",
      "              confirmation before overwriting it.\n",
      "\n",
      "       -Ofilename or --LOG-FILE=filename\n",
      "              The -O option is like -o, but it will overwrite an existing file\n",
      "              without asking for confirmation.\n",
      "\n",
      "              If no log file has been specified, the -o and -O options can  be\n",
      "              used  from  within  less  to specify a log file.  Without a file\n",
      "              name, they will simply report the name of the log file.  The \"s\"\n",
      "              command is equivalent to specifying -o from within less.\n",
      "\n",
      "       -ppattern or --pattern=pattern\n",
      "              The  -p  option  on the command line is equivalent to specifying\n",
      "              +/pattern; that is, it tells less to start at the  first  occur‐\n",
      "              rence of pattern in the file.\n",
      "\n",
      "       -Pprompt or --prompt=prompt\n",
      "              Provides  a  way  to  tailor the three prompt styles to your own\n",
      "              preference.  This option would normally be put in the LESS envi‐\n",
      "              ronment variable, rather than being typed in with each less com‐\n",
      "              mand.  Such an option must either be the last option in the LESS\n",
      "              variable, or be terminated by a dollar sign.\n",
      "               -Ps  followed by a string changes the default (short) prompt to\n",
      "              that string.\n",
      "               -Pm changes the medium (-m) prompt.\n",
      "               -PM changes the long (-M) prompt.\n",
      "               -Ph changes the prompt for the help screen.\n",
      "               -P= changes the message printed by the = command.\n",
      "               -Pw changes the message printed while waiting for data (in  the\n",
      "              F command).\n",
      "\n",
      "              All  prompt strings consist of a sequence of letters and special\n",
      "              escape sequences.  See the section on PROMPTS for more details.\n",
      "\n",
      "       -q or --quiet or --silent\n",
      "              Causes moderately \"quiet\" operation: the terminal  bell  is  not\n",
      "              rung if an attempt is made to scroll past the end of the file or\n",
      "              before the beginning of the file.  If the terminal has a \"visual\n",
      "              bell\",  it  is  used  instead.  The bell will be rung on certain\n",
      "              other errors, such as typing an invalid character.  The  default\n",
      "              is to ring the terminal bell in all such cases.\n",
      "\n",
      "       -Q or --QUIET or --SILENT\n",
      "              Causes  totally  \"quiet\"  operation:  the terminal bell is never\n",
      "              rung.  If the terminal has a \"visual bell\", it is  used  in  all\n",
      "              cases where the terminal bell would have been rung.\n",
      "\n",
      "       -r or --raw-control-chars\n",
      "              Causes \"raw\" control characters to be displayed.  The default is\n",
      "              to display control characters using the caret notation; for  ex‐\n",
      "              ample,  a  control-A (octal 001) is displayed as \"^A\".  Warning:\n",
      "              when the -r option is used, less cannot keep track of the actual\n",
      "              appearance  of  the screen (since this depends on how the screen\n",
      "              responds to each type of control character).  Thus, various dis‐\n",
      "              play  problems may result, such as long lines being split in the\n",
      "              wrong place.\n",
      "\n",
      "       -R or --RAW-CONTROL-CHARS\n",
      "              Like -r, but only ANSI \"color\" escape sequences  are  output  in\n",
      "              \"raw\" form.  Unlike -r, the screen appearance is maintained cor‐\n",
      "              rectly in most cases.  ANSI \"color\"  escape  sequences  are  se‐\n",
      "              quences of the form:\n",
      "\n",
      "                   ESC [ ... m\n",
      "\n",
      "              where  the  \"...\" is zero or more color specification characters\n",
      "              For the purpose of keeping  track  of  screen  appearance,  ANSI\n",
      "              color  escape sequences are assumed to not move the cursor.  You\n",
      "              can make less think that characters other than \"m\" can end  ANSI\n",
      "              color  escape  sequences  by  setting  the  environment variable\n",
      "              LESSANSIENDCHARS to the list of characters which can end a color\n",
      "              escape  sequence.   And  you can make less think that characters\n",
      "              other than the standard ones may appear between the ESC and  the\n",
      "              m  by  setting  the environment variable LESSANSIMIDCHARS to the\n",
      "              list of characters which can appear.\n",
      "\n",
      "       -s or --squeeze-blank-lines\n",
      "              Causes consecutive blank lines to  be  squeezed  into  a  single\n",
      "              blank line.  This is useful when viewing nroff output.\n",
      "\n",
      "       -S or --chop-long-lines\n",
      "              Causes  lines  longer than the screen width to be chopped (trun‐\n",
      "              cated) rather than wrapped.  That is, the portion of a long line\n",
      "              that does not fit in the screen width is not shown.  The default\n",
      "              is to wrap long lines; that is, display  the  remainder  on  the\n",
      "              next line.\n",
      "\n",
      "       -ttag or --tag=tag\n",
      "              The -t option, followed immediately by a TAG, will edit the file\n",
      "              containing that tag.  For this to work, tag information must  be\n",
      "              available;  for  example, there may be a file in the current di‐\n",
      "              rectory called \"tags\", which was previously built by  ctags  (1)\n",
      "              or an equivalent command.  If the environment variable LESSGLOB‐\n",
      "              ALTAGS is set, it is taken to be the name of a command  compati‐\n",
      "              ble  with  global  (1), and that command is executed to find the\n",
      "              tag.  (See http://www.gnu.org/software/global/global.html).  The\n",
      "              -t  option  may  also be specified from within less (using the -\n",
      "              command) as a way of examining a new file.  The command \":t\"  is\n",
      "              equivalent to specifying -t from within less.\n",
      "\n",
      "       -Ttagsfile or --tag-file=tagsfile\n",
      "              Specifies a tags file to be used instead of \"tags\".\n",
      "\n",
      "       -u or --underline-special\n",
      "              Causes  backspaces  and carriage returns to be treated as print‐\n",
      "              able characters; that is, they are sent  to  the  terminal  when\n",
      "              they appear in the input.\n",
      "\n",
      "       -U or --UNDERLINE-SPECIAL\n",
      "              Causes  backspaces, tabs, carriage returns and \"formatting char‐\n",
      "              acters\" (as defined by Unicode) to be treated as control charac‐\n",
      "              ters; that is, they are handled as specified by the -r option.\n",
      "\n",
      "              By  default, if neither -u nor -U is given, backspaces which ap‐\n",
      "              pear adjacent to an underscore character are treated  specially:\n",
      "              the  underlined  text is displayed using the terminal's hardware\n",
      "              underlining capability.  Also, backspaces which  appear  between\n",
      "              two  identical  characters are treated specially: the overstruck\n",
      "              text is printed using the terminal's hardware boldface  capabil‐\n",
      "              ity.   Other  backspaces  are  deleted, along with the preceding\n"
     ]
    },
    {
     "name": "stdout",
     "output_type": "stream",
     "text": [
      "              character.  Carriage returns immediately followed by  a  newline\n",
      "              are deleted.  Other carriage returns are handled as specified by\n",
      "              the -r option.  Text which is overstruck or  underlined  can  be\n",
      "              searched for if neither -u nor -U is in effect.\n",
      "\n",
      "       -V or --version\n",
      "              Displays the version number of less.\n",
      "\n",
      "       -w or --hilite-unread\n",
      "              Temporarily  highlights  the  first  \"new\"  line after a forward\n",
      "              movement of a full page.  The first \"new\" line is the line imme‐\n",
      "              diately  following  the  line  previously  at  the bottom of the\n",
      "              screen.  Also highlights the target line after a g or p command.\n",
      "              The  highlight is removed at the next command which causes move‐\n",
      "              ment.  The entire line is highlighted, unless the -J  option  is\n",
      "              in effect, in which case only the status column is highlighted.\n",
      "\n",
      "       -W or --HILITE-UNREAD\n",
      "              Like -w, but temporarily highlights the first new line after any\n",
      "              forward movement command larger than one line.\n",
      "\n",
      "       -xn,... or --tabs=n,...\n",
      "              Sets tab stops.  If only one n is specified, tab stops  are  set\n",
      "              at  multiples  of n.  If multiple values separated by commas are\n",
      "              specified, tab stops are set at those positions, and  then  con‐\n",
      "              tinue  with  the  same  spacing  as  the last two.  For example,\n",
      "              -x9,17 will set tabs at positions 9, 17, 25, 33, etc.   The  de‐\n",
      "              fault for n is 8.\n",
      "\n",
      "       -X or --no-init\n",
      "              Disables sending the termcap initialization and deinitialization\n",
      "              strings to the terminal.  This is  sometimes  desirable  if  the\n",
      "              deinitialization  string does something unnecessary, like clear‐\n",
      "              ing the screen.\n",
      "\n",
      "       -yn or --max-forw-scroll=n\n",
      "              Specifies a maximum number of lines to scroll forward.  If it is\n",
      "              necessary to scroll forward more than n lines, the screen is re‐\n",
      "              painted instead.  The -c or -C option may  be  used  to  repaint\n",
      "              from  the top of the screen if desired.  By default, any forward\n",
      "              movement causes scrolling.\n",
      "\n",
      "       -zn or --window=n or -n\n",
      "              Changes the default scrolling window size to n lines.   The  de‐\n",
      "              fault  is  one screenful.  The z and w commands can also be used\n",
      "              to change the window size.  The \"z\" may be omitted for  compati‐\n",
      "              bility with some versions of more.  If the number n is negative,\n",
      "              it indicates n lines less than the current screen size.  For ex‐\n",
      "              ample, if the screen is 24 lines, -z-4 sets the scrolling window\n",
      "              to 20 lines.   If  the  screen  is  resized  to  40  lines,  the\n",
      "              scrolling window automatically changes to 36 lines.\n",
      "\n",
      "       -\"cc or --quotes=cc\n",
      "              Changes  the  filename quoting character.  This may be necessary\n",
      "              if you are trying to name a file which contains both spaces  and\n",
      "              quote  characters.  Followed by a single character, this changes\n",
      "              the quote character to that character.  Filenames  containing  a\n",
      "              space should then be surrounded by that character rather than by\n",
      "              double quotes.  Followed by two  characters,  changes  the  open\n",
      "              quote  to the first character, and the close quote to the second\n",
      "              character.  Filenames containing a space should then be preceded\n",
      "              by  the  open  quote  character  and followed by the close quote\n",
      "              character.  Note  that  even  after  the  quote  characters  are\n",
      "              changed,  this  option  remains  -\" (a dash followed by a double\n",
      "              quote).\n",
      "\n",
      "       -~ or --tilde\n",
      "              Normally lines after end of file are displayed as a single tilde\n",
      "              (~).  This option causes lines after end of file to be displayed\n",
      "              as blank lines.\n",
      "\n",
      "       -# or --shift\n",
      "              Specifies the default number of positions to scroll horizontally\n",
      "              in  the RIGHTARROW and LEFTARROW commands.  If the number speci‐\n",
      "              fied is zero, it sets the default number  of  positions  to  one\n",
      "              half of the screen width.  Alternately, the number may be speci‐\n",
      "              fied as a fraction of the width of the screen, starting  with  a\n",
      "              decimal  point:  .5  is  half  of  the screen width, .3 is three\n",
      "              tenths of the screen width, and so on.  If the number is  speci‐\n",
      "              fied as a fraction, the actual number of scroll positions is re‐\n",
      "              calculated if the terminal window is resized, so that the actual\n",
      "              scroll remains at the specified fraction of the screen width.\n",
      "\n",
      "       --follow-name\n",
      "              Normally, if the input file is renamed while an F command is ex‐\n",
      "              ecuting, less will continue to display the contents of the orig‐\n",
      "              inal  file  despite its name change.  If --follow-name is speci‐\n",
      "              fied, during an F command less will periodically attempt to  re‐\n",
      "              open the file by name.  If the reopen succeeds and the file is a\n",
      "              different file from the original (which means that  a  new  file\n",
      "              has  been  created  with  the same name as the original (now re‐\n",
      "              named) file), less will display the contents of that new file.\n",
      "\n",
      "       --mouse\n",
      "              Enables mouse input: scrolling the mouse wheel down  moves  for‐\n",
      "              ward  in  the file, scrolling the mouse wheel up moves backwards\n",
      "              in the file, and clicking the mouse sets the  \"#\"  mark  to  the\n",
      "              line  where the mouse is clicked.  The number of lines to scroll\n",
      "              when the wheel is moved can be set by the --wheel-lines  option.\n",
      "              Mouse  input works only on terminals which support X11 mouse re‐\n",
      "              porting, and on the Windows version of less.\n",
      "\n",
      "       --MOUSE\n",
      "              Like --mouse, except the direction scrolled on mouse wheel move‐\n",
      "              ment is reversed.\n",
      "\n",
      "       --no-keypad\n",
      "              Disables  sending the keypad initialization and deinitialization\n",
      "              strings to the terminal.  This is sometimes useful if the keypad\n",
      "              strings make the numeric keypad behave in an undesirable manner.\n",
      "\n",
      "       --no-histdups\n",
      "              This  option  changes the behavior so that if a search string or\n",
      "              file name is typed in, and the same string  is  already  in  the\n",
      "              history list, the existing copy is removed from the history list\n",
      "              before the new one is added.  Thus, a given string  will  appear\n",
      "              only  once  in  the history list.  Normally, a string may appear\n",
      "              multiple times.\n",
      "\n",
      "       --rscroll\n",
      "              This option changes the character used to mark truncated  lines.\n",
      "              It may begin with a two-character attribute indicator like LESS‐\n",
      "              BINFMT does.  If there is no attribute  indicator,  standout  is\n",
      "              used.  If set to \"-\", truncated lines are not marked.\n",
      "\n",
      "       --save-marks\n",
      "              Save  marks  in  the  history file, so marks are retained across\n",
      "              different invocations of less.\n",
      "\n",
      "       --use-backslash\n",
      "              This option changes the interpretations of options which  follow\n",
      "              this one.  After the --use-backslash option, any backslash in an\n",
      "              option string is removed and the following  character  is  taken\n",
      "              literally.   This  allows a dollar sign to be included in option\n",
      "              strings.\n",
      "\n",
      "       --wheel-lines=n\n",
      "              Set the number of lines  to  scroll  when  the  mouse  wheel  is\n",
      "              scrolled  and  the  --mouse or --MOUSE option is in effect.  The\n",
      "              default is 1 line.\n",
      "\n",
      "       --     A command line argument of \"--\" marks the end  of  option  argu‐\n",
      "              ments.   Any  arguments  following this are interpreted as file‐\n",
      "              names.  This can be useful when viewing a file whose name begins\n",
      "              with a \"-\" or \"+\".\n"
     ]
    },
    {
     "name": "stdout",
     "output_type": "stream",
     "text": [
      "\n",
      "       +      If  a  command  line option begins with +, the remainder of that\n",
      "              option is taken to be an initial command to less.  For  example,\n",
      "              +G  tells  less  to start at the end of the file rather than the\n",
      "              beginning, and +/xyz tells it to start at the  first  occurrence\n",
      "              of  \"xyz\"  in  the file.  As a special case, +<number> acts like\n",
      "              +<number>g; that is, it starts the display at the specified line\n",
      "              number  (however,  see  the caveat under the \"g\" command above).\n",
      "              If the option starts with ++, the initial command applies to ev‐\n",
      "              ery  file  being  viewed, not just the first one.  The + command\n",
      "              described previously may also be used to set (or change) an ini‐\n",
      "              tial command for every file.\n",
      "\n",
      "LINE EDITING\n",
      "       When  entering command line at the bottom of the screen (for example, a\n",
      "       filename for the :e command, or the pattern for a search command), cer‐\n",
      "       tain  keys  can  be used to manipulate the command line.  Most commands\n",
      "       have an alternate form in [ brackets ] which can be used if a key  does\n",
      "       not  exist  on  a  particular keyboard.  (Note that the forms beginning\n",
      "       with ESC do not work in some MS-DOS and Windows systems because ESC  is\n",
      "       the  line  erase  character.)  Any of these special keys may be entered\n",
      "       literally by preceding it with the \"literal\" character,  either  ^V  or\n",
      "       ^A.   A  backslash itself may also be entered literally by entering two\n",
      "       backslashes.\n",
      "\n",
      "       LEFTARROW [ ESC-h ]\n",
      "              Move the cursor one space to the left.\n",
      "\n",
      "       RIGHTARROW [ ESC-l ]\n",
      "              Move the cursor one space to the right.\n",
      "\n",
      "       ^LEFTARROW [ ESC-b or ESC-LEFTARROW ]\n",
      "              (That is, CONTROL and LEFTARROW simultaneously.)  Move the  cur‐\n",
      "              sor one word to the left.\n",
      "\n",
      "       ^RIGHTARROW [ ESC-w or ESC-RIGHTARROW ]\n",
      "              (That is, CONTROL and RIGHTARROW simultaneously.)  Move the cur‐\n",
      "              sor one word to the right.\n",
      "\n",
      "       HOME [ ESC-0 ]\n",
      "              Move the cursor to the beginning of the line.\n",
      "\n",
      "       END [ ESC-$ ]\n",
      "              Move the cursor to the end of the line.\n",
      "\n",
      "       BACKSPACE\n",
      "              Delete the character to the left of the cursor,  or  cancel  the\n",
      "              command if the command line is empty.\n",
      "\n",
      "       DELETE or [ ESC-x ]\n",
      "              Delete the character under the cursor.\n",
      "\n",
      "       ^BACKSPACE [ ESC-BACKSPACE ]\n",
      "              (That  is,  CONTROL  and  BACKSPACE simultaneously.)  Delete the\n",
      "              word to the left of the cursor.\n",
      "\n",
      "       ^DELETE [ ESC-X or ESC-DELETE ]\n",
      "              (That is, CONTROL and DELETE simultaneously.)  Delete  the  word\n",
      "              under the cursor.\n",
      "\n",
      "       UPARROW [ ESC-k ]\n",
      "              Retrieve  the  previous  command  line.  If you first enter some\n",
      "              text and then press UPARROW, it will retrieve the previous  com‐\n",
      "              mand which begins with that text.\n",
      "\n",
      "       DOWNARROW [ ESC-j ]\n",
      "              Retrieve  the  next  command line.  If you first enter some text\n",
      "              and then press DOWNARROW, it  will  retrieve  the  next  command\n",
      "              which begins with that text.\n",
      "\n",
      "       TAB    Complete  the partial filename to the left of the cursor.  If it\n",
      "              matches more than one filename, the first match is entered  into\n",
      "              the  command  line.   Repeated  TABs  will  cycle thru the other\n",
      "              matching filenames.  If the completed filename is a directory, a\n",
      "              \"/\"  is  appended to the filename.  (On MS-DOS systems, a \"\\\" is\n",
      "              appended.)  The environment variable LESSSEPARATOR can  be  used\n",
      "              to specify a different character to append to a directory name.\n",
      "\n",
      "       BACKTAB [ ESC-TAB ]\n",
      "              Like, TAB, but cycles in the reverse direction thru the matching\n",
      "              filenames.\n",
      "\n",
      "       ^L     Complete the partial filename to the left of the cursor.  If  it\n",
      "              matches more than one filename, all matches are entered into the\n",
      "              command line (if they fit).\n",
      "\n",
      "       ^U (Unix and OS/2) or ESC (MS-DOS)\n",
      "              Delete the entire command line, or cancel  the  command  if  the\n",
      "              command line is empty.  If you have changed your line-kill char‐\n",
      "              acter in Unix to something other than ^U, that character is used\n",
      "              instead of ^U.\n",
      "\n",
      "       ^G     Delete the entire command line and return to the main prompt.\n",
      "\n",
      "KEY BINDINGS\n",
      "       You  may define your own less commands by using the program lesskey (1)\n",
      "       to create a lesskey file.  This file specifies a set  of  command  keys\n",
      "       and  an  action  associated with each key.  You may also use lesskey to\n",
      "       change the line-editing keys (see LINE EDITING), and to set environment\n",
      "       variables.   If the environment variable LESSKEY is set, less uses that\n",
      "       as the name of the lesskey file.  Otherwise, less looks in  a  standard\n",
      "       place  for  the lesskey file: On Unix systems, less looks for a lesskey\n",
      "       file called \"$HOME/.less\".  On MS-DOS and Windows systems,  less  looks\n",
      "       for  a lesskey file called \"$HOME/_less\", and if it is not found there,\n",
      "       then looks for a lesskey file called \"_less\" in any directory specified\n",
      "       in  the  PATH  environment variable.  On OS/2 systems, less looks for a\n",
      "       lesskey file called \"$HOME/less.ini\", and if  it  is  not  found,  then\n",
      "       looks  for  a lesskey file called \"less.ini\" in any directory specified\n",
      "       in the INIT environment variable, and if it not found there, then looks\n",
      "       for  a lesskey file called \"less.ini\" in any directory specified in the\n",
      "       PATH environment variable.  See the lesskey manual page  for  more  de‐\n",
      "       tails.\n",
      "\n",
      "       A  system-wide lesskey file may also be set up to provide key bindings.\n",
      "       If a key is defined in both a local lesskey file and in the system-wide\n",
      "       file,  key bindings in the local file take precedence over those in the\n",
      "       system-wide file.  If the environment variable LESSKEY_SYSTEM  is  set,\n",
      "       less uses that as the name of the system-wide lesskey file.  Otherwise,\n",
      "       less looks in a standard place for the  system-wide  lesskey  file:  On\n",
      "       Unix  systems,  the system-wide lesskey file is /usr/local/etc/sysless.\n",
      "       (However, if less was built with a  different  sysconf  directory  than\n",
      "       /usr/local/etc, that directory is where the sysless file is found.)  On\n",
      "       MS-DOS and Windows systems, the system-wide lesskey  file  is  c:\\_sys‐\n",
      "       less.  On OS/2 systems, the system-wide lesskey file is c:\\sysless.ini.\n",
      "\n",
      "INPUT PREPROCESSOR\n",
      "       You  may  define an \"input preprocessor\" for less.  Before less opens a\n",
      "       file, it first gives your input preprocessor a chance to modify the way\n",
      "       the  contents of the file are displayed.  An input preprocessor is sim‐\n",
      "       ply an executable program (or shell script), which writes the  contents\n",
      "       of the file to a different file, called the replacement file.  The con‐\n",
      "       tents of the replacement file are then displayed in place of  the  con‐\n",
      "       tents  of the original file.  However, it will appear to the user as if\n",
      "       the original file is opened; that is, less will  display  the  original\n",
      "       filename as the name of the current file.\n",
      "\n",
      "       An  input preprocessor receives one command line argument, the original\n",
      "       filename, as entered by the user.  It  should  create  the  replacement\n",
      "       file,  and when finished, print the name of the replacement file to its\n",
      "       standard output.  If the input preprocessor does not output a  replace‐\n",
      "       ment  filename, less uses the original file, as normal.  The input pre‐\n",
      "       processor is not called when viewing standard input.  To set up an  in‐\n",
      "       put  preprocessor,  set  the LESSOPEN environment variable to a command\n",
      "       line which will invoke your  input  preprocessor.   This  command  line\n",
      "       should  include  one  occurrence  of the string \"%s\", which will be re‐\n",
      "       placed by the filename when the input preprocessor command is invoked.\n",
      "\n",
      "       When less closes a file opened in such a way, it will call another pro‐\n"
     ]
    },
    {
     "name": "stdout",
     "output_type": "stream",
     "text": [
      "       gram,  called  the  input  postprocessor, which may perform any desired\n",
      "       clean-up action (such as  deleting  the  replacement  file  created  by\n",
      "       LESSOPEN).  This program receives two command line arguments, the orig‐\n",
      "       inal filename as entered by the user, and the name of  the  replacement\n",
      "       file.   To set up an input postprocessor, set the LESSCLOSE environment\n",
      "       variable to a command line which will invoke your input  postprocessor.\n",
      "       It  may  include  two  occurrences of the string \"%s\"; the first is re‐\n",
      "       placed with the original name of the file and the second with the  name\n",
      "       of the replacement file, which was output by LESSOPEN.\n",
      "\n",
      "       For  example, on many Unix systems, these two scripts will allow you to\n",
      "       keep files in compressed format, but still let less view them directly:\n",
      "\n",
      "       lessopen.sh:\n",
      "            #! /bin/sh\n",
      "            case \"$1\" in\n",
      "            *.Z) TEMPFILE=$(mktemp)\n",
      "                 uncompress -c $1  >$TEMPFILE  2>/dev/null\n",
      "                 if [ -s $TEMPFILE ]; then\n",
      "                      echo $TEMPFILE\n",
      "                 else\n",
      "                      rm -f $TEMPFILE\n",
      "                 fi\n",
      "                 ;;\n",
      "            esac\n",
      "\n",
      "       lessclose.sh:\n",
      "            #! /bin/sh\n",
      "            rm $2\n",
      "\n",
      "       To use these scripts, put them both where they can be executed and  set\n",
      "       LESSOPEN=\"lessopen.sh %s\",  and  LESSCLOSE=\"lessclose.sh %s %s\".   More\n",
      "       complex LESSOPEN and LESSCLOSE scripts may be written to  accept  other\n",
      "       types of compressed files, and so on.\n",
      "\n",
      "       It  is  also  possible to set up an input preprocessor to pipe the file\n",
      "       data directly to less, rather than putting the data into a  replacement\n",
      "       file.  This avoids the need to decompress the entire file before start‐\n",
      "       ing to view it.  An input preprocessor that works this way is called an\n",
      "       input  pipe.   An input pipe, instead of writing the name of a replace‐\n",
      "       ment file on its standard output, writes the entire contents of the re‐\n",
      "       placement  file  on  its  standard  output.  If the input pipe does not\n",
      "       write any characters on its standard output, then there is no  replace‐\n",
      "       ment  file and less uses the original file, as normal.  To use an input\n",
      "       pipe, make the first character in the LESSOPEN environment  variable  a\n",
      "       vertical  bar  (|)  to  signify that the input preprocessor is an input\n",
      "       pipe.  As with non-pipe input preprocessors, the  command  string  must\n",
      "       contain  one  occurrence  of %s, which is replaced with the filename of\n",
      "       the input file.\n",
      "\n",
      "       For example, on many Unix systems, this script will work like the  pre‐\n",
      "       vious example scripts:\n",
      "\n",
      "       lesspipe.sh:\n",
      "            #! /bin/sh\n",
      "            case \"$1\" in\n",
      "            *.Z) uncompress -c $1  2>/dev/null\n",
      "                 ;;\n",
      "            *)   exit 1\n",
      "                 ;;\n",
      "            esac\n",
      "            exit $?\n",
      "\n",
      "       To  use  this  script,  put  it  where  it  can  be  executed  and  set\n",
      "       LESSOPEN=\"|lesspipe.sh %s\".\n",
      "\n",
      "       Note that a preprocessor cannot output an empty file, since that is in‐\n",
      "       terpreted  as meaning there is no replacement, and the original file is\n",
      "       used.  To avoid this, if LESSOPEN starts with two  vertical  bars,  the\n",
      "       exit  status  of  the script becomes meaningful.  If the exit status is\n",
      "       zero, the output is considered to be replacement text, even  if  it  is\n",
      "       empty.   If  the  exit status is nonzero, any output is ignored and the\n",
      "       original file is used.  For compatibility  with  previous  versions  of\n",
      "       less, if LESSOPEN starts with only one vertical bar, the exit status of\n",
      "       the preprocessor is ignored.\n",
      "\n",
      "       When an input pipe is used, a LESSCLOSE postprocessor can be used,  but\n",
      "       it is usually not necessary since there is no replacement file to clean\n",
      "       up.  In this case, the replacement file name passed  to  the  LESSCLOSE\n",
      "       postprocessor is \"-\".\n",
      "\n",
      "       For  compatibility with previous versions of less, the input preproces‐\n",
      "       sor or pipe is not used if less is viewing standard input.  However, if\n",
      "       the  first  character of LESSOPEN is a dash (-), the input preprocessor\n",
      "       is used on standard input as well as other files.  In  this  case,  the\n",
      "       dash  is  not  considered  to  be part of the preprocessor command.  If\n",
      "       standard input is being viewed, the input preprocessor is passed a file\n",
      "       name  consisting of a single dash.  Similarly, if the first two charac‐\n",
      "       ters of LESSOPEN are vertical bar and dash (|-) or  two  vertical  bars\n",
      "       and  a  dash (||-), the input pipe is used on standard input as well as\n",
      "       other files.  Again, in this case the dash is not considered to be part\n",
      "       of the input pipe command.\n",
      "\n",
      "NATIONAL CHARACTER SETS\n",
      "       There are three types of characters in the input file:\n",
      "\n",
      "       normal characters\n",
      "              can be displayed directly to the screen.\n",
      "\n",
      "       control characters\n",
      "              should  not  be displayed directly, but are expected to be found\n",
      "              in ordinary text files (such as backspace and tab).\n",
      "\n",
      "       binary characters\n",
      "              should not be displayed directly and  are  not  expected  to  be\n",
      "              found in text files.\n",
      "\n",
      "       A \"character set\" is simply a description of which characters are to be\n",
      "       considered normal, control, and binary.   The  LESSCHARSET  environment\n",
      "       variable  may  be  used to select a character set.  Possible values for\n",
      "       LESSCHARSET are:\n",
      "\n",
      "       ascii  BS, TAB, NL, CR, and formfeed are control characters, all  chars\n",
      "              with  values  between  32 and 126 are normal, and all others are\n",
      "              binary.\n",
      "\n",
      "       iso8859\n",
      "              Selects an ISO 8859 character set.  This is the same  as  ASCII,\n",
      "              except  characters  between  160  and  255 are treated as normal\n",
      "              characters.\n",
      "\n",
      "       latin1 Same as iso8859.\n",
      "\n",
      "       latin9 Same as iso8859.\n",
      "\n",
      "       dos    Selects a character set appropriate for MS-DOS.\n",
      "\n",
      "       ebcdic Selects an EBCDIC character set.\n",
      "\n",
      "       IBM-1047\n",
      "              Selects an EBCDIC character set used by  OS/390  Unix  Services.\n",
      "              This  is the EBCDIC analogue of latin1.  You get similar results\n",
      "              by setting either LESSCHARSET=IBM-1047 or LC_CTYPE=en_US in your\n",
      "              environment.\n",
      "\n",
      "       koi8-r Selects a Russian character set.\n",
      "\n",
      "       next   Selects a character set appropriate for NeXT computers.\n",
      "\n",
      "       utf-8  Selects  the  UTF-8  encoding  of  the  ISO 10646 character set.\n",
      "              UTF-8 is special in that it supports  multi-byte  characters  in\n",
      "              the  input  file.   It  is  the only character set that supports\n",
      "              multi-byte characters.\n",
      "\n",
      "       windows\n",
      "              Selects a character set appropriate for  Microsoft  Windows  (cp\n",
      "              1251).\n",
      "\n",
      "       In  rare cases, it may be desired to tailor less to use a character set\n",
      "       other than the ones definable by LESSCHARSET.  In this case, the  envi‐\n",
      "       ronment variable LESSCHARDEF can be used to define a character set.  It\n",
      "       should be set to a string where each character in the string represents\n",
      "       one  character  in  the character set.  The character \".\" is used for a\n",
      "       normal character, \"c\" for control, and \"b\" for binary.  A decimal  num‐\n",
      "       ber  may  be  used  for  repetition.  For example, \"bccc4b.\" would mean\n",
      "       character 0 is binary, 1, 2 and 3 are control, 4, 5, 6 and  7  are  bi‐\n",
      "       nary,  and  8 is normal.  All characters after the last are taken to be\n",
      "       the same as the last, so characters 9  through  255  would  be  normal.\n",
      "       (This  is an example, and does not necessarily represent any real char‐\n",
      "       acter set.)\n",
      "\n",
      "       This table shows the value of LESSCHARDEF which is equivalent  to  each\n",
      "       of the possible values for LESSCHARSET:\n",
      "\n",
      "            ascii     8bcccbcc18b95.b\n",
      "            dos       8bcccbcc12bc5b95.b.\n",
      "            ebcdic    5bc6bcc7bcc41b.9b7.9b5.b..8b6.10b6.b9.7b\n",
      "                      9.8b8.17b3.3b9.7b9.8b8.6b10.b.b.b.\n",
      "            IBM-1047  4cbcbc3b9cbccbccbb4c6bcc5b3cbbc4bc4bccbc\n",
      "                      191.b\n"
     ]
    },
    {
     "name": "stdout",
     "output_type": "stream",
     "text": [
      "            iso8859   8bcccbcc18b95.33b.\n",
      "            koi8-r    8bcccbcc18b95.b128.\n",
      "            latin1    8bcccbcc18b95.33b.\n",
      "            next      8bcccbcc18b95.bb125.bb\n",
      "\n",
      "       If  neither  LESSCHARSET nor LESSCHARDEF is set, but any of the strings\n",
      "       \"UTF-8\", \"UTF8\", \"utf-8\" or \"utf8\" is found in the LC_ALL, LC_CTYPE  or\n",
      "       LANG environment variables, then the default character set is utf-8.\n",
      "\n",
      "       If that string is not found, but your system supports the setlocale in‐\n",
      "       terface, less will use setlocale to determine the character set.   set‐\n",
      "       locale  is controlled by setting the LANG or LC_CTYPE environment vari‐\n",
      "       ables.\n",
      "\n",
      "       Finally, if the setlocale interface is also not available, the  default\n",
      "       character set is latin1.\n",
      "\n",
      "       Control  and  binary  characters  are  displayed  in  standout (reverse\n",
      "       video).  Each such character is displayed in caret notation if possible\n",
      "       (e.g.  ^A for control-A).  Caret notation is used only if inverting the\n",
      "       0100 bit results in a normal printable character.  Otherwise, the char‐\n",
      "       acter  is displayed as a hex number in angle brackets.  This format can\n",
      "       be changed by setting the LESSBINFMT environment variable.   LESSBINFMT\n",
      "       may begin with a \"*\" and one character to select the display attribute:\n",
      "       \"*k\" is blinking, \"*d\" is bold, \"*u\" is underlined, \"*s\"  is  standout,\n",
      "       and  \"*n\"  is  normal.  If LESSBINFMT does not begin with a \"*\", normal\n",
      "       attribute is assumed.  The remainder of LESSBINFMT is  a  string  which\n",
      "       may  include one printf-style escape sequence (a % followed by x, X, o,\n",
      "       d, etc.).  For example, if LESSBINFMT is  \"*u[%x]\",  binary  characters\n",
      "       are  displayed  in  underlined hexadecimal surrounded by brackets.  The\n",
      "       default if no LESSBINFMT is specified is \"*s<%02X>\".  Warning: the  re‐\n",
      "       sult  of  expanding  the  character via LESSBINFMT must be less than 31\n",
      "       characters.\n",
      "\n",
      "       When the character set is utf-8, the LESSUTFBINFMT environment variable\n",
      "       acts similarly to LESSBINFMT but it applies to Unicode code points that\n",
      "       were successfully decoded but are unsuitable for display  (e.g.,  unas‐\n",
      "       signed  code  points).   Its  default  value is \"<U+%04lX>\".  Note that\n",
      "       LESSUTFBINFMT and LESSBINFMT  share  their  display  attribute  setting\n",
      "       (\"*x\")  so specifying one will affect both; LESSUTFBINFMT is read after\n",
      "       LESSBINFMT so its setting, if any,  will  have  priority.   Problematic\n",
      "       octets  in  a  UTF-8  file (octets of a truncated sequence, octets of a\n",
      "       complete but non-shortest form  sequence,  illegal  octets,  and  stray\n",
      "       trailing  octets)  are displayed individually using LESSBINFMT so as to\n",
      "       facilitate diagnostic of how the UTF-8 file is ill-formed.\n",
      "\n",
      "PROMPTS\n",
      "       The -P option allows you to tailor the prompt to your preference.   The\n",
      "       string  given  to  the  -P option replaces the specified prompt string.\n",
      "       Certain characters in the string are interpreted specially.  The prompt\n",
      "       mechanism  is  rather complicated to provide flexibility, but the ordi‐\n",
      "       nary user need not understand the details of constructing  personalized\n",
      "       prompt strings.\n",
      "\n",
      "       A  percent sign followed by a single character is expanded according to\n",
      "       what the following character is:\n",
      "\n",
      "       %bX    Replaced by the byte offset into the current input file.  The  b\n",
      "              is followed by a single character (shown as X above) which spec‐\n",
      "              ifies the line whose byte offset is to be used.  If the  charac‐\n",
      "              ter  is a \"t\", the byte offset of the top line in the display is\n",
      "              used, an \"m\" means use the middle line, a \"b\" means use the bot‐\n",
      "              tom  line,  a \"B\" means use the line just after the bottom line,\n",
      "              and a \"j\" means use the \"target\" line, as specified  by  the  -j\n",
      "              option.\n",
      "\n",
      "       %B     Replaced by the size of the current input file.\n",
      "\n",
      "       %c     Replaced by the column number of the text appearing in the first\n",
      "              column of the screen.\n",
      "\n",
      "       %dX    Replaced by the page number of a line in the  input  file.   The\n",
      "              line to be used is determined by the X, as with the %b option.\n",
      "\n",
      "       %D     Replaced  by  the  number of pages in the input file, or equiva‐\n",
      "              lently, the page number of the last line in the input file.\n",
      "\n",
      "       %E     Replaced by the name of the editor (from the VISUAL  environment\n",
      "              variable,  or  the  EDITOR environment variable if VISUAL is not\n",
      "              defined).  See the discussion of the LESSEDIT feature below.\n",
      "\n",
      "       %f     Replaced by the name of the current input file.\n",
      "\n",
      "       %F     Replaced by the last component of the name of the current  input\n",
      "              file.\n",
      "\n",
      "       %g     Replaced  by  the  shell-escaped name of the current input file.\n",
      "              This is useful when the expanded string will be used in a  shell\n",
      "              command, such as in LESSEDIT.\n",
      "\n",
      "       %i     Replaced  by  the index of the current file in the list of input\n",
      "              files.\n",
      "\n",
      "       %lX    Replaced by the line number of a line in the  input  file.   The\n",
      "              line to be used is determined by the X, as with the %b option.\n",
      "\n",
      "       %L     Replaced by the line number of the last line in the input file.\n",
      "\n",
      "       %m     Replaced by the total number of input files.\n",
      "\n",
      "       %pX    Replaced  by  the  percent into the current input file, based on\n",
      "              byte offsets.  The line used is determined by the X as with  the\n",
      "              %b option.\n",
      "\n",
      "       %PX    Replaced  by  the  percent into the current input file, based on\n",
      "              line numbers.  The line used is determined by the X as with  the\n",
      "              %b option.\n",
      "\n",
      "       %s     Same as %B.\n",
      "\n",
      "       %t     Causes  any  trailing spaces to be removed.  Usually used at the\n",
      "              end of the string, but may appear anywhere.\n",
      "\n",
      "       %T     Normally expands to the word \"file\".  However if  viewing  files\n",
      "              via  a  tags  list  using  the -t option, it expands to the word\n",
      "              \"tag\".\n",
      "\n",
      "       %x     Replaced by the name of the next input file in the list.\n",
      "\n",
      "       If any item is unknown (for example, the file size if input is a pipe),\n",
      "       a question mark is printed instead.\n",
      "\n",
      "       The  format  of  the  prompt string can be changed depending on certain\n",
      "       conditions.  A question mark followed by a single character  acts  like\n",
      "       an  \"IF\":  depending  on the following character, a condition is evalu‐\n",
      "       ated.  If the condition is true, any characters following the  question\n",
      "       mark  and  condition  character,  up  to  a period, are included in the\n",
      "       prompt.  If the condition is false, such characters are  not  included.\n",
      "       A  colon appearing between the question mark and the period can be used\n",
      "       to establish an \"ELSE\": any characters between the colon and the period\n",
      "       are  included  in  the string if and only if the IF condition is false.\n",
      "       Condition characters (which follow a question mark) may be:\n",
      "\n",
      "       ?a     True if any characters have been included in the prompt so far.\n",
      "\n",
      "       ?bX    True if the byte offset of the specified line is known.\n",
      "\n",
      "       ?B     True if the size of current input file is known.\n",
      "\n",
      "       ?c     True if the text is horizontally shifted (%c is not zero).\n",
      "\n",
      "       ?dX    True if the page number of the specified line is known.\n",
      "\n",
      "       ?e     True if at end-of-file.\n",
      "\n",
      "       ?f     True if there is an input filename (that is, if input is  not  a\n",
      "              pipe).\n",
      "\n",
      "       ?lX    True if the line number of the specified line is known.\n",
      "\n",
      "       ?L     True if the line number of the last line in the file is known.\n",
      "\n",
      "       ?m     True if there is more than one input file.\n",
      "\n",
      "       ?n     True if this is the first prompt in a new input file.\n",
      "\n",
      "       ?pX    True  if  the percent into the current input file, based on byte\n",
      "              offsets, of the specified line is known.\n",
      "\n",
      "       ?PX    True if the percent into the current input file, based  on  line\n",
      "              numbers, of the specified line is known.\n",
      "\n",
      "       ?s     Same as \"?B\".\n"
     ]
    },
    {
     "name": "stdout",
     "output_type": "stream",
     "text": [
      "\n",
      "       ?x     True  if there is a next input file (that is, if the current in‐\n",
      "              put file is not the last one).\n",
      "\n",
      "       Any characters other than the special ones (question mark,  colon,  pe‐\n",
      "       riod, percent, and backslash) become literally part of the prompt.  Any\n",
      "       of the special characters may be included in the  prompt  literally  by\n",
      "       preceding it with a backslash.\n",
      "\n",
      "       Some examples:\n",
      "\n",
      "       ?f%f:Standard input.\n",
      "\n",
      "       This  prompt prints the filename, if known; otherwise the string \"Stan‐\n",
      "       dard input\".\n",
      "\n",
      "       ?f%f .?ltLine %lt:?pt%pt\\%:?btByte %bt:-...\n",
      "\n",
      "       This prompt would print the filename, if known.  The filename  is  fol‐\n",
      "       lowed  by  the  line  number, if known, otherwise the percent if known,\n",
      "       otherwise the byte offset if known.  Otherwise, a dash is printed.  No‐\n",
      "       tice  how each question mark has a matching period, and how the % after\n",
      "       the %pt is included literally by escaping it with a backslash.\n",
      "\n",
      "       ?n?f%f .?m(%T %i of %m) ..?e(END) ?x- Next\\: %x..%t\";\n",
      "\n",
      "       This prints the filename if this is the first prompt in  a  file,  fol‐\n",
      "       lowed  by  the  \"file  N  of N\" message if there is more than one input\n",
      "       file.  Then, if we are at end-of-file, the string  \"(END)\"  is  printed\n",
      "       followed  by  the name of the next file, if there is one.  Finally, any\n",
      "       trailing spaces are truncated.  This is the default prompt.  For refer‐\n",
      "       ence,  here  are  the defaults for the other two prompts (-m and -M re‐\n",
      "       spectively).  Each is broken into two lines here for readability only.\n",
      "\n",
      "       ?n?f%f .?m(%T %i of %m) ..?e(END) ?x- Next\\: %x.:\n",
      "            ?pB%pB\\%:byte %bB?s/%s...%t\n",
      "\n",
      "       ?f%f .?n?m(%T %i of %m) ..?ltlines %lt-%lb?L/%L. :\n",
      "            byte %bB?s/%s. .?e(END) ?x- Next\\: %x.:?pB%pB\\%..%t\n",
      "\n",
      "       And here is the default message produced by the = command:\n",
      "\n",
      "       ?f%f .?m(%T %i of %m) .?ltlines %lt-%lb?L/%L. .\n",
      "            byte %bB?s/%s. ?e(END) :?pB%pB\\%..%t\n",
      "\n",
      "       The prompt expansion features are also used for another purpose: if  an\n",
      "       environment  variable LESSEDIT is defined, it is used as the command to\n",
      "       be executed when the v command is invoked.  The LESSEDIT string is  ex‐\n",
      "       panded  in  the  same way as the prompt strings.  The default value for\n",
      "       LESSEDIT is:\n",
      "\n",
      "            %E ?lm+%lm. %g\n",
      "\n",
      "       Note that this expands to the editor name, followed by a + and the line\n",
      "       number,  followed  by the shell-escaped file name.  If your editor does\n",
      "       not accept the \"+linenumber\" syntax, or has other differences in  invo‐\n",
      "       cation  syntax, the LESSEDIT variable can be changed to modify this de‐\n",
      "       fault.\n",
      "\n",
      "SECURITY\n",
      "       When the environment variable LESSSECURE is set to 1, less  runs  in  a\n",
      "       \"secure\" mode.  This means these features are disabled:\n",
      "\n",
      "              !      the shell command\n",
      "\n",
      "              |      the pipe command\n",
      "\n",
      "              :e     the examine command.\n",
      "\n",
      "              v      the editing command\n",
      "\n",
      "              s  -o  log files\n",
      "\n",
      "              -k     use of lesskey files\n",
      "\n",
      "              -t     use of tags files\n",
      "\n",
      "                     metacharacters in filenames, such as *\n",
      "\n",
      "                     filename completion (TAB, ^L)\n",
      "\n",
      "       Less can also be compiled to be permanently in \"secure\" mode.\n",
      "\n",
      "COMPATIBILITY WITH MORE\n",
      "       If the environment variable LESS_IS_MORE is set to 1, or if the program\n",
      "       is invoked via a file link named \"more\", less behaves (mostly) in  con‐\n",
      "       formance  with  the  POSIX \"more\" command specification.  In this mode,\n",
      "       less behaves differently in these ways:\n",
      "\n",
      "       The -e option works differently.  If the -e option is not set, less be‐\n",
      "       haves  as if the -e option were set.  If the -e option is set, less be‐\n",
      "       haves as if the -E option were set.\n",
      "\n",
      "       The -m option works differently.  If the -m  option  is  not  set,  the\n",
      "       medium  prompt  is used, and it is prefixed with the string \"--More--\".\n",
      "       If the -m option is set, the short prompt is used.\n",
      "\n",
      "       The -n option acts like the -z option.  The normal behavior of  the  -n\n",
      "       option is unavailable in this mode.\n",
      "\n",
      "       The  parameter  to  the  -p option is taken to be a less command rather\n",
      "       than a search pattern.\n",
      "\n",
      "       The LESS environment variable is  ignored,  and  the  MORE  environment\n",
      "       variable is used in its place.\n",
      "\n",
      "ENVIRONMENT VARIABLES\n",
      "       Environment variables may be specified either in the system environment\n",
      "       as usual, or in a lesskey (1) file.  If environment variables  are  de‐\n",
      "       fined in more than one place, variables defined in a local lesskey file\n",
      "       take precedence over variables defined in the system environment, which\n",
      "       take precedence over variables defined in the system-wide lesskey file.\n",
      "\n",
      "       COLUMNS\n",
      "              Sets the number of columns on the screen.  Takes precedence over\n",
      "              the number of columns specified by the TERM variable.   (But  if\n",
      "              you  have  a  windowing  system  which  supports  TIOCGWINSZ  or\n",
      "              WIOCGETD, the window system's idea  of  the  screen  size  takes\n",
      "              precedence over the LINES and COLUMNS environment variables.)\n",
      "\n",
      "       EDITOR The name of the editor (used for the v command).\n",
      "\n",
      "       HOME   Name  of  the user's home directory (used to find a lesskey file\n",
      "              on Unix and OS/2 systems).\n",
      "\n",
      "       HOMEDRIVE, HOMEPATH\n",
      "              Concatenation of the HOMEDRIVE and  HOMEPATH  environment  vari‐\n",
      "              ables is the name of the user's home directory if the HOME vari‐\n",
      "              able is not set (only in the Windows version).\n",
      "\n",
      "       INIT   Name of the user's init directory (used to find a  lesskey  file\n",
      "              on OS/2 systems).\n",
      "\n",
      "       LANG   Language for determining the character set.\n",
      "\n",
      "       LC_CTYPE\n",
      "              Language for determining the character set.\n",
      "\n",
      "       LESS   Options which are passed to less automatically.\n",
      "\n",
      "       LESSANSIENDCHARS\n",
      "              Characters  which may end an ANSI color escape sequence (default\n",
      "              \"m\").\n",
      "\n",
      "       LESSANSIMIDCHARS\n",
      "              Characters which may appear between the ESC  character  and  the\n",
      "              end   character  in  an  ANSI  color  escape  sequence  (default\n",
      "              \"0123456789:;[?!\"'#%()*+ \".\n",
      "\n",
      "       LESSBINFMT\n",
      "              Format for displaying non-printable, non-control characters.\n",
      "\n",
      "       LESSCHARDEF\n",
      "              Defines a character set.\n",
      "\n",
      "       LESSCHARSET\n",
      "              Selects a predefined character set.\n",
      "\n",
      "       LESSCLOSE\n",
      "              Command line to invoke the (optional) input-postprocessor.\n",
      "\n",
      "       LESSECHO\n",
      "              Name of the lessecho program (default \"lessecho\").  The lessecho\n",
      "              program  is needed to expand metacharacters, such as * and ?, in\n",
      "              filenames on Unix systems.\n",
      "\n",
      "       LESSEDIT\n",
      "              Editor prototype string (used for the v command).   See  discus‐\n",
      "              sion under PROMPTS.\n",
      "\n",
      "       LESSGLOBALTAGS\n",
      "              Name  of  the command used by the -t option to find global tags.\n",
      "              Normally should be set to \"global\" if your system has the global\n",
      "              (1) command.  If not set, global tags are not used.\n",
      "\n",
      "       LESSHISTFILE\n",
      "              Name  of  the  history file used to remember search commands and\n",
      "              shell commands between invocations of less.  If set  to  \"-\"  or\n",
      "              \"/dev/null\",  a  history  file  is  not  used.   The  default is\n",
      "              \"$HOME/.lesshst\" on Unix systems, \"$HOME/_lesshst\"  on  DOS  and\n",
      "              Windows  systems,  or \"$HOME/lesshst.ini\" or \"$INIT/lesshst.ini\"\n",
      "              on OS/2 systems.\n",
      "\n",
      "       LESSHISTSIZE\n",
      "              The maximum number of commands to save in the history file.  The\n",
      "              default is 100.\n",
      "\n",
      "       LESSKEY\n",
      "              Name of the default lesskey(1) file.\n",
      "\n",
      "       LESSKEY_SYSTEM\n",
      "              Name of the default system-wide lesskey(1) file.\n",
      "\n",
      "       LESSMETACHARS\n",
      "              List  of characters which are considered \"metacharacters\" by the\n",
      "              shell.\n",
      "\n",
      "       LESSMETAESCAPE\n",
      "              Prefix which less will add before each metacharacter in  a  com‐\n",
      "              mand  sent  to the shell.  If LESSMETAESCAPE is an empty string,\n"
     ]
    },
    {
     "name": "stdout",
     "output_type": "stream",
     "text": [
      "              commands containing metacharacters will not  be  passed  to  the\n",
      "              shell.\n",
      "\n",
      "       LESSOPEN\n",
      "              Command line to invoke the (optional) input-preprocessor.\n",
      "\n",
      "       LESSSECURE\n",
      "              Runs less in \"secure\" mode.  See discussion under SECURITY.\n",
      "\n",
      "       LESSSEPARATOR\n",
      "              String  to  be  appended to a directory name in filename comple‐\n",
      "              tion.\n",
      "\n",
      "       LESSUTFBINFMT\n",
      "              Format for displaying non-printable Unicode code points.\n",
      "\n",
      "       LESS_IS_MORE\n",
      "              Emulate the more (1) command.\n",
      "\n",
      "       LINES  Sets the number of lines on the screen.  Takes  precedence  over\n",
      "              the number of lines specified by the TERM variable.  (But if you\n",
      "              have a windowing system which supports TIOCGWINSZ  or  WIOCGETD,\n",
      "              the  window  system's  idea  of the screen size takes precedence\n",
      "              over the LINES and COLUMNS environment variables.)\n",
      "\n",
      "       MORE   Options which are passed to less automatically when  running  in\n",
      "              more compatible mode.\n",
      "\n",
      "       PATH   User's  search  path  (used to find a lesskey file on MS-DOS and\n",
      "              OS/2 systems).\n",
      "\n",
      "       SHELL  The shell used to execute the ! command, as well  as  to  expand\n",
      "              filenames.\n",
      "\n",
      "       TERM   The type of terminal on which less is being run.\n",
      "\n",
      "       VISUAL The name of the editor (used for the v command).\n",
      "\n",
      "SEE ALSO\n",
      "       lesskey(1)\n",
      "\n",
      "COPYRIGHT\n",
      "       Copyright (C) 1984-2019  Mark Nudelman\n",
      "\n",
      "       less  is  part of the GNU project and is free software.  You can redis‐\n",
      "       tribute it and/or modify it under the terms of either (1) the GNU  Gen‐\n",
      "       eral  Public  License  as published by the Free Software Foundation; or\n",
      "       (2) the Less License.  See the file README in the less distribution for\n",
      "       more details regarding redistribution.  You should have received a copy\n",
      "       of the GNU General Public License along with the source for  less;  see\n",
      "       the  file  COPYING.   If not, write to the Free Software Foundation, 59\n",
      "       Temple Place, Suite 330, Boston, MA  02111-1307, USA.  You should  also\n",
      "       have received a copy of the Less License; see the file LICENSE.\n",
      "\n",
      "       less is distributed in the hope that it will be useful, but WITHOUT ANY\n",
      "       WARRANTY; without even the implied warranty of MERCHANTABILITY or  FIT‐\n",
      "       NESS  FOR A PARTICULAR PURPOSE.  See the GNU General Public License for\n",
      "       more details.\n",
      "\n",
      "AUTHOR\n",
      "       Mark Nudelman\n",
      "       Report bugs at https://github.com/gwsw/less/issues.\n",
      "       For more information, see the less homepage at\n",
      "       http://www.greenwoodsoftware.com/less.\n",
      "\n",
      "                           Version 551: 11 Jun 2019                    LESS(1)\n"
     ]
    }
   ],
   "source": [
    "man less"
   ]
  },
  {
   "cell_type": "markdown",
   "metadata": {},
   "source": [
    "#### The *manpage* of ```more```."
   ]
  },
  {
   "cell_type": "code",
   "execution_count": 36,
   "metadata": {},
   "outputs": [
    {
     "name": "stdout",
     "output_type": "stream",
     "text": [
      "MORE(1)                          User Commands                         MORE(1)\n",
      "\n",
      "NAME\n",
      "       more - file perusal filter for crt viewing\n",
      "\n",
      "SYNOPSIS\n",
      "       more [options] file...\n",
      "\n",
      "DESCRIPTION\n",
      "       more is a filter for paging through text one screenful at a time.  This\n",
      "       version is especially primitive.  Users  should  realize  that  less(1)\n",
      "       provides more(1) emulation plus extensive enhancements.\n",
      "\n",
      "OPTIONS\n",
      "       Options are also taken from the environment variable MORE (make sure to\n",
      "       precede them with a dash (-)) but command-line  options  will  override\n",
      "       those.\n",
      "\n",
      "       -d, --silent\n",
      "              Prompt  with \"[Press space to continue, 'q' to quit.]\", and dis‐\n",
      "              play \"[Press 'h' for instructions.]\" instead of ringing the bell\n",
      "              when an illegal key is pressed.\n",
      "\n",
      "       -l, --logical\n",
      "              Do not pause after any line containing a ^L (form feed).\n",
      "\n",
      "       -f, --no-pause\n",
      "              Count  logical lines, rather than screen lines (i.e., long lines\n",
      "              are not folded).\n",
      "\n",
      "       -p, --print-over\n",
      "              Do not scroll.  Instead, clear the whole screen and then display\n",
      "              the  text.  Notice that this option is switched on automatically\n",
      "              if the executable is named page.\n",
      "\n",
      "       -c, --clean-print\n",
      "              Do not scroll.  Instead, paint each screen from the top,  clear‐\n",
      "              ing the remainder of each line as it is displayed.\n",
      "\n",
      "       -s, --squeeze\n",
      "              Squeeze multiple blank lines into one.\n",
      "\n",
      "       -u, --plain\n",
      "              Suppress  underlining.  This option is silently ignored as back‐\n",
      "              wards compatibility.\n",
      "\n",
      "       -n, --lines number\n",
      "              Specify the number of lines per screenful.  The number  argument\n",
      "              is  a  positive decimal integer.  The --lines option shall over‐\n",
      "              ride any values obtained from any other source, such  as  number\n",
      "              of lines reported by terminal.\n",
      "\n",
      "       -number\n",
      "              A numeric option means the same as --lines option argument.\n",
      "\n",
      "       +number\n",
      "              Start displaying each file at line number.\n",
      "\n",
      "       +/string\n",
      "              The  string  to be searched in each file before starting to dis‐\n",
      "              play it.\n",
      "\n",
      "       --help Display help text and exit.\n",
      "\n",
      "       -V, --version\n",
      "              Display version information and exit.\n",
      "\n",
      "COMMANDS\n",
      "       Interactive commands for more are based on vi(1).  Some commands may be\n",
      "       preceded  by  a decimal number, called k in the descriptions below.  In\n",
      "       the following descriptions, ^X means control-X.\n",
      "\n",
      "              h or ?    Help; display a summary of  these  commands.   If  you\n",
      "                        forget all other commands, remember this one.\n",
      "\n",
      "              SPACE     Display  next  k  lines  of text.  Defaults to current\n",
      "                        screen size.\n",
      "\n",
      "              z         Display next k lines of  text.   Defaults  to  current\n",
      "                        screen size.  Argument becomes new default.\n",
      "\n",
      "              RETURN    Display  next  k lines of text.  Defaults to 1.  Argu‐\n",
      "                        ment becomes new default.\n",
      "\n",
      "              d or ^D   Scroll k lines.  Default is current scroll size,  ini‐\n",
      "                        tially 11.  Argument becomes new default.\n",
      "\n",
      "              q or Q or INTERRUPT\n",
      "                        Exit.\n",
      "\n",
      "              s         Skip forward k lines of text.  Defaults to 1.\n",
      "\n",
      "              f         Skip forward k screenfuls of text.  Defaults to 1.\n",
      "\n",
      "              b or ^B   Skip  backwards  k screenfuls of text.  Defaults to 1.\n",
      "                        Only works with files, not pipes.\n",
      "\n",
      "              '         Go to the place where the last search started.\n",
      "\n",
      "              =         Display current line number.\n",
      "\n",
      "              /pattern  Search for kth occurrence of regular expression.   De‐\n",
      "                        faults to 1.\n",
      "\n",
      "              n         Search  for kth occurrence of last regular expression.\n",
      "                        Defaults to 1.\n",
      "\n",
      "              !command or :!command\n",
      "                        Execute command in a subshell.\n",
      "\n",
      "              v         Start up an editor at current  line.   The  editor  is\n",
      "                        taken from the environment variable VISUAL if defined,\n",
      "                        or EDITOR if VISUAL is not defined, or defaults to  vi\n",
      "                        if neither VISUAL nor EDITOR is defined.\n",
      "\n",
      "              ^L        Redraw screen.\n",
      "\n",
      "              :n        Go to kth next file.  Defaults to 1.\n",
      "\n",
      "              :p        Go to kth previous file.  Defaults to 1.\n",
      "\n",
      "              :f        Display current file name and line number.\n",
      "\n",
      "              .         Repeat previous command.\n",
      "\n",
      "ENVIRONMENT\n",
      "       The  more command respects the following environment variables, if they\n",
      "       exist:\n",
      "\n",
      "       MORE   This variable may be set with favored options to more.\n",
      "\n",
      "       SHELL  Current shell in use (normally set by the shell at login time).\n",
      "\n",
      "       TERM   The terminal type used by more to get the terminal  characteris‐\n",
      "              tics necessary to manipulate the screen.\n",
      "\n",
      "       VISUAL The  editor  the  user  prefers.   Invoked when command key v is\n",
      "              pressed.\n",
      "\n",
      "       EDITOR The editor of choice when VISUAL is not specified.\n",
      "\n",
      "HISTORY\n",
      "       The more command appeared in 3.0BSD.  This man page documents more ver‐\n",
      "       sion  5.19  (Berkeley  6/29/88), which is currently in use in the Linux\n",
      "       community.  Documentation was produced using several other versions  of\n",
      "       the man page, and extensive inspection of the source code.\n",
      "\n",
      "AUTHORS\n",
      "       Eric Shienbrood, UC Berkeley\n",
      "       Modified by Geoff Peck, UCB to add underlining, single spacing\n",
      "       Modified by John Foderaro, UCB to add -c and MORE environment variable\n",
      "\n",
      "SEE ALSO\n",
      "       less(1), vi(1)\n",
      "\n",
      "AVAILABILITY\n",
      "       The  more  command  is  part of the util-linux package and is available\n",
      "       from Linux Kernel Archive ⟨https://www.kernel.org/pub/linux/utils/util-\n",
      "       linux/⟩.\n",
      "\n",
      "util-linux                        March 2020                           MORE(1)\n"
     ]
    }
   ],
   "source": [
    "man more"
   ]
  },
  {
   "cell_type": "markdown",
   "metadata": {},
   "source": [
    "### The ```head``` command.\n",
    "\n",
    "This command allows you to display the first 10 lines of a text flow.\n",
    "\n",
    "```\n",
    "head <options> <file>\n",
    "```\n",
    "\n",
    "Where:\n",
    "\n",
    "* ```<file>``` is a text stream file.\n",
    "\n",
    "The ```-n``` option allows you to specify the number of lines that ```head``` will display."
   ]
  },
  {
   "cell_type": "code",
   "execution_count": 38,
   "metadata": {},
   "outputs": [
    {
     "name": "stdout",
     "output_type": "stream",
     "text": [
      "MIT License\n",
      "\n",
      "Copyright (c) 2018 Cloudevel®\n",
      "\n",
      "ssion is hereby granted, free of charge, to any person obtaining a copy\n",
      "of this software and associated documentation files (the \"Software\"), to deal\n",
      "in the Software without restriction, including without limitation the rights\n",
      "t use, copia, modify, merge, publish, distribute, sublicense, and/or sell\n",
      "copies of the Software, and to permit persons to whom the Software is\n",
      "furnished to do so, subject to the following conditions:\n"
     ]
    }
   ],
   "source": [
    "head ../LICENSE"
   ]
  },
  {
   "cell_type": "code",
   "execution_count": 39,
   "metadata": {},
   "outputs": [
    {
     "name": "stdout",
     "output_type": "stream",
     "text": [
      "MIT License\n",
      "\n",
      "Copyright (c) 2018 Cloudevel®\n",
      "\n"
     ]
    }
   ],
   "source": [
    "head ../LICENSE -n 4"
   ]
  },
  {
   "cell_type": "markdown",
   "metadata": {},
   "source": [
    "#### La manpage de ```head```."
   ]
  },
  {
   "cell_type": "code",
   "execution_count": 40,
   "metadata": {},
   "outputs": [
    {
     "name": "stdout",
     "output_type": "stream",
     "text": [
      "HEAD(1)                          User Commands                         HEAD(1)\n",
      "\n",
      "NAME\n",
      "       head - output the first part of files\n",
      "\n",
      "SYNOPSIS\n",
      "       head [OPTION]... [FILE]...\n",
      "\n",
      "DESCRIPTION\n",
      "       Print  the  first  10 lines of each FILE to standard output.  With more\n",
      "       than one FILE, precede each with a header giving the file name.\n",
      "\n",
      "       With no FILE, or when FILE is -, read standard input.\n",
      "\n",
      "       Mandatory arguments to long options are  mandatory  for  short  options\n",
      "       too.\n",
      "\n",
      "       -c, --bytes=[-]NUM\n",
      "              print  the  first  NUM bytes of each file; with the leading '-',\n",
      "              print all but the last NUM bytes of each file\n",
      "\n",
      "       -n, --lines=[-]NUM\n",
      "              print the first NUM lines instead of  the  first  10;  with  the\n",
      "              leading '-', print all but the last NUM lines of each file\n",
      "\n",
      "       -q, --quiet, --silent\n",
      "              never print headers giving file names\n",
      "\n",
      "       -v, --verbose\n",
      "              always print headers giving file names\n",
      "\n",
      "       -z, --zero-terminated\n",
      "              line delimiter is NUL, not newline\n",
      "\n",
      "       --help display this help and exit\n",
      "\n",
      "       --version\n",
      "              output version information and exit\n",
      "\n",
      "       NUM may have a multiplier suffix: b 512, kB 1000, K 1024, MB 1000*1000,\n",
      "       M 1024*1024, GB 1000*1000*1000, G 1024*1024*1024, and so on for  T,  P,\n",
      "       E, Z, Y.  Binary prefixes can be used, too: KiB=K, MiB=M, and so on.\n",
      "\n",
      "AUTHOR\n",
      "       Written by David MacKenzie and Jim Meyering.\n",
      "\n",
      "REPORTING BUGS\n",
      "       GNU coreutils online help: <https://www.gnu.org/software/coreutils/>\n",
      "       Report any translation bugs to <https://translationproject.org/team/>\n",
      "\n",
      "COPYRIGHT\n",
      "       Copyright  ©  2020  Free Software Foundation, Inc.  License GPLv3+: GNU\n",
      "       GPL version 3 or later <https://gnu.org/licenses/gpl.html>.\n",
      "       This is free software: you are free  to  change  and  redistribute  it.\n",
      "       There is NO WARRANTY, to the extent permitted by law.\n",
      "\n",
      "SEE ALSO\n",
      "       tail(1)\n",
      "\n",
      "       Full documentation <https://www.gnu.org/software/coreutils/head>\n",
      "       or available locally via: info '(coreutils) head invocation'\n",
      "\n",
      "GNU coreutils 8.32              September 2020                         HEAD(1)\n"
     ]
    }
   ],
   "source": [
    "man head"
   ]
  },
  {
   "cell_type": "markdown",
   "metadata": {},
   "source": [
    "### The ```tail``` command.\n",
    "\n",
    "This command allows you to display the last 10 lines of a text stream.\n",
    "\n",
    "```\n",
    "tail <text stream>\n",
    "```\n",
    "\n",
    "The -n option allows you to specify the number of lines that ```tail``` will display.\n"
   ]
  },
  {
   "cell_type": "code",
   "execution_count": 42,
   "metadata": {
    "scrolled": true
   },
   "outputs": [
    {
     "name": "stdout",
     "output_type": "stream",
     "text": [
      "Para clonar el repositorio en su sistema de archivos local, ejecute desde una terminal:\n",
      "\n",
      "``` bash\n",
      "git clone https://github.com/CristianCardosoA/linux_basic.git\n",
      "```\n",
      "\n",
      "Las notebooks son liberadas bajo los términos de la [Licencia MIT](LICENSE).\n",
      "\n",
      "<p style=\"text-align: center\"><a rel=\"license\" href=\"http://creativecommons.org/licenses/by/4.0/\"><img alt=\"Licencia Creative Commons\" style=\"border-width:0\" src=\"https://i.creativecommons.org/l/by/4.0/80x15.png\" /></a><br />Esta obra está bajo una <a rel=\"license\" href=\"http://creativecommons.org/licenses/by/4.0/\">Licencia Creative Commons Atribución 4.0 Internacional</a>.</p>\n",
      "<p style=\"text-align: center\">Contenido creado por: José Luis Chiquete Valdivieso. 2019.</p><p style=\"text-align: center\">Contenido modificado por: Cristian Cardoso Arellano. 2023.</p>\n"
     ]
    }
   ],
   "source": [
    "tail ../README.md"
   ]
  },
  {
   "cell_type": "code",
   "execution_count": 41,
   "metadata": {},
   "outputs": [
    {
     "name": "stdout",
     "output_type": "stream",
     "text": [
      "Las notebooks son liberadas bajo los términos de la [Licencia MIT](LICENSE).\n",
      "\n",
      "<p style=\"text-align: center\"><a rel=\"license\" href=\"http://creativecommons.org/licenses/by/4.0/\"><img alt=\"Licencia Creative Commons\" style=\"border-width:0\" src=\"https://i.creativecommons.org/l/by/4.0/80x15.png\" /></a><br />Esta obra está bajo una <a rel=\"license\" href=\"http://creativecommons.org/licenses/by/4.0/\">Licencia Creative Commons Atribución 4.0 Internacional</a>.</p>\n",
      "<p style=\"text-align: center\">Contenido creado por: José Luis Chiquete Valdivieso. 2019.</p><p style=\"text-align: center\">Contenido modificado por: Cristian Cardoso Arellano. 2023.</p>\n"
     ]
    }
   ],
   "source": [
    "tail ../README.md -n 4"
   ]
  },
  {
   "cell_type": "markdown",
   "metadata": {},
   "source": [
    "#### The ```tail``` manpage."
   ]
  },
  {
   "cell_type": "code",
   "execution_count": 43,
   "metadata": {},
   "outputs": [
    {
     "name": "stdout",
     "output_type": "stream",
     "text": [
      "TAIL(1)                          User Commands                         TAIL(1)\n",
      "\n",
      "NAME\n",
      "       tail - output the last part of files\n",
      "\n",
      "SYNOPSIS\n",
      "       tail [OPTION]... [FILE]...\n",
      "\n",
      "DESCRIPTION\n",
      "       Print  the  last  10  lines of each FILE to standard output.  With more\n",
      "       than one FILE, precede each with a header giving the file name.\n",
      "\n",
      "       With no FILE, or when FILE is -, read standard input.\n",
      "\n",
      "       Mandatory arguments to long options are  mandatory  for  short  options\n",
      "       too.\n",
      "\n",
      "       -c, --bytes=[+]NUM\n",
      "              output  the  last  NUM  bytes; or use -c +NUM to output starting\n",
      "              with byte NUM of each file\n",
      "\n",
      "       -f, --follow[={name|descriptor}]\n",
      "              output appended data as the file grows;\n",
      "\n",
      "              an absent option argument means 'descriptor'\n",
      "\n",
      "       -F     same as --follow=name --retry\n",
      "\n",
      "       -n, --lines=[+]NUM\n",
      "              output the last NUM lines, instead of the last  10;  or  use  -n\n",
      "              +NUM to output starting with line NUM\n",
      "\n",
      "       --max-unchanged-stats=N\n",
      "              with --follow=name, reopen a FILE which has not\n",
      "\n",
      "              changed  size  after  N  (default 5) iterations to see if it has\n",
      "              been unlinked or renamed (this is the usual case of rotated  log\n",
      "              files); with inotify, this option is rarely useful\n",
      "\n",
      "       --pid=PID\n",
      "              with -f, terminate after process ID, PID dies\n",
      "\n",
      "       -q, --quiet, --silent\n",
      "              never output headers giving file names\n",
      "\n",
      "       --retry\n",
      "              keep trying to open a file if it is inaccessible\n",
      "\n",
      "       -s, --sleep-interval=N\n",
      "              with -f, sleep for approximately N seconds (default 1.0) between\n",
      "              iterations; with inotify and --pid=P, check process P  at  least\n",
      "              once every N seconds\n",
      "\n",
      "       -v, --verbose\n",
      "              always output headers giving file names\n",
      "\n",
      "       -z, --zero-terminated\n",
      "              line delimiter is NUL, not newline\n",
      "\n",
      "       --help display this help and exit\n",
      "\n",
      "       --version\n",
      "              output version information and exit\n",
      "\n",
      "       NUM may have a multiplier suffix: b 512, kB 1000, K 1024, MB 1000*1000,\n",
      "       M 1024*1024, GB 1000*1000*1000, G 1024*1024*1024, and so on for  T,  P,\n",
      "       E, Z, Y.  Binary prefixes can be used, too: KiB=K, MiB=M, and so on.\n",
      "\n",
      "       With  --follow  (-f),  tail  defaults to following the file descriptor,\n",
      "       which means that even if a tail'ed file is renamed, tail will  continue\n",
      "       to  track its end.  This default behavior is not desirable when you re‐\n",
      "       ally want to track the actual name of the file, not the file descriptor\n",
      "       (e.g.,  log  rotation).   Use  --follow=name in that case.  That causes\n",
      "       tail to track the named file in a way that accommodates  renaming,  re‐\n",
      "       moval and creation.\n",
      "\n",
      "AUTHOR\n",
      "       Written  by Paul Rubin, David MacKenzie, Ian Lance Taylor, and Jim Mey‐\n",
      "       ering.\n",
      "\n",
      "REPORTING BUGS\n",
      "       GNU coreutils online help: <https://www.gnu.org/software/coreutils/>\n",
      "       Report any translation bugs to <https://translationproject.org/team/>\n",
      "\n",
      "COPYRIGHT\n",
      "       Copyright © 2020 Free Software Foundation, Inc.   License  GPLv3+:  GNU\n",
      "       GPL version 3 or later <https://gnu.org/licenses/gpl.html>.\n",
      "       This  is  free  software:  you  are free to change and redistribute it.\n",
      "       There is NO WARRANTY, to the extent permitted by law.\n",
      "\n",
      "SEE ALSO\n",
      "       head(1)\n",
      "\n",
      "       Full documentation <https://www.gnu.org/software/coreutils/tail>\n",
      "       or available locally via: info '(coreutils) tail invocation'\n",
      "\n",
      "GNU coreutils 8.32              September 2020                         TAIL(1)\n"
     ]
    }
   ],
   "source": [
    "man tail"
   ]
  },
  {
   "cell_type": "markdown",
   "metadata": {},
   "source": [
    "### The ```wc``` command.\n",
    "\n",
    "This command allows you to count the elements of a text flow\n",
    "```\n",
    "wc <text stream> <options>\n",
    "```\n",
    "\n",
    "Running this command with no options will return:\n",
    "\n",
    "* The number of lines of the flow.\n",
    "* The number of words in the stream.\n",
    "* The number of characters in the stream.\n",
    "\n",
    "#### Options .\n",
    "\n",
    "* The ```-l``` option will display the number of lines.\n",
    "* The ```-w``` option will display the number of words.\n",
    "* The ```-c``` option will display the number of characters."
   ]
  },
  {
   "cell_type": "code",
   "execution_count": 44,
   "metadata": {},
   "outputs": [
    {
     "name": "stdout",
     "output_type": "stream",
     "text": [
      "  23  123 1202 ../README.md\n"
     ]
    }
   ],
   "source": [
    "wc ../README.md"
   ]
  },
  {
   "cell_type": "code",
   "execution_count": 45,
   "metadata": {},
   "outputs": [
    {
     "name": "stdout",
     "output_type": "stream",
     "text": [
      "23 ../README.md\n"
     ]
    }
   ],
   "source": [
    "wc ../README.md -l"
   ]
  },
  {
   "cell_type": "code",
   "execution_count": 46,
   "metadata": {},
   "outputs": [
    {
     "name": "stdout",
     "output_type": "stream",
     "text": [
      "123 ../README.md\n"
     ]
    }
   ],
   "source": [
    "wc ../README.md -w"
   ]
  },
  {
   "cell_type": "code",
   "execution_count": 47,
   "metadata": {
    "scrolled": true
   },
   "outputs": [
    {
     "name": "stdout",
     "output_type": "stream",
     "text": [
      "1202 ../README.md\n"
     ]
    }
   ],
   "source": [
    "wc ../README.md -c"
   ]
  },
  {
   "cell_type": "code",
   "execution_count": 48,
   "metadata": {},
   "outputs": [
    {
     "name": "stdout",
     "output_type": "stream",
     "text": [
      " 123 1202 ../README.md\n"
     ]
    }
   ],
   "source": [
    "wc ../README.md -cw"
   ]
  },
  {
   "cell_type": "markdown",
   "metadata": {},
   "source": [
    "#### The ```wc``` handle."
   ]
  },
  {
   "cell_type": "code",
   "execution_count": 49,
   "metadata": {},
   "outputs": [
    {
     "name": "stdout",
     "output_type": "stream",
     "text": [
      "WC(1)                            User Commands                           WC(1)\n",
      "\n",
      "NAME\n",
      "       wc - print newline, word, and byte counts for each file\n",
      "\n",
      "SYNOPSIS\n",
      "       wc [OPTION]... [FILE]...\n",
      "       wc [OPTION]... --files0-from=F\n",
      "\n",
      "DESCRIPTION\n",
      "       Print newline, word, and byte counts for each FILE, and a total line if\n",
      "       more than one FILE is specified.  A word is a non-zero-length  sequence\n",
      "       of characters delimited by white space.\n",
      "\n",
      "       With no FILE, or when FILE is -, read standard input.\n",
      "\n",
      "       The  options  below may be used to select which counts are printed, al‐\n",
      "       ways in the following order: newline, word,  character,  byte,  maximum\n",
      "       line length.\n",
      "\n",
      "       -c, --bytes\n",
      "              print the byte counts\n",
      "\n",
      "       -m, --chars\n",
      "              print the character counts\n",
      "\n",
      "       -l, --lines\n",
      "              print the newline counts\n",
      "\n",
      "       --files0-from=F\n",
      "              read  input  from the files specified by NUL-terminated names in\n",
      "              file F; If F is - then read names from standard input\n",
      "\n",
      "       -L, --max-line-length\n",
      "              print the maximum display width\n",
      "\n",
      "       -w, --words\n",
      "              print the word counts\n",
      "\n",
      "       --help display this help and exit\n",
      "\n",
      "       --version\n",
      "              output version information and exit\n",
      "\n",
      "AUTHOR\n",
      "       Written by Paul Rubin and David MacKenzie.\n",
      "\n",
      "REPORTING BUGS\n",
      "       GNU coreutils online help: <https://www.gnu.org/software/coreutils/>\n",
      "       Report any translation bugs to <https://translationproject.org/team/>\n",
      "\n",
      "COPYRIGHT\n",
      "       Copyright © 2020 Free Software Foundation, Inc.   License  GPLv3+:  GNU\n",
      "       GPL version 3 or later <https://gnu.org/licenses/gpl.html>.\n",
      "       This  is  free  software:  you  are free to change and redistribute it.\n",
      "       There is NO WARRANTY, to the extent permitted by law.\n",
      "\n",
      "SEE ALSO\n",
      "       Full documentation <https://www.gnu.org/software/coreutils/wc>\n",
      "       or available locally via: info '(coreutils) wc invocation'\n",
      "\n",
      "GNU coreutils 8.32              September 2020                           WC(1)\n"
     ]
    }
   ],
   "source": [
    "man wc"
   ]
  },
  {
   "cell_type": "markdown",
   "metadata": {},
   "source": [
    "### The ```nl``` command.\n",
    "\n",
    "This command will assign and display a consecutive number to the left of each line in the stream.\n",
    "\n",
    "```\n",
    "nl <stream>\n",
    "```"
   ]
  },
  {
   "cell_type": "code",
   "execution_count": 50,
   "metadata": {},
   "outputs": [
    {
     "name": "stdout",
     "output_type": "stream",
     "text": [
      "       \n",
      "     1\t# cd101 \"Introducción a GNU/Linux desde la línea de comandos\".\n",
      "       \n",
      "     2\tNotebooks de [Jupyter](https://jupyter.org) que incluyen los apuntes del curso cd101 \"Introducción a GNU/Linux desde la línea de comandos\"\n",
      "       \n",
      "       \n",
      "     3\t## El kernel de Bash para Jupyter.\n",
      "       \n",
      "     4\tLas notebooks se deben de ejecutar utilizando el [kernel de Bash](https://github.com/takluyver/bash_kernel).\n",
      "       \n",
      "       \n",
      "     5\t## Clonación del repositorio.\n",
      "       \n",
      "     6\tPara clonar el repositorio en su sistema de archivos local, ejecute desde una terminal:\n",
      "       \n",
      "     7\t``` bash\n",
      "     8\tgit clone https://github.com/CristianCardosoA/linux_basic.git\n",
      "     9\t```\n",
      "       \n",
      "    10\tLas notebooks son liberadas bajo los términos de la [Licencia MIT](LICENSE).\n",
      "       \n",
      "    11\t<p style=\"text-align: center\"><a rel=\"license\" href=\"http://creativecommons.org/licenses/by/4.0/\"><img alt=\"Licencia Creative Commons\" style=\"border-width:0\" src=\"https://i.creativecommons.org/l/by/4.0/80x15.png\" /></a><br />Esta obra está bajo una <a rel=\"license\" href=\"http://creativecommons.org/licenses/by/4.0/\">Licencia Creative Commons Atribución 4.0 Internacional</a>.</p>\n",
      "    12\t<p style=\"text-align: center\">Contenido creado por: José Luis Chiquete Valdivieso. 2019.</p><p style=\"text-align: center\">Contenido modificado por: Cristian Cardoso Arellano. 2023.</p>\n"
     ]
    }
   ],
   "source": [
    "nl ../README.md"
   ]
  },
  {
   "cell_type": "markdown",
   "metadata": {},
   "source": [
    "#### The manpage of ```nl```."
   ]
  },
  {
   "cell_type": "code",
   "execution_count": 51,
   "metadata": {},
   "outputs": [
    {
     "name": "stdout",
     "output_type": "stream",
     "text": [
      "NL(1)                            User Commands                           NL(1)\n",
      "\n",
      "NAME\n",
      "       nl - number lines of files\n",
      "\n",
      "SYNOPSIS\n",
      "       nl [OPTION]... [FILE]...\n",
      "\n",
      "DESCRIPTION\n",
      "       Write each FILE to standard output, with line numbers added.\n",
      "\n",
      "       With no FILE, or when FILE is -, read standard input.\n",
      "\n",
      "       Mandatory  arguments  to  long  options are mandatory for short options\n",
      "       too.\n",
      "\n",
      "       -b, --body-numbering=STYLE\n",
      "              use STYLE for numbering body lines\n",
      "\n",
      "       -d, --section-delimiter=CC\n",
      "              use CC for logical page delimiters\n",
      "\n",
      "       -f, --footer-numbering=STYLE\n",
      "              use STYLE for numbering footer lines\n",
      "\n",
      "       -h, --header-numbering=STYLE\n",
      "              use STYLE for numbering header lines\n",
      "\n",
      "       -i, --line-increment=NUMBER\n",
      "              line number increment at each line\n",
      "\n",
      "       -l, --join-blank-lines=NUMBER\n",
      "              group of NUMBER empty lines counted as one\n",
      "\n",
      "       -n, --number-format=FORMAT\n",
      "              insert line numbers according to FORMAT\n",
      "\n",
      "       -p, --no-renumber\n",
      "              do not reset line numbers for each section\n",
      "\n",
      "       -s, --number-separator=STRING\n",
      "              add STRING after (possible) line number\n",
      "\n",
      "       -v, --starting-line-number=NUMBER\n",
      "              first line number for each section\n",
      "\n",
      "       -w, --number-width=NUMBER\n",
      "              use NUMBER columns for line numbers\n",
      "\n",
      "       --help display this help and exit\n",
      "\n",
      "       --version\n",
      "              output version information and exit\n",
      "\n",
      "       Default options are: -bt -d'\\:' -fn -hn -i1 -l1 -n'rn' -s<TAB> -v1 -w6\n",
      "\n",
      "       CC are two delimiter characters used to construct logical  page  delim‐\n",
      "       iters; a missing second character implies ':'.\n",
      "\n",
      "       STYLE is one of:\n",
      "\n",
      "       a      number all lines\n",
      "\n",
      "       t      number only nonempty lines\n",
      "\n",
      "       n      number no lines\n",
      "\n",
      "       pBRE   number only lines that contain a match for the basic regular ex‐\n",
      "              pression, BRE\n",
      "\n",
      "       FORMAT is one of:\n",
      "\n",
      "       ln     left justified, no leading zeros\n",
      "\n",
      "       rn     right justified, no leading zeros\n",
      "\n",
      "       rz     right justified, leading zeros\n",
      "\n",
      "AUTHOR\n",
      "       Written by Scott Bartram and David MacKenzie.\n",
      "\n",
      "REPORTING BUGS\n",
      "       GNU coreutils online help: <https://www.gnu.org/software/coreutils/>\n",
      "       Report any translation bugs to <https://translationproject.org/team/>\n",
      "\n",
      "COPYRIGHT\n",
      "       Copyright © 2020 Free Software Foundation, Inc.   License  GPLv3+:  GNU\n",
      "       GPL version 3 or later <https://gnu.org/licenses/gpl.html>.\n",
      "       This  is  free  software:  you  are free to change and redistribute it.\n",
      "       There is NO WARRANTY, to the extent permitted by law.\n",
      "\n",
      "SEE ALSO\n",
      "       Full documentation <https://www.gnu.org/software/coreutils/nl>\n",
      "       or available locally via: info '(coreutils) nl invocation'\n",
      "\n",
      "GNU coreutils 8.32              September 2020                           NL(1)\n"
     ]
    }
   ],
   "source": [
    "man nl"
   ]
  },
  {
   "cell_type": "markdown",
   "metadata": {},
   "source": [
    "### The ```sort ``` command.\n",
    "\n",
    "This command returns the content of the entered text stream, sorted by various criteria.\n",
    "\n",
    "```\n",
    "sort <text stream> <options>\n",
    "```\n",
    "\n",
    "If the ```sort``` command is used without options, it will sort the characters on each line from least to greatest.\n",
    "\n",
    "\n",
    "### Options.\n",
    "\n",
    "* The ```-r``` option does the reverse sorting.\n",
    "* The ```-n``` option performs numeric sorting."
   ]
  },
  {
   "cell_type": "code",
   "execution_count": 52,
   "metadata": {},
   "outputs": [],
   "source": [
    "echo -e \"Hugo\\nPaco\\nLuis\" > ~/patos.txt"
   ]
  },
  {
   "cell_type": "code",
   "execution_count": 53,
   "metadata": {},
   "outputs": [
    {
     "name": "stdout",
     "output_type": "stream",
     "text": [
      "Hugo\n",
      "Paco\n",
      "Luis\n"
     ]
    }
   ],
   "source": [
    "cat ~/patos.txt"
   ]
  },
  {
   "cell_type": "code",
   "execution_count": 54,
   "metadata": {},
   "outputs": [
    {
     "name": "stdout",
     "output_type": "stream",
     "text": [
      "Hugo\n",
      "Luis\n",
      "Paco\n"
     ]
    }
   ],
   "source": [
    "sort ~/patos.txt"
   ]
  },
  {
   "cell_type": "code",
   "execution_count": 55,
   "metadata": {},
   "outputs": [],
   "source": [
    "echo -e \"Sota\\nCaballo\\nRey\" > ~/cartas.txt"
   ]
  },
  {
   "cell_type": "code",
   "execution_count": 56,
   "metadata": {},
   "outputs": [
    {
     "name": "stdout",
     "output_type": "stream",
     "text": [
      "Sota\n",
      "Caballo\n",
      "Rey\n"
     ]
    }
   ],
   "source": [
    "cat ~/cartas.txt"
   ]
  },
  {
   "cell_type": "code",
   "execution_count": 57,
   "metadata": {},
   "outputs": [
    {
     "name": "stdout",
     "output_type": "stream",
     "text": [
      "Caballo\n",
      "Hugo\n",
      "Luis\n",
      "Paco\n",
      "Rey\n",
      "Sota\n"
     ]
    }
   ],
   "source": [
    "sort ~/patos.txt ~/cartas.txt"
   ]
  },
  {
   "cell_type": "code",
   "execution_count": 58,
   "metadata": {},
   "outputs": [
    {
     "name": "stdout",
     "output_type": "stream",
     "text": [
      "Sota\n",
      "Rey\n",
      "Paco\n",
      "Luis\n",
      "Hugo\n",
      "Caballo\n"
     ]
    }
   ],
   "source": [
    "sort ~/patos.txt ~/cartas.txt -r"
   ]
  },
  {
   "cell_type": "code",
   "execution_count": 61,
   "metadata": {},
   "outputs": [],
   "source": [
    "echo -e \"2\\n5\\n21\\n32\\n6\\n245\\n\" > ~/numeros.txt"
   ]
  },
  {
   "cell_type": "code",
   "execution_count": 62,
   "metadata": {},
   "outputs": [
    {
     "name": "stdout",
     "output_type": "stream",
     "text": [
      "2\n",
      "5\n",
      "21\n",
      "32\n",
      "6\n",
      "245\n",
      "\n"
     ]
    }
   ],
   "source": [
    "cat ~/numeros.txt"
   ]
  },
  {
   "cell_type": "code",
   "execution_count": 63,
   "metadata": {},
   "outputs": [
    {
     "name": "stdout",
     "output_type": "stream",
     "text": [
      "\n",
      "2\n",
      "21\n",
      "245\n",
      "32\n",
      "5\n",
      "6\n"
     ]
    }
   ],
   "source": [
    "sort ~/numeros.txt"
   ]
  },
  {
   "cell_type": "code",
   "execution_count": 64,
   "metadata": {},
   "outputs": [
    {
     "name": "stdout",
     "output_type": "stream",
     "text": [
      "\n",
      "2\n",
      "5\n",
      "6\n",
      "21\n",
      "32\n",
      "245\n"
     ]
    }
   ],
   "source": [
    "sort ~/numeros.txt -n"
   ]
  },
  {
   "cell_type": "markdown",
   "metadata": {},
   "source": [
    "#### The manpage of ```sort```."
   ]
  },
  {
   "cell_type": "code",
   "execution_count": 65,
   "metadata": {},
   "outputs": [
    {
     "name": "stdout",
     "output_type": "stream",
     "text": [
      "SORT(1)                          User Commands                         SORT(1)\n",
      "\n",
      "NAME\n",
      "       sort - sort lines of text files\n",
      "\n",
      "SYNOPSIS\n",
      "       sort [OPTION]... [FILE]...\n",
      "       sort [OPTION]... --files0-from=F\n",
      "\n",
      "DESCRIPTION\n",
      "       Write sorted concatenation of all FILE(s) to standard output.\n",
      "\n",
      "       With no FILE, or when FILE is -, read standard input.\n",
      "\n",
      "       Mandatory  arguments  to  long  options are mandatory for short options\n",
      "       too.  Ordering options:\n",
      "\n",
      "       -b, --ignore-leading-blanks\n",
      "              ignore leading blanks\n",
      "\n",
      "       -d, --dictionary-order\n",
      "              consider only blanks and alphanumeric characters\n",
      "\n",
      "       -f, --ignore-case\n",
      "              fold lower case to upper case characters\n",
      "\n",
      "       -g, --general-numeric-sort\n",
      "              compare according to general numerical value\n",
      "\n",
      "       -i, --ignore-nonprinting\n",
      "              consider only printable characters\n",
      "\n",
      "       -M, --month-sort\n",
      "              compare (unknown) < 'JAN' < ... < 'DEC'\n",
      "\n",
      "       -h, --human-numeric-sort\n",
      "              compare human readable numbers (e.g., 2K 1G)\n",
      "\n",
      "       -n, --numeric-sort\n",
      "              compare according to string numerical value\n",
      "\n",
      "       -R, --random-sort\n",
      "              shuffle, but group identical keys.  See shuf(1)\n",
      "\n",
      "       --random-source=FILE\n",
      "              get random bytes from FILE\n",
      "\n",
      "       -r, --reverse\n",
      "              reverse the result of comparisons\n",
      "\n",
      "       --sort=WORD\n",
      "              sort according to WORD: general-numeric  -g,  human-numeric  -h,\n",
      "              month -M, numeric -n, random -R, version -V\n",
      "\n",
      "       -V, --version-sort\n",
      "              natural sort of (version) numbers within text\n",
      "\n",
      "       Other options:\n",
      "\n",
      "       --batch-size=NMERGE\n",
      "              merge at most NMERGE inputs at once; for more use temp files\n",
      "\n",
      "       -c, --check, --check=diagnose-first\n",
      "              check for sorted input; do not sort\n",
      "\n",
      "       -C, --check=quiet, --check=silent\n",
      "              like -c, but do not report first bad line\n",
      "\n",
      "       --compress-program=PROG\n",
      "              compress temporaries with PROG; decompress them with PROG -d\n",
      "\n",
      "       --debug\n",
      "              annotate the part of the line used to sort, and warn about ques‐\n",
      "              tionable usage to stderr\n",
      "\n",
      "       --files0-from=F\n",
      "              read input from the files specified by NUL-terminated  names  in\n",
      "              file F; If F is - then read names from standard input\n",
      "\n",
      "       -k, --key=KEYDEF\n",
      "              sort via a key; KEYDEF gives location and type\n",
      "\n",
      "       -m, --merge\n",
      "              merge already sorted files; do not sort\n",
      "\n",
      "       -o, --output=FILE\n",
      "              write result to FILE instead of standard output\n",
      "\n",
      "       -s, --stable\n",
      "              stabilize sort by disabling last-resort comparison\n",
      "\n",
      "       -S, --buffer-size=SIZE\n",
      "              use SIZE for main memory buffer\n",
      "\n",
      "       -t, --field-separator=SEP\n",
      "              use SEP instead of non-blank to blank transition\n",
      "\n",
      "       -T, --temporary-directory=DIR\n",
      "              use  DIR  for temporaries, not $TMPDIR or /tmp; multiple options\n",
      "              specify multiple directories\n",
      "\n",
      "       --parallel=N\n",
      "              change the number of sorts run concurrently to N\n",
      "\n",
      "       -u, --unique\n",
      "              with -c, check for strict ordering; without -c, output only  the\n",
      "              first of an equal run\n",
      "\n",
      "       -z, --zero-terminated\n",
      "              line delimiter is NUL, not newline\n",
      "\n",
      "       --help display this help and exit\n",
      "\n",
      "       --version\n",
      "              output version information and exit\n",
      "\n",
      "       KEYDEF  is F[.C][OPTS][,F[.C][OPTS]] for start and stop position, where\n",
      "       F is a field number and C a character position in the field;  both  are\n",
      "       origin 1, and the stop position defaults to the line's end.  If neither\n",
      "       -t nor -b is in effect, characters in a field are counted from the  be‐\n",
      "       ginning of the preceding whitespace.  OPTS is one or more single-letter\n",
      "       ordering options [bdfgiMhnRrV], which override global ordering  options\n",
      "       for that key.  If no key is given, use the entire line as the key.  Use\n",
      "       --debug to diagnose incorrect key usage.\n",
      "\n",
      "       SIZE may be followed by the following multiplicative suffixes: % 1%  of\n",
      "       memory, b 1, K 1024 (default), and so on for M, G, T, P, E, Z, Y.\n",
      "\n",
      "       ***  WARNING  ***  The locale specified by the environment affects sort\n",
      "       order.  Set LC_ALL=C to get the traditional sort order that uses native\n",
      "       byte values.\n",
      "\n",
      "AUTHOR\n",
      "       Written by Mike Haertel and Paul Eggert.\n",
      "\n",
      "REPORTING BUGS\n",
      "       GNU coreutils online help: <https://www.gnu.org/software/coreutils/>\n",
      "       Report any translation bugs to <https://translationproject.org/team/>\n",
      "\n",
      "COPYRIGHT\n",
      "       Copyright  ©  2020  Free Software Foundation, Inc.  License GPLv3+: GNU\n",
      "       GPL version 3 or later <https://gnu.org/licenses/gpl.html>.\n",
      "       This is free software: you are free  to  change  and  redistribute  it.\n",
      "       There is NO WARRANTY, to the extent permitted by law.\n",
      "\n",
      "SEE ALSO\n",
      "       shuf(1), uniq(1)\n",
      "\n",
      "       Full documentation <https://www.gnu.org/software/coreutils/sort>\n",
      "       or available locally via: info '(coreutils) sort invocation'\n",
      "\n",
      "GNU coreutils 8.32              September 2020                         SORT(1)\n"
     ]
    }
   ],
   "source": [
    "man sort"
   ]
  },
  {
   "cell_type": "markdown",
   "metadata": {},
   "source": [
    "### The ```split''' command.\n",
    "\n",
    "This command allows you to divide a text stream into segments, which are saved in files whose names are generated from prefixes.\n",
    "\n",
    "If no option is given, split creates segments of ```1000``` lines with the prefix ```x``` and suffixes of two alphabetic values ​​starting with ```aa```.\n",
    "\n",
    "#### Options.\n",
    "\n",
    "* The ```-l``` option indicates the number of lines per segment.\n",
    "* The ```-n``` option indicates the number of segments into which the stream will be split.\n",
    "* The ```-d``` option indicates that suffixes must be numeric."
   ]
  },
  {
   "cell_type": "code",
   "execution_count": 66,
   "metadata": {},
   "outputs": [],
   "source": [
    "split ../README.md -l 5"
   ]
  },
  {
   "cell_type": "markdown",
   "metadata": {},
   "source": [
    "The result is the files ```xaa```, ```xab```, ```xac```, ```xad``` and so on."
   ]
  },
  {
   "cell_type": "code",
   "execution_count": 67,
   "metadata": {},
   "outputs": [
    {
     "name": "stdout",
     "output_type": "stream",
     "text": [
      "01_introduccion_en.ipynb\n",
      "02_sistemas_de_computo_en.ipynb\n",
      "03_la_linea_de_comandos_en.ipynb\n",
      "04_directorios_y_archivos_en.ipynb\n",
      "05_jerarquía_de_directorios_en.ipynb\n",
      "06_flujos_de_texto_filtros_y_pipes_en.ipynb\n",
      "07_expresiones_regulares_y_grep_en.ipynb\n",
      "08_introduccion_a_vim_en.ipynb\n",
      "09_usuarios_y_grupos_en.ipynb\n",
      "10_permisos_y_propietarios_de_archivos_en.ipynb\n",
      "11_procesos_trabajos_y_daemons_en.ipynb\n",
      "12_find_y_xargs_en.ipynb\n",
      "13_introduccion_a_bash_scripting_en.ipynb\n",
      "14_entorno_del_shell_en.ipynb\n",
      "16_kernel_modulos_y_dispositivos_en.ipynb\n",
      "18_gestion_de_servicios_con_systemd_en.ipynb\n",
      "19_chroot_y_contenedores_en.ipynb\n",
      "20_introduccion_a_redes_en.ipynb\n",
      "21_sesiones_remotas_y_transmision_de_datos_en.ipynb\n",
      "22_virtualizacion_en.ipynb\n",
      "23_compresion_de_archivos_en.ipynb\n",
      "24_distribucion_de_software_en.ipynb\n",
      "26_seguridad_basica_en.ipynb\n",
      "xaa\n",
      "xab\n",
      "xac\n",
      "xad\n",
      "xae\n"
     ]
    }
   ],
   "source": [
    "ls"
   ]
  },
  {
   "cell_type": "code",
   "execution_count": 68,
   "metadata": {},
   "outputs": [
    {
     "name": "stdout",
     "output_type": "stream",
     "text": [
      "5 xaa\n"
     ]
    }
   ],
   "source": [
    "wc -l xaa"
   ]
  },
  {
   "cell_type": "code",
   "execution_count": 69,
   "metadata": {},
   "outputs": [
    {
     "name": "stdout",
     "output_type": "stream",
     "text": [
      "\n",
      "## El kernel de Bash para Jupyter.\n",
      "\n",
      "Las notebooks se deben de ejecutar utilizando el [kernel de Bash](https://github.com/takluyver/bash_kernel).\n",
      "\n"
     ]
    }
   ],
   "source": [
    "cat xab"
   ]
  },
  {
   "cell_type": "code",
   "execution_count": 70,
   "metadata": {},
   "outputs": [
    {
     "name": "stdout",
     "output_type": "stream",
     "text": [
      "5 xab\n"
     ]
    }
   ],
   "source": [
    "wc -l xab"
   ]
  },
  {
   "cell_type": "code",
   "execution_count": 71,
   "metadata": {},
   "outputs": [
    {
     "name": "stdout",
     "output_type": "stream",
     "text": [
      "\n",
      "## Clonación del repositorio.\n",
      "\n",
      "Para clonar el repositorio en su sistema de archivos local, ejecute desde una terminal:\n",
      "\n"
     ]
    }
   ],
   "source": [
    "cat xac"
   ]
  },
  {
   "cell_type": "code",
   "execution_count": 72,
   "metadata": {},
   "outputs": [
    {
     "name": "stdout",
     "output_type": "stream",
     "text": [
      "5 xac\n"
     ]
    }
   ],
   "source": [
    "wc -l xac"
   ]
  },
  {
   "cell_type": "code",
   "execution_count": 73,
   "metadata": {
    "scrolled": true
   },
   "outputs": [
    {
     "name": "stdout",
     "output_type": "stream",
     "text": [
      "``` bash\n",
      "git clone https://github.com/CristianCardosoA/linux_basic.git\n",
      "```\n",
      "\n",
      "Las notebooks son liberadas bajo los términos de la [Licencia MIT](LICENSE).\n"
     ]
    }
   ],
   "source": [
    "cat xad"
   ]
  },
  {
   "cell_type": "code",
   "execution_count": 74,
   "metadata": {},
   "outputs": [
    {
     "name": "stdout",
     "output_type": "stream",
     "text": [
      "5 xac\n"
     ]
    }
   ],
   "source": [
    "wc -l xac"
   ]
  },
  {
   "cell_type": "markdown",
   "metadata": {},
   "source": [
    "* The following cell will create exactly 3 files from ```README.md``` and the resulting files will be numbered."
   ]
  },
  {
   "cell_type": "code",
   "execution_count": 76,
   "metadata": {},
   "outputs": [],
   "source": [
    "split ../README.md -n 3 -d"
   ]
  },
  {
   "cell_type": "markdown",
   "metadata": {},
   "source": [
    "The result is the files ```x00``` ```x01``` ```x02```."
   ]
  },
  {
   "cell_type": "code",
   "execution_count": 77,
   "metadata": {},
   "outputs": [
    {
     "name": "stdout",
     "output_type": "stream",
     "text": [
      "\n",
      "# cd101 \"Introducción a GNU/Linux desde la línea de comandos\".\n",
      "\n",
      "Notebooks de [Jupyter](https://jupyter.org) que incluyen los apuntes del curso cd101 \"Introducción a GNU/Linux desde la línea de comandos\"\n",
      "\n",
      "\n",
      "## El kernel de Bash para Jupyter.\n",
      "\n",
      "Las notebooks se deben de ejecutar utilizando el [kernel de Bash](https://github.com/takluyver/bash_kernel).\n",
      "\n",
      "\n",
      "## Clonación del repositorio.\n",
      "\n",
      "Para clonar"
     ]
    }
   ],
   "source": [
    "cat x00"
   ]
  },
  {
   "cell_type": "code",
   "execution_count": 78,
   "metadata": {
    "scrolled": true
   },
   "outputs": [
    {
     "name": "stdout",
     "output_type": "stream",
     "text": [
      " el repositorio en su sistema de archivos local, ejecute desde una terminal:\n",
      "\n",
      "``` bash\n",
      "git clone https://github.com/CristianCardosoA/linux_basic.git\n",
      "```\n",
      "\n",
      "Las notebooks son liberadas bajo los términos de la [Licencia MIT](LICENSE).\n",
      "\n",
      "<p style=\"text-align: center\"><a rel=\"license\" href=\"http://creativecommons.org/licenses/by/4.0/\"><img alt=\"Licencia Creative Commons\" style=\"border-width:0\" src=\"http"
     ]
    }
   ],
   "source": [
    "cat x01"
   ]
  },
  {
   "cell_type": "code",
   "execution_count": 79,
   "metadata": {},
   "outputs": [
    {
     "name": "stdout",
     "output_type": "stream",
     "text": [
      "s://i.creativecommons.org/l/by/4.0/80x15.png\" /></a><br />Esta obra está bajo una <a rel=\"license\" href=\"http://creativecommons.org/licenses/by/4.0/\">Licencia Creative Commons Atribución 4.0 Internacional</a>.</p>\n",
      "<p style=\"text-align: center\">Contenido creado por: José Luis Chiquete Valdivieso. 2019.</p><p style=\"text-align: center\">Contenido modificado por: Cristian Cardoso Arellano. 2023.</p>\n"
     ]
    }
   ],
   "source": [
    "cat x02"
   ]
  },
  {
   "cell_type": "markdown",
   "metadata": {},
   "source": [
    "#### The ```split``` manpage."
   ]
  },
  {
   "cell_type": "code",
   "execution_count": 80,
   "metadata": {},
   "outputs": [
    {
     "name": "stdout",
     "output_type": "stream",
     "text": [
      "SPLIT(1)                         User Commands                        SPLIT(1)\n",
      "\n",
      "NAME\n",
      "       split - split a file into pieces\n",
      "\n",
      "SYNOPSIS\n",
      "       split [OPTION]... [FILE [PREFIX]]\n",
      "\n",
      "DESCRIPTION\n",
      "       Output  pieces of FILE to PREFIXaa, PREFIXab, ...; default size is 1000\n",
      "       lines, and default PREFIX is 'x'.\n",
      "\n",
      "       With no FILE, or when FILE is -, read standard input.\n",
      "\n",
      "       Mandatory arguments to long options are  mandatory  for  short  options\n",
      "       too.\n",
      "\n",
      "       -a, --suffix-length=N\n",
      "              generate suffixes of length N (default 2)\n",
      "\n",
      "       --additional-suffix=SUFFIX\n",
      "              append an additional SUFFIX to file names\n",
      "\n",
      "       -b, --bytes=SIZE\n",
      "              put SIZE bytes per output file\n",
      "\n",
      "       -C, --line-bytes=SIZE\n",
      "              put at most SIZE bytes of records per output file\n",
      "\n",
      "       -d     use numeric suffixes starting at 0, not alphabetic\n",
      "\n",
      "       --numeric-suffixes[=FROM]\n",
      "              same as -d, but allow setting the start value\n",
      "\n",
      "       -x     use hex suffixes starting at 0, not alphabetic\n",
      "\n",
      "       --hex-suffixes[=FROM]\n",
      "              same as -x, but allow setting the start value\n",
      "\n",
      "       -e, --elide-empty-files\n",
      "              do not generate empty output files with '-n'\n",
      "\n",
      "       --filter=COMMAND\n",
      "              write to shell COMMAND; file name is $FILE\n",
      "\n",
      "       -l, --lines=NUMBER\n",
      "              put NUMBER lines/records per output file\n",
      "\n",
      "       -n, --number=CHUNKS\n",
      "              generate CHUNKS output files; see explanation below\n",
      "\n",
      "       -t, --separator=SEP\n",
      "              use  SEP instead of newline as the record separator; '\\0' (zero)\n",
      "              specifies the NUL character\n",
      "\n",
      "       -u, --unbuffered\n",
      "              immediately copy input to output with '-n r/...'\n",
      "\n",
      "       --verbose\n",
      "              print a diagnostic just before each output file is opened\n",
      "\n",
      "       --help display this help and exit\n",
      "\n",
      "       --version\n",
      "              output version information and exit\n",
      "\n",
      "       The SIZE argument is an integer and  optional  unit  (example:  10K  is\n",
      "       10*1024).   Units  are  K,M,G,T,P,E,Z,Y  (powers  of 1024) or KB,MB,...\n",
      "       (powers of 1000).  Binary prefixes can be used, too: KiB=K, MiB=M,  and\n",
      "       so on.\n",
      "\n",
      "   CHUNKS may be:\n",
      "       N      split into N files based on size of input\n",
      "\n",
      "       K/N    output Kth of N to stdout\n",
      "\n",
      "       l/N    split into N files without splitting lines/records\n",
      "\n",
      "       l/K/N  output Kth of N to stdout without splitting lines/records\n",
      "\n",
      "       r/N    like 'l' but use round robin distribution\n",
      "\n",
      "       r/K/N  likewise but only output Kth of N to stdout\n",
      "\n",
      "AUTHOR\n",
      "       Written by Torbjorn Granlund and Richard M. Stallman.\n",
      "\n",
      "REPORTING BUGS\n",
      "       GNU coreutils online help: <https://www.gnu.org/software/coreutils/>\n",
      "       Report any translation bugs to <https://translationproject.org/team/>\n",
      "\n",
      "COPYRIGHT\n",
      "       Copyright  ©  2020  Free Software Foundation, Inc.  License GPLv3+: GNU\n",
      "       GPL version 3 or later <https://gnu.org/licenses/gpl.html>.\n",
      "       This is free software: you are free  to  change  and  redistribute  it.\n",
      "       There is NO WARRANTY, to the extent permitted by law.\n",
      "\n",
      "SEE ALSO\n",
      "       Full documentation <https://www.gnu.org/software/coreutils/split>\n",
      "       or available locally via: info '(coreutils) split invocation'\n",
      "\n",
      "GNU coreutils 8.32              September 2020                        SPLIT(1)\n"
     ]
    }
   ],
   "source": [
    "man split"
   ]
  },
  {
   "cell_type": "markdown",
   "metadata": {},
   "source": [
    "### The ```cut``` command.\n",
    "\n",
    "This command allows you to extract ranges of text from each line of a text stream.\n",
    "\n",
    "```\n",
    "cut <flujo de texto> <opciones>\n",
    "```\n",
    "\n",
    "#### Defining a range of characters.\n",
    "* The ```-c``` option defines the character range.\n",
    "\n",
    "```\n",
    "cut <flujo de texto> -c<posición de inicio>-<posición final>\n",
    "```"
   ]
  },
  {
   "cell_type": "code",
   "execution_count": 81,
   "metadata": {},
   "outputs": [
    {
     "name": "stdout",
     "output_type": "stream",
     "text": [
      "\n",
      "101 \"I\n",
      "\n",
      "books \n",
      "\n",
      "\n",
      "l kern\n",
      "\n",
      "notebo\n",
      "\n",
      "\n",
      "lonaci\n",
      "\n",
      " clona\n",
      "\n",
      "bash\n",
      "clone \n",
      "\n",
      "\n",
      "notebo\n",
      "\n",
      "tyle=\"\n",
      "tyle=\"\n"
     ]
    }
   ],
   "source": [
    "cut ../README.md -c5-10"
   ]
  },
  {
   "cell_type": "code",
   "execution_count": 83,
   "metadata": {},
   "outputs": [
    {
     "name": "stdout",
     "output_type": "stream",
     "text": [
      "\n",
      "Introducción a GNU/Linux desde la línea de comandos\".\n",
      "\n",
      " de [Jupyter](https://jupyter.org) que incluyen los apuntes del curso cd101 \"Introducción a GNU/Linux desde la línea de comandos\"\n",
      "\n",
      "\n",
      "nel de Bash para Jupyter.\n",
      "\n",
      "ooks se deben de ejecutar utilizando el [kernel de Bash](https://github.com/takluyver/bash_kernel).\n",
      "\n",
      "\n",
      "ión del repositorio.\n",
      "\n",
      "ar el repositorio en su sistema de archivos local, ejecute desde una terminal:\n",
      "\n",
      "\n",
      " https://github.com/CristianCardosoA/linux_basic.git\n",
      "\n",
      "\n",
      "ooks son liberadas bajo los términos de la [Licencia MIT](LICENSE).\n",
      "\n",
      "\"text-align: center\"><a rel=\"license\" href=\"http://creativecommons.org/licenses/by/4.0/\"><img alt=\"Licencia Creative Commons\" style=\"border-width:0\" src=\"https://i.creativecommons.org/l/by/4.0/80x15.png\" /></a><br />Esta obra está bajo una <a rel=\"license\" href=\"http://creativecommons.org/licenses/by/4.0/\">Licencia Creative Commons Atribución 4.0 Internacional</a>.</p>\n",
      "\"text-align: center\">Contenido creado por: José Luis Chiquete Valdivieso. 2019.</p><p style=\"text-align: center\">Contenido modificado por: Cristian Cardoso Arellano. 2023.</p>\n"
     ]
    }
   ],
   "source": [
    "cut ../README.md -c10-"
   ]
  },
  {
   "cell_type": "markdown",
   "metadata": {},
   "source": [
    "#### Using tab-delimited fields.\n",
    "\n",
    "If the text stream contains tabs, each tab makes up a field that can be indexed starting at 1.\n",
    "\n",
    "The ```-f``` option allows you to extract a range of fields.\n",
    "\n",
    "```\n",
    "cut <flujo de texto> -f<posición de inicio>-<posición final>\n",
    "```"
   ]
  },
  {
   "cell_type": "code",
   "execution_count": 86,
   "metadata": {},
   "outputs": [],
   "source": [
    "echo -e '1\\t2\\t3\\t4\\t5\\nuno\\tdos\\ttres\\tcuatro\\tcinco' > ~/campos.txt"
   ]
  },
  {
   "cell_type": "code",
   "execution_count": 87,
   "metadata": {},
   "outputs": [
    {
     "name": "stdout",
     "output_type": "stream",
     "text": [
      "1\t2\t3\t4\t5\n",
      "uno\tdos\ttres\tcuatro\tcinco\n"
     ]
    }
   ],
   "source": [
    "cat ~/campos.txt"
   ]
  },
  {
   "cell_type": "code",
   "execution_count": 88,
   "metadata": {},
   "outputs": [
    {
     "name": "stdout",
     "output_type": "stream",
     "text": [
      "1\n",
      "uno\n"
     ]
    }
   ],
   "source": [
    "cut ~/campos.txt -f1"
   ]
  },
  {
   "cell_type": "code",
   "execution_count": 89,
   "metadata": {
    "scrolled": true
   },
   "outputs": [
    {
     "name": "stdout",
     "output_type": "stream",
     "text": [
      "3\t4\t5\n",
      "tres\tcuatro\tcinco\n"
     ]
    }
   ],
   "source": [
    "cut ~/campos.txt -f3-"
   ]
  },
  {
   "cell_type": "markdown",
   "metadata": {},
   "source": [
    "#### Defining a separator other than a tab.\n",
    "\n",
    "The ```-d``` option allows you to define a delimiter character other than tab.\n",
    "\n",
    "```\n",
    "cut <flujo de texto> -d\"<caracter>\" -f<posición de inicio>-<posición final>\n",
    "```"
   ]
  },
  {
   "cell_type": "code",
   "execution_count": 90,
   "metadata": {},
   "outputs": [],
   "source": [
    "echo -e '1|2|3|4|5\\nuno|dos|tres|cuatro|cinco' > ~/separados.txt"
   ]
  },
  {
   "cell_type": "code",
   "execution_count": 91,
   "metadata": {},
   "outputs": [
    {
     "name": "stdout",
     "output_type": "stream",
     "text": [
      "1|2|3|4|5\n",
      "uno|dos|tres|cuatro|cinco\n"
     ]
    }
   ],
   "source": [
    "cat ~/separados.txt"
   ]
  },
  {
   "cell_type": "code",
   "execution_count": 92,
   "metadata": {},
   "outputs": [
    {
     "name": "stdout",
     "output_type": "stream",
     "text": [
      "1\n",
      "uno\n"
     ]
    }
   ],
   "source": [
    "cut ~/separados.txt -d\"|\" -f1"
   ]
  },
  {
   "cell_type": "code",
   "execution_count": 93,
   "metadata": {},
   "outputs": [
    {
     "name": "stdout",
     "output_type": "stream",
     "text": [
      "1|2|3|4|5\n",
      "uno|dos|tres|cuatro|cinco\n"
     ]
    }
   ],
   "source": [
    "cut ~/separados.txt -d\"|\" -f-5"
   ]
  },
  {
   "cell_type": "code",
   "execution_count": 94,
   "metadata": {},
   "outputs": [
    {
     "name": "stdout",
     "output_type": "stream",
     "text": [
      "3|4\n",
      "tres|cuatro\n"
     ]
    }
   ],
   "source": [
    "cut ~/separados.txt -d\"|\" -f3-4"
   ]
  },
  {
   "cell_type": "markdown",
   "metadata": {},
   "source": [
    "* The ```etc/passwd``` file contains the system user data, separated by ```:```."
   ]
  },
  {
   "cell_type": "code",
   "execution_count": 95,
   "metadata": {},
   "outputs": [
    {
     "name": "stdout",
     "output_type": "stream",
     "text": [
      "root:x:0:0:root:/root:/bin/bash\n",
      "daemon:x:1:1:daemon:/usr/sbin:/usr/sbin/nologin\n",
      "bin:x:2:2:bin:/bin:/usr/sbin/nologin\n",
      "sys:x:3:3:sys:/dev:/usr/sbin/nologin\n",
      "sync:x:4:65534:sync:/bin:/bin/sync\n",
      "games:x:5:60:games:/usr/games:/usr/sbin/nologin\n",
      "man:x:6:12:man:/var/cache/man:/usr/sbin/nologin\n",
      "lp:x:7:7:lp:/var/spool/lpd:/usr/sbin/nologin\n",
      "mail:x:8:8:mail:/var/mail:/usr/sbin/nologin\n",
      "news:x:9:9:news:/var/spool/news:/usr/sbin/nologin\n",
      "uucp:x:10:10:uucp:/var/spool/uucp:/usr/sbin/nologin\n",
      "proxy:x:13:13:proxy:/bin:/usr/sbin/nologin\n",
      "www-data:x:33:33:www-data:/var/www:/usr/sbin/nologin\n",
      "backup:x:34:34:backup:/var/backups:/usr/sbin/nologin\n",
      "list:x:38:38:Mailing List Manager:/var/list:/usr/sbin/nologin\n",
      "irc:x:39:39:ircd:/run/ircd:/usr/sbin/nologin\n",
      "gnats:x:41:41:Gnats Bug-Reporting System (admin):/var/lib/gnats:/usr/sbin/nologin\n",
      "nobody:x:65534:65534:nobody:/nonexistent:/usr/sbin/nologin\n",
      "_apt:x:100:65534::/nonexistent:/usr/sbin/nologin\n",
      "systemd-network:x:101:102:systemd Network Management,,,:/run/systemd:/usr/sbin/nologin\n",
      "systemd-resolve:x:102:103:systemd Resolver,,,:/run/systemd:/usr/sbin/nologin\n",
      "messagebus:x:103:109::/nonexistent:/usr/sbin/nologin\n",
      "systemd-timesync:x:104:110:systemd Time Synchronization,,,:/run/systemd:/usr/sbin/nologin\n",
      "avahi-autoipd:x:105:113:Avahi autoip daemon,,,:/var/lib/avahi-autoipd:/usr/sbin/nologin\n",
      "oi:x:1000:1000:oi,,,:/home/oi:/bin/bash\n",
      "systemd-coredump:x:999:999:systemd Core Dumper:/:/usr/sbin/nologin\n",
      "mysql:x:106:114:MySQL Server,,,:/nonexistent:/bin/false\n"
     ]
    }
   ],
   "source": [
    "cat /etc/passwd"
   ]
  },
  {
   "cell_type": "code",
   "execution_count": 96,
   "metadata": {},
   "outputs": [
    {
     "name": "stdout",
     "output_type": "stream",
     "text": [
      "/bin/bash\n",
      "/usr/sbin/nologin\n",
      "/usr/sbin/nologin\n",
      "/usr/sbin/nologin\n",
      "/bin/sync\n",
      "/usr/sbin/nologin\n",
      "/usr/sbin/nologin\n",
      "/usr/sbin/nologin\n",
      "/usr/sbin/nologin\n",
      "/usr/sbin/nologin\n",
      "/usr/sbin/nologin\n",
      "/usr/sbin/nologin\n",
      "/usr/sbin/nologin\n",
      "/usr/sbin/nologin\n",
      "/usr/sbin/nologin\n",
      "/usr/sbin/nologin\n",
      "/usr/sbin/nologin\n",
      "/usr/sbin/nologin\n",
      "/usr/sbin/nologin\n",
      "/usr/sbin/nologin\n",
      "/usr/sbin/nologin\n",
      "/usr/sbin/nologin\n",
      "/usr/sbin/nologin\n",
      "/usr/sbin/nologin\n",
      "/bin/bash\n",
      "/usr/sbin/nologin\n",
      "/bin/false\n"
     ]
    }
   ],
   "source": [
    "cut  /etc/passwd -d\":\" -f7"
   ]
  },
  {
   "cell_type": "markdown",
   "metadata": {},
   "source": [
    "#### The manpage of ```cut```."
   ]
  },
  {
   "cell_type": "code",
   "execution_count": 97,
   "metadata": {},
   "outputs": [
    {
     "name": "stdout",
     "output_type": "stream",
     "text": [
      "CUT(1)                           User Commands                          CUT(1)\n",
      "\n",
      "NAME\n",
      "       cut - remove sections from each line of files\n",
      "\n",
      "SYNOPSIS\n",
      "       cut OPTION... [FILE]...\n",
      "\n",
      "DESCRIPTION\n",
      "       Print selected parts of lines from each FILE to standard output.\n",
      "\n",
      "       With no FILE, or when FILE is -, read standard input.\n",
      "\n",
      "       Mandatory  arguments  to  long  options are mandatory for short options\n",
      "       too.\n",
      "\n",
      "       -b, --bytes=LIST\n",
      "              select only these bytes\n",
      "\n",
      "       -c, --characters=LIST\n",
      "              select only these characters\n",
      "\n",
      "       -d, --delimiter=DELIM\n",
      "              use DELIM instead of TAB for field delimiter\n",
      "\n",
      "       -f, --fields=LIST\n",
      "              select only these fields;  also print any line that contains  no\n",
      "              delimiter character, unless the -s option is specified\n",
      "\n",
      "       -n     (ignored)\n",
      "\n",
      "       --complement\n",
      "              complement the set of selected bytes, characters or fields\n",
      "\n",
      "       -s, --only-delimited\n",
      "              do not print lines not containing delimiters\n",
      "\n",
      "       --output-delimiter=STRING\n",
      "              use STRING as the output delimiter the default is to use the in‐\n",
      "              put delimiter\n",
      "\n",
      "       -z, --zero-terminated\n",
      "              line delimiter is NUL, not newline\n",
      "\n",
      "       --help display this help and exit\n",
      "\n",
      "       --version\n",
      "              output version information and exit\n",
      "\n",
      "       Use one, and only one of -b, -c or -f.  Each LIST is  made  up  of  one\n",
      "       range,  or  many ranges separated by commas.  Selected input is written\n",
      "       in the same order that it is read, and is written exactly  once.   Each\n",
      "       range is one of:\n",
      "\n",
      "       N      N'th byte, character or field, counted from 1\n",
      "\n",
      "       N-     from N'th byte, character or field, to end of line\n",
      "\n",
      "       N-M    from N'th to M'th (included) byte, character or field\n",
      "\n",
      "       -M     from first to M'th (included) byte, character or field\n",
      "\n",
      "AUTHOR\n",
      "       Written by David M. Ihnat, David MacKenzie, and Jim Meyering.\n",
      "\n",
      "REPORTING BUGS\n",
      "       GNU coreutils online help: <https://www.gnu.org/software/coreutils/>\n",
      "       Report any translation bugs to <https://translationproject.org/team/>\n",
      "\n",
      "COPYRIGHT\n",
      "       Copyright  ©  2020  Free Software Foundation, Inc.  License GPLv3+: GNU\n",
      "       GPL version 3 or later <https://gnu.org/licenses/gpl.html>.\n",
      "       This is free software: you are free  to  change  and  redistribute  it.\n",
      "       There is NO WARRANTY, to the extent permitted by law.\n",
      "\n",
      "SEE ALSO\n",
      "       Full documentation <https://www.gnu.org/software/coreutils/cut>\n",
      "       or available locally via: info '(coreutils) cut invocation'\n",
      "\n",
      "GNU coreutils 8.32              September 2020                          CUT(1)\n"
     ]
    }
   ],
   "source": [
    "man cut"
   ]
  },
  {
   "cell_type": "markdown",
   "metadata": {},
   "source": [
    "### The ```paste``` command.\n",
    "\n",
    "This command allows you to join more than one file in a single text flow, pasting line by line and using a tab as a separator.\n",
    "\n",
    "```\n",
    "paste <file 1> <file 2> ... <file n>\n",
    "```"
   ]
  },
  {
   "cell_type": "code",
   "execution_count": 98,
   "metadata": {},
   "outputs": [
    {
     "name": "stdout",
     "output_type": "stream",
     "text": [
      "Hugo\tSota\n",
      "Paco\tCaballo\n",
      "Luis\tRey\n"
     ]
    }
   ],
   "source": [
    "paste ~/patos.txt ~/cartas.txt"
   ]
  },
  {
   "cell_type": "markdown",
   "metadata": {},
   "source": [
    "#### The manpage of ```paste```."
   ]
  },
  {
   "cell_type": "code",
   "execution_count": null,
   "metadata": {
    "scrolled": true
   },
   "outputs": [],
   "source": [
    "man paste"
   ]
  },
  {
   "cell_type": "markdown",
   "metadata": {},
   "source": [
    "### The ```uniq``` command.\n",
    "\n",
    "The ```uniq``` command identifies contiguous repeating lines in a text stream.\n",
    "\n",
    "```\n",
    "uniq <stream> <options>\n",
    "```\n",
    "\n",
    "If run without options, it will unpause the original content, subtracting the repeated contiguous lines.\n",
    "\n",
    "#### Options.\n",
    "\n",
    "* The ```-c``` option adds the number of contiguous occurrences of a line.\n",
    "* The ```-d``` option displays only those lines that suffer from repetition."
   ]
  },
  {
   "cell_type": "code",
   "execution_count": 99,
   "metadata": {},
   "outputs": [],
   "source": [
    "echo -e \"no repetida 1\\nno repetida 2\\nrepetida\\nrepetida\\nrepetida\\nno repetida 3\\nrepetida\\nno repetida 4\" > ~/repetidos.txt"
   ]
  },
  {
   "cell_type": "code",
   "execution_count": 100,
   "metadata": {},
   "outputs": [
    {
     "name": "stdout",
     "output_type": "stream",
     "text": [
      "no repetida 1\n",
      "no repetida 2\n",
      "repetida\n",
      "repetida\n",
      "repetida\n",
      "no repetida 3\n",
      "repetida\n",
      "no repetida 4\n"
     ]
    }
   ],
   "source": [
    "cat ~/repetidos.txt"
   ]
  },
  {
   "cell_type": "code",
   "execution_count": 101,
   "metadata": {},
   "outputs": [
    {
     "name": "stdout",
     "output_type": "stream",
     "text": [
      "no repetida 1\n",
      "no repetida 2\n",
      "repetida\n",
      "no repetida 3\n",
      "repetida\n",
      "no repetida 4\n"
     ]
    }
   ],
   "source": [
    "uniq ~/repetidos.txt"
   ]
  },
  {
   "cell_type": "code",
   "execution_count": 102,
   "metadata": {},
   "outputs": [
    {
     "name": "stdout",
     "output_type": "stream",
     "text": [
      "      1 no repetida 1\n",
      "      1 no repetida 2\n",
      "      3 repetida\n",
      "      1 no repetida 3\n",
      "      1 repetida\n",
      "      1 no repetida 4\n"
     ]
    }
   ],
   "source": [
    "uniq -c ~/repetidos.txt"
   ]
  },
  {
   "cell_type": "code",
   "execution_count": 103,
   "metadata": {},
   "outputs": [
    {
     "name": "stdout",
     "output_type": "stream",
     "text": [
      "repetida\n"
     ]
    }
   ],
   "source": [
    "uniq -d ~/repetidos.txt"
   ]
  },
  {
   "cell_type": "code",
   "execution_count": 104,
   "metadata": {},
   "outputs": [
    {
     "name": "stdout",
     "output_type": "stream",
     "text": [
      "      3 repetida\n"
     ]
    }
   ],
   "source": [
    "uniq ~/repetidos.txt -dc"
   ]
  },
  {
   "cell_type": "markdown",
   "metadata": {},
   "source": [
    "#### The manpage of ```uniq```."
   ]
  },
  {
   "cell_type": "code",
   "execution_count": 105,
   "metadata": {},
   "outputs": [
    {
     "name": "stdout",
     "output_type": "stream",
     "text": [
      "UNIQ(1)                          User Commands                         UNIQ(1)\n",
      "\n",
      "NAME\n",
      "       uniq - report or omit repeated lines\n",
      "\n",
      "SYNOPSIS\n",
      "       uniq [OPTION]... [INPUT [OUTPUT]]\n",
      "\n",
      "DESCRIPTION\n",
      "       Filter  adjacent matching lines from INPUT (or standard input), writing\n",
      "       to OUTPUT (or standard output).\n",
      "\n",
      "       With no options, matching lines are merged to the first occurrence.\n",
      "\n",
      "       Mandatory arguments to long options are  mandatory  for  short  options\n",
      "       too.\n",
      "\n",
      "       -c, --count\n",
      "              prefix lines by the number of occurrences\n",
      "\n",
      "       -d, --repeated\n",
      "              only print duplicate lines, one for each group\n",
      "\n",
      "       -D     print all duplicate lines\n",
      "\n",
      "       --all-repeated[=METHOD]\n",
      "              like  -D,  but  allow  separating  groups  with  an  empty line;\n",
      "              METHOD={none(default),prepend,separate}\n",
      "\n",
      "       -f, --skip-fields=N\n",
      "              avoid comparing the first N fields\n",
      "\n",
      "       --group[=METHOD]\n",
      "              show  all  items,  separating  groups  with   an   empty   line;\n",
      "              METHOD={separate(default),prepend,append,both}\n",
      "\n",
      "       -i, --ignore-case\n",
      "              ignore differences in case when comparing\n",
      "\n",
      "       -s, --skip-chars=N\n",
      "              avoid comparing the first N characters\n",
      "\n",
      "       -u, --unique\n",
      "              only print unique lines\n",
      "\n",
      "       -z, --zero-terminated\n",
      "              line delimiter is NUL, not newline\n",
      "\n",
      "       -w, --check-chars=N\n",
      "              compare no more than N characters in lines\n",
      "\n",
      "       --help display this help and exit\n",
      "\n",
      "       --version\n",
      "              output version information and exit\n",
      "\n",
      "       A field is a run of blanks (usually spaces and/or TABs), then non-blank\n",
      "       characters.  Fields are skipped before chars.\n",
      "\n",
      "       Note: 'uniq' does not detect repeated lines unless they  are  adjacent.\n",
      "       You may want to sort the input first, or use 'sort -u' without 'uniq'.\n",
      "\n",
      "AUTHOR\n",
      "       Written by Richard M. Stallman and David MacKenzie.\n",
      "\n",
      "REPORTING BUGS\n",
      "       GNU coreutils online help: <https://www.gnu.org/software/coreutils/>\n",
      "       Report any translation bugs to <https://translationproject.org/team/>\n",
      "\n",
      "COPYRIGHT\n",
      "       Copyright  ©  2020  Free Software Foundation, Inc.  License GPLv3+: GNU\n",
      "       GPL version 3 or later <https://gnu.org/licenses/gpl.html>.\n",
      "       This is free software: you are free  to  change  and  redistribute  it.\n",
      "       There is NO WARRANTY, to the extent permitted by law.\n",
      "\n",
      "SEE ALSO\n",
      "       comm(1), join(1), sort(1)\n",
      "\n",
      "       Full documentation <https://www.gnu.org/software/coreutils/uniq>\n",
      "       or available locally via: info '(coreutils) uniq invocation'\n",
      "\n",
      "GNU coreutils 8.32              September 2020                         UNIQ(1)\n"
     ]
    }
   ],
   "source": [
    "man uniq"
   ]
  },
  {
   "cell_type": "markdown",
   "metadata": {},
   "source": [
    "## The ```tac``` command.\n",
    "\n",
    "The ```tac``` command is similar to ```cat```, but returns the contents in reverse order line by line."
   ]
  },
  {
   "cell_type": "code",
   "execution_count": 107,
   "metadata": {},
   "outputs": [
    {
     "name": "stdout",
     "output_type": "stream",
     "text": [
      "SOFTWARE.\n",
      "OUT OF OR IN CONNECTION WITH THE SOFTWARE OR THE USE OR OTHER DEALINGS IN THE\n",
      "LIABILITY, WHETHER IN AN ACTION OF CONTRACT, TORT OR OTHERWISE, ARISING FROM,\n",
      "AUTHORS OR COPYRIGHT HOLDERS BE LIABLE FOR ANY CLAIM, DAMAGES OR OTHER\n",
      "FITNESS FOR A PARTICULAR PURPOSE AND NONINFRINGEMENT. IN NO EVENT SHALL THE\n",
      "IMPLIED, INCLUDING BUT NOT LIMITED TO THE WARRANTIES OF MERCHANTABILITY,\n",
      "THE SOFTWARE IS PROVIDED \"AS IS\", WITHOUT WARRANTY OF ANY KIND, EXPRESS OR\n",
      "\n",
      "copies or substantial portions of the Software.\n",
      "The above copiaright notice and this permission notice shall be included in all\n",
      "\n",
      "furnished to do so, subject to the following conditions:\n",
      "copies of the Software, and to permit persons to whom the Software is\n",
      "t use, copia, modify, merge, publish, distribute, sublicense, and/or sell\n",
      "in the Software without restriction, including without limitation the rights\n",
      "of this software and associated documentation files (the \"Software\"), to deal\n",
      "ssion is hereby granted, free of charge, to any person obtaining a copy\n",
      "\n",
      "Copyright (c) 2018 Cloudevel®\n",
      "\n",
      "MIT License\n"
     ]
    }
   ],
   "source": [
    "tac ../LICENSE"
   ]
  },
  {
   "cell_type": "markdown",
   "metadata": {},
   "source": [
    "## The ```join``` command.\n",
    "\n",
    "* ```join``` allows you to extract the identical lines between files whose content is arranged in an ordered way with another that is also arranged in the same way."
   ]
  },
  {
   "cell_type": "code",
   "execution_count": 108,
   "metadata": {},
   "outputs": [],
   "source": [
    "echo -e \"Hugo\\nLuis\\nDonald\\nRosita\\nTío Rico\" > ~/maspatos.txt"
   ]
  },
  {
   "cell_type": "code",
   "execution_count": 109,
   "metadata": {},
   "outputs": [
    {
     "name": "stdout",
     "output_type": "stream",
     "text": [
      "Hugo\n",
      "Luis\n",
      "Donald\n",
      "Rosita\n",
      "Tío Rico\n"
     ]
    }
   ],
   "source": [
    "cat ~/maspatos.txt"
   ]
  },
  {
   "cell_type": "code",
   "execution_count": 110,
   "metadata": {},
   "outputs": [],
   "source": [
    "sort ~/patos.txt > ~/patos_ord.txt"
   ]
  },
  {
   "cell_type": "code",
   "execution_count": 111,
   "metadata": {},
   "outputs": [],
   "source": [
    "sort ~/maspatos.txt > ~/maspatos_ord.txt"
   ]
  },
  {
   "cell_type": "code",
   "execution_count": 112,
   "metadata": {},
   "outputs": [
    {
     "name": "stdout",
     "output_type": "stream",
     "text": [
      "Hugo\n",
      "Luis\n"
     ]
    }
   ],
   "source": [
    "join ~/patos_ord.txt ~/maspatos_ord.txt"
   ]
  },
  {
   "cell_type": "markdown",
   "metadata": {},
   "source": [
    "## The ```comm``` command.\n",
    "\n",
    "The ```comm``` command compares files whose contents are arranged in an ordered fashion."
   ]
  },
  {
   "cell_type": "code",
   "execution_count": 113,
   "metadata": {},
   "outputs": [
    {
     "name": "stdout",
     "output_type": "stream",
     "text": [
      "\tDonald\n",
      "\t\tHugo\n",
      "\t\tLuis\n",
      "Paco\n",
      "\tRosita\n",
      "\tTío Rico\n"
     ]
    }
   ],
   "source": [
    "comm ~/patos_ord.txt ~/maspatos_ord.txt"
   ]
  },
  {
   "cell_type": "code",
   "execution_count": 114,
   "metadata": {},
   "outputs": [
    {
     "name": "stdout",
     "output_type": "stream",
     "text": [
      "\t\tHugo\n",
      "\tLuis\n",
      "comm: file 2 is not in sorted order\n",
      "\tDonald\n",
      "Paco\n",
      "comm: file 1 is not in sorted order\n",
      "Luis\n",
      "\tRosita\n",
      "\tTío Rico\n",
      "comm: input is not in sorted order\n"
     ]
    },
    {
     "ename": "",
     "evalue": "1",
     "output_type": "error",
     "traceback": []
    }
   ],
   "source": [
    "comm ~/patos.txt ~/maspatos.txt"
   ]
  },
  {
   "cell_type": "markdown",
   "metadata": {},
   "source": [
    "## The ```diff``` command.\n",
    "\n",
    "The ```diff``` command generates a report of the differences between files."
   ]
  },
  {
   "cell_type": "code",
   "execution_count": 115,
   "metadata": {
    "scrolled": true
   },
   "outputs": [
    {
     "name": "stdout",
     "output_type": "stream",
     "text": [
      "2d1\n",
      "< Paco\n",
      "3a3,5\n",
      "> Donald\n",
      "> Rosita\n",
      "> Tío Rico\n"
     ]
    },
    {
     "ename": "",
     "evalue": "1",
     "output_type": "error",
     "traceback": []
    }
   ],
   "source": [
    "diff ~/patos.txt ~/maspatos.txt"
   ]
  },
  {
   "cell_type": "code",
   "execution_count": 116,
   "metadata": {
    "scrolled": true
   },
   "outputs": [
    {
     "name": "stdout",
     "output_type": "stream",
     "text": [
      "1a2\n",
      "> Paco\n",
      "3,5d3\n",
      "< Donald\n",
      "< Rosita\n",
      "< Tío Rico\n"
     ]
    },
    {
     "ename": "",
     "evalue": "1",
     "output_type": "error",
     "traceback": []
    }
   ],
   "source": [
    "diff ~/maspatos.txt ~/patos.txt"
   ]
  },
  {
   "cell_type": "markdown",
   "metadata": {},
   "source": [
    "## The ```patch``` command.\n",
    "\n",
    "The ```patch``` command allows you to apply a file resulting from ```diff``` to an original file to transform it.\n",
    "\n",
    "```\n",
    "patch <file> <patch>\n",
    "```\n",
    "\n",
    "Where:\n",
    "\n",
    "* ```<file>``` is an original file.\n",
    "* ```<patch>``` is a file with the difference between ```<file>``` and a new version of it.\n",
    "\n",
    "Changes are made directly to the original file."
   ]
  },
  {
   "cell_type": "code",
   "execution_count": 117,
   "metadata": {},
   "outputs": [
    {
     "name": "stdout",
     "output_type": "stream",
     "text": [
      "Hugo\n",
      "Paco\n",
      "Luis\n"
     ]
    }
   ],
   "source": [
    "cat ~/patos.txt"
   ]
  },
  {
   "cell_type": "code",
   "execution_count": 118,
   "metadata": {},
   "outputs": [
    {
     "name": "stdout",
     "output_type": "stream",
     "text": [
      "Hugo\n",
      "Luis\n",
      "Donald\n",
      "Rosita\n",
      "Tío Rico\n"
     ]
    }
   ],
   "source": [
    "cat ~/maspatos.txt"
   ]
  },
  {
   "cell_type": "code",
   "execution_count": 119,
   "metadata": {},
   "outputs": [
    {
     "ename": "",
     "evalue": "1",
     "output_type": "error",
     "traceback": []
    }
   ],
   "source": [
    "diff ~/patos.txt ~/maspatos.txt > ~/parche.txt"
   ]
  },
  {
   "cell_type": "code",
   "execution_count": 120,
   "metadata": {},
   "outputs": [
    {
     "name": "stdout",
     "output_type": "stream",
     "text": [
      "2d1\n",
      "< Paco\n",
      "3a3,5\n",
      "> Donald\n",
      "> Rosita\n",
      "> Tío Rico\n"
     ]
    }
   ],
   "source": [
    "cat ~/parche.txt"
   ]
  },
  {
   "cell_type": "code",
   "execution_count": 121,
   "metadata": {},
   "outputs": [
    {
     "name": "stdout",
     "output_type": "stream",
     "text": [
      "patching file /home/oi/patos.txt\n"
     ]
    }
   ],
   "source": [
    "patch ~/patos.txt ~/parche.txt"
   ]
  },
  {
   "cell_type": "code",
   "execution_count": 122,
   "metadata": {
    "scrolled": true
   },
   "outputs": [
    {
     "name": "stdout",
     "output_type": "stream",
     "text": [
      "Hugo\n",
      "Luis\n",
      "Donald\n",
      "Rosita\n",
      "Tío Rico\n"
     ]
    }
   ],
   "source": [
    "cat ~/patos.txt"
   ]
  },
  {
   "cell_type": "markdown",
   "metadata": {},
   "source": [
    "## Other filters.\n",
    "\n",
    "\n",
    "* ```awk``` and ```gawk``` each correspond to a programming language created to process text streams.\n",
    "* ```ed``` and ```sed``` correspond to a text editor that is operated from the command line using ```vi```/```vim``` expressions.\n",
    "* ```expand``` converts tabs to spaces.\n",
    "* ```unexpand``` converts multiple spaces to tabs.\n",
    "* ```tr``` extracts specific characters from a string.\n",
    "* La familia ```grip'''.\n",
    "* ```od``` transforms a file into octals.\n",
    "* ```hexdump``` returns a file in hexadecimal format.\n",
    "\n",
    "### Format filters.\n",
    "\n",
    "* ```troff``` and ```groff``` is a ```type setting``` language for UNIX.\n",
    "* ```pr``` is a filter that formats text for printing.\n",
    "* ```fmt``` is a component that allows you to convert text streams to a specific file type.\n",
    "* ```fold``` is a command that allows you to format the width of a document."
   ]
  },
  {
   "cell_type": "markdown",
   "metadata": {},
   "source": [
    "## The pipe ```|```.\n",
    "\n",
    "By their nature, filters get the data stream through an input and return the result through an output.\n",
    "\n",
    "The UNIX and GNU/Linux shell allow redirecting the inputs and outputs of a data stream through what is known as *pipes*, which allows the output of one filter to be redirected to the input of another.\n",
    "\n",
    "```\n",
    "<flujo de texto> | <filtro 1> | <filtro 2> |... | <filtro n> \n",
    "```"
   ]
  },
  {
   "cell_type": "code",
   "execution_count": 123,
   "metadata": {},
   "outputs": [
    {
     "name": "stdout",
     "output_type": "stream",
     "text": [
      "01_introduccion_en.ipynb\n",
      "02_sistemas_de_computo_en.ipynb\n",
      "03_la_linea_de_comandos_en.ipynb\n",
      "04_directorios_y_archivos_en.ipynb\n",
      "05_jerarquía_de_directorios_en.ipynb\n",
      "06_flujos_de_texto_filtros_y_pipes_en.ipynb\n",
      "07_expresiones_regulares_y_grep_en.ipynb\n",
      "08_introduccion_a_vim_en.ipynb\n",
      "09_usuarios_y_grupos_en.ipynb\n",
      "10_permisos_y_propietarios_de_archivos_en.ipynb\n",
      "11_procesos_trabajos_y_daemons_en.ipynb\n",
      "12_find_y_xargs_en.ipynb\n",
      "13_introduccion_a_bash_scripting_en.ipynb\n",
      "14_entorno_del_shell_en.ipynb\n",
      "16_kernel_modulos_y_dispositivos_en.ipynb\n",
      "18_gestion_de_servicios_con_systemd_en.ipynb\n",
      "19_chroot_y_contenedores_en.ipynb\n",
      "20_introduccion_a_redes_en.ipynb\n",
      "21_sesiones_remotas_y_transmision_de_datos_en.ipynb\n",
      "22_virtualizacion_en.ipynb\n",
      "23_compresion_de_archivos_en.ipynb\n",
      "24_distribucion_de_software_en.ipynb\n",
      "26_seguridad_basica_en.ipynb\n",
      "x00\n",
      "x01\n",
      "x02\n",
      "xaa\n",
      "xab\n",
      "xac\n",
      "xad\n",
      "xae\n"
     ]
    }
   ],
   "source": [
    "ls"
   ]
  },
  {
   "cell_type": "code",
   "execution_count": 124,
   "metadata": {},
   "outputs": [
    {
     "name": "stdout",
     "output_type": "stream",
     "text": [
      "xae\n",
      "xad\n",
      "xac\n",
      "xab\n",
      "xaa\n",
      "x02\n",
      "x01\n",
      "x00\n",
      "26_seguridad_basica_en.ipynb\n",
      "24_distribucion_de_software_en.ipynb\n",
      "23_compresion_de_archivos_en.ipynb\n",
      "22_virtualizacion_en.ipynb\n",
      "21_sesiones_remotas_y_transmision_de_datos_en.ipynb\n",
      "20_introduccion_a_redes_en.ipynb\n",
      "19_chroot_y_contenedores_en.ipynb\n",
      "18_gestion_de_servicios_con_systemd_en.ipynb\n",
      "16_kernel_modulos_y_dispositivos_en.ipynb\n",
      "14_entorno_del_shell_en.ipynb\n",
      "13_introduccion_a_bash_scripting_en.ipynb\n",
      "12_find_y_xargs_en.ipynb\n",
      "11_procesos_trabajos_y_daemons_en.ipynb\n",
      "10_permisos_y_propietarios_de_archivos_en.ipynb\n",
      "09_usuarios_y_grupos_en.ipynb\n",
      "08_introduccion_a_vim_en.ipynb\n",
      "07_expresiones_regulares_y_grep_en.ipynb\n",
      "06_flujos_de_texto_filtros_y_pipes_en.ipynb\n",
      "05_jerarquía_de_directorios_en.ipynb\n",
      "04_directorios_y_archivos_en.ipynb\n",
      "03_la_linea_de_comandos_en.ipynb\n",
      "02_sistemas_de_computo_en.ipynb\n",
      "01_introduccion_en.ipynb\n"
     ]
    }
   ],
   "source": [
    "ls | sort -r"
   ]
  },
  {
   "cell_type": "code",
   "execution_count": 125,
   "metadata": {},
   "outputs": [
    {
     "name": "stdout",
     "output_type": "stream",
     "text": [
      "03_la_linea_de_comandos_en.ipynb\n",
      "02_sistemas_de_computo_en.ipynb\n",
      "01_introduccion_en.ipynb\n"
     ]
    }
   ],
   "source": [
    "ls | sort -r | tail -n3 "
   ]
  },
  {
   "cell_type": "code",
   "execution_count": 126,
   "metadata": {},
   "outputs": [
    {
     "name": "stdout",
     "output_type": "stream",
     "text": [
      "la_linea_de_comandos_en.ipynb\n",
      "sistemas_de_computo_en.ipynb\n",
      "introduccion_en.ipynb\n"
     ]
    }
   ],
   "source": [
    "ls | sort -r | tail -n3 | cut -c4-"
   ]
  },
  {
   "cell_type": "code",
   "execution_count": 127,
   "metadata": {},
   "outputs": [
    {
     "name": "stdout",
     "output_type": "stream",
     "text": [
      "81\n"
     ]
    }
   ],
   "source": [
    "ls | sort -r | tail -n3 | cut -c4- | wc -c"
   ]
  },
  {
   "cell_type": "markdown",
   "metadata": {},
   "source": [
    "## El  pipe ```tee ```.\n",
    "\n",
    "This pipe allows you to save the data stream to a file and simultaneously send it to the input of unb pipe.\n",
    "\n",
    "``` \n",
    "<flujo> | tee <archivo> | <filtro> \n",
    "```"
   ]
  },
  {
   "cell_type": "code",
   "execution_count": 128,
   "metadata": {},
   "outputs": [
    {
     "name": "stdout",
     "output_type": "stream",
     "text": [
      "ls: cannot access '/home/oi/lista.txt': No such file or directory\n"
     ]
    },
    {
     "ename": "",
     "evalue": "2",
     "output_type": "error",
     "traceback": []
    }
   ],
   "source": [
    "ls ~/lista.txt"
   ]
  },
  {
   "cell_type": "code",
   "execution_count": 129,
   "metadata": {},
   "outputs": [
    {
     "name": "stdout",
     "output_type": "stream",
     "text": [
      "la_linea_de_comandos_en.ipynb\n",
      "sistemas_de_computo_en.ipynb\n",
      "introduccion_en.ipynb\n"
     ]
    }
   ],
   "source": [
    "ls | tee ~/lista.txt | sort -r | tail -n3 | cut -c4-"
   ]
  },
  {
   "cell_type": "code",
   "execution_count": 130,
   "metadata": {},
   "outputs": [
    {
     "name": "stdout",
     "output_type": "stream",
     "text": [
      "01_introduccion_en.ipynb\n",
      "02_sistemas_de_computo_en.ipynb\n",
      "03_la_linea_de_comandos_en.ipynb\n",
      "04_directorios_y_archivos_en.ipynb\n",
      "05_jerarquía_de_directorios_en.ipynb\n",
      "06_flujos_de_texto_filtros_y_pipes_en.ipynb\n",
      "07_expresiones_regulares_y_grep_en.ipynb\n",
      "08_introduccion_a_vim_en.ipynb\n",
      "09_usuarios_y_grupos_en.ipynb\n",
      "10_permisos_y_propietarios_de_archivos_en.ipynb\n",
      "11_procesos_trabajos_y_daemons_en.ipynb\n",
      "12_find_y_xargs_en.ipynb\n",
      "13_introduccion_a_bash_scripting_en.ipynb\n",
      "14_entorno_del_shell_en.ipynb\n",
      "16_kernel_modulos_y_dispositivos_en.ipynb\n",
      "18_gestion_de_servicios_con_systemd_en.ipynb\n",
      "19_chroot_y_contenedores_en.ipynb\n",
      "20_introduccion_a_redes_en.ipynb\n",
      "21_sesiones_remotas_y_transmision_de_datos_en.ipynb\n",
      "22_virtualizacion_en.ipynb\n",
      "23_compresion_de_archivos_en.ipynb\n",
      "24_distribucion_de_software_en.ipynb\n",
      "26_seguridad_basica_en.ipynb\n",
      "x00\n",
      "x01\n",
      "x02\n",
      "xaa\n",
      "xab\n",
      "xac\n",
      "xad\n",
      "xae\n"
     ]
    }
   ],
   "source": [
    "cat ~/lista.txt"
   ]
  },
  {
   "cell_type": "markdown",
   "metadata": {},
   "source": [
    "<p style=\"text-align: center\"><a rel=\"license\" href=\"http://creativecommons.org/licenses/by/4.0/\"><img alt=\"Creative Commons License\" style=\" border-width:0\" src=\"https://i.creativecommons.org/l/by/4.0/80x15.png\" /></a><br />This work is licensed under a <a rel=\"license \" href=\"http://creativecommons.org/licenses/by/4.0/\">Creative Commons Attribution 4.0 International License</a>.</p>\n",
    "<p style=\"text-align: center\">Content created by: José Luis Chiquete Valdivieso. 2019.</p><p style=\"text-align: center\">Content modified by: Cristian Cardoso Arellano. 2023.</p>"
   ]
  }
 ],
 "metadata": {
  "kernelspec": {
   "display_name": "Bash",
   "language": "bash",
   "name": "bash"
  },
  "language_info": {
   "codemirror_mode": "shell",
   "file_extension": ".sh",
   "mimetype": "text/x-sh",
   "name": "bash"
  }
 },
 "nbformat": 4,
 "nbformat_minor": 2
}
