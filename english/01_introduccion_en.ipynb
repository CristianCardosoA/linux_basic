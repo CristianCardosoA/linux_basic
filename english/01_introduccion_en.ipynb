{
 "cells": [
  {
   "cell_type": "markdown",
   "metadata": {
    "collapsed": true
   },
   "source": [
    "##  Objectives.\n",
    "\n",
    "\n",
    "### Use of command line.\n",
    "\n",
    "Throughout the workshop, attendees will be introduced to the basic aspects of GNU/Linux-based environments, with an emphasis on the use of the command line.\n",
    "\n",
    "### Basic knowledge about the Linux kernel.\n",
    "\n",
    "We will study how the Linux kernel has various low-level services to offer a robust platform for various types of projects.\n",
    "\n",
    "### Basic administration of a GNU/Linux-based environment.\n",
    "\n",
    "We will study the primary resources that enable proper administration of a GNU/Linux system:\n",
    "\n",
    "* User and group management.\n",
    "* File systems.\n",
    "* Management of devices and media.\n",
    "* Job and process management.\n",
    "* Bash shell.\n",
    "\n",
    "### Basic administration of a GNU/Linux-based environment.\n",
    "\n",
    "We will study the primary resources that enable proper administration of a GNU/Linux system.\n",
    "\n",
    "### Virtualization and containers.\n",
    "\n",
    "We will provide a brief introduction to how GNU/Linux-based environments can be deployed using virtualization and containers.\n"
   ]
  },
  {
   "cell_type": "markdown",
   "metadata": {},
   "source": [
    "## Background of GNU/Linux."
   ]
  },
  {
   "cell_type": "markdown",
   "metadata": {},
   "source": [
    "### *UNIX*.\n",
    "\n",
    "*UNIX* systems (*AIX*, *Solaris*, *MacOS X*, *HP-UX*, etc.) and those based on *UNIX*, such as those of the [*BSD*](https://en.wikipedia.org/wiki/Comparison_of_BSD_operating_systems) family, represent the direct antecedent of *GNU/Linux*.\n",
    "\n",
    "*UNIX* was developed by [Brian Kernighan](https://es.wikipedia.org/wiki/Brian_Kernighan), [Brian Kernighan](https://es.wikipedia.org/wiki/Brian_Kernighan) and [Brian Kernighan](https://es.wikipedia.org/wiki/Brian_Kernighan) for AT&T's Bell Labs in 1969 as an operating system for multi-user servers.\n",
    "\n",
    "Since their creation, *UNIX* operating systems have been used primarily for servers and were the first to have a \"stack\" of tools for the *TCP/IP* family of protocols.\n",
    "\n",
    "Currently, the most widely used *UNIX* system in the world is [*MacOS X*](https://developer.apple.com/library/archive/documentation/MacOSX/Conceptual/OSX_Technology_Overview/SystemTechnology/SystemTechnology.html), which is based on the [*MacOS X*](https://developer.apple.com/library/archive/documentation/MacOSX/Conceptual/OSX_Technology_Overview/SystemTechnology/SystemTechnology.html) specification.\n",
    "\n",
    "During the 1980s and 1990s, a series of disputes occurred regarding ownership of the \"*UNIX*\" specification and mark and it is in 1993 that *UNIX* is a mark owned by [*The Open Group*](https://www.opengroup.org/)."
   ]
  },
  {
   "cell_type": "markdown",
   "metadata": {},
   "source": [
    "### *POSIX*.\n",
    "\n",
    "The *UNIX* family of platforms adheres to a standard called [*POSIX*](http://pubs.opengroup.org/onlinepubs/9699919799/), which defines the interfaces and environment of an operating system and its *shell*.\n",
    "\n",
    "This specification is also shared in some respects within *GNU/Linux*."
   ]
  },
  {
   "cell_type": "markdown",
   "metadata": {},
   "source": [
    "### Free Sofware\n",
    "\n",
    "Free software was born as a reaction to the strategies of software manufacturers to prevent users from accessing the code of their products.\n",
    "\n",
    "The [*Free Software Foundation*](https://www.fsf.org/) (*FSF*) is an organization created in 1985 by [*Free Software Foundation*](https://www.fsf.org/), whose mission is to create guidelines and promote the rights derived from software published under a licensing scheme that guarantees the so-called 4 freedoms.\n",
    "\n",
    "#### The four freedoms.\n",
    "\n",
    "The four freedoms that free software promotes and safeguards are:\n",
    "\n",
    "0. The freedom to use the program, for any purpose.\n",
    "\n",
    "1. The freedom to study how the program works and modify it, adapting it to your needs.\n",
    "\n",
    "2. The freedom to distribute copies of the program, with which you can help others.\n",
    "\n",
    "3. The freedom to improve the program and make those improvements public to others, so that the entire community benefits.\n",
    "\n",
    "\n",
    "#### The *copyleft* and free licences.\n",
    "\n",
    "To reinforce these four freedoms, the term *copyleft* was coined, as an opposition to *copyrgiht*.\n",
    "\n",
    "The *copyleft* implies that the software derived from code published by means of a license of this type, must be released under an identical or compatible license, thus guaranteeing the freedom of said derived software.\n",
    "\n",
    "From this, the *FSF* defines free licenses with or without *copyleft*.\n",
    "\n",
    "\n",
    "#### The *GNU GPL* license.\n",
    "\n",
    "The [*GNU General Public License*](https://www.gnu.org/licenses/gpl) or *GNU GPL* is the suggested license of the *FSF*. There are several versions of this license.\n",
    "\n",
    "The *Linux* kernel is released under the terms of the *GNU GPLv2*.\n",
    "\n",
    "\n",
    "The *FSF* has published a catalog of licences, discussing the characteristics of each, as well as their compatibility with the *GPL* and *copyleft*. This catalog can be consulted from:\n",
    "\n",
    "https://www.gnu.org/licenses/\n"
   ]
  },
  {
   "cell_type": "markdown",
   "metadata": {},
   "source": [
    "### Open source software or *Open Source*.\n",
    "\n",
    "Parallel to the *FSF*, the [*Open Source Initiative*](https://opensource.org/) (*OSI*) was created, which promotes the use of licenses that allow the free distribution of code and the use of open standards, but does not promote the 4 freedoms.\n",
    "\n",
    "Due to the fact that the concept of Free Software has a strong moral charge and that the concept of open source is much more pragmatic, companies and corporations prefer to use the term \"open source\" to \"free software\".\n",
    "\n",
    "The *OSI* also has a catalog of licenses very similar to that of the *FSF*, which can be consulted from:\n",
    "\n",
    "https://opensource.org/licenses/."
   ]
  },
  {
   "cell_type": "markdown",
   "metadata": {},
   "source": [
    "## What is *GNU/Linux*?\n",
    "\n",
    "The *GNU/Linux* platform consists of the *Linux* kernel for lower level operations, while the basic platform operations and tools are based on the *GNU* project."
   ]
  },
  {
   "cell_type": "markdown",
   "metadata": {},
   "source": [
    "### The *GNU* project.\n",
    "\n",
    "[*GNU*](https://www.gnu.org/) is an acronym for \"*GNU is not UNIX*\" and consists of a set of tools that emulate virtually all tools and interfaces on UNIX systems. All these components have been released under a free license and primarily under the *GNU GPL*.\n",
    "\n",
    "Originally, the *GNU* project planned to include its own kernel called [*GNU Hurd*](https://www.gnu.org/software/hurd/index.html). However, the *Linux* kernel has completely replaced it."
   ]
  },
  {
   "cell_type": "markdown",
   "metadata": {},
   "source": [
    "### The *Linux* kernel.\n",
    "\n",
    "On August 25, 1991, [Linus Torvalds](https://es.wikipedia.org/wiki/Linus_Torvalds) announced the publication of a school project consisting of a kernel compatible with GNU tools called *Linux*.\n",
    "\n",
    "The original message can be consulted from:\n",
    "\n",
    "https://www.linux.com/news/linuss-famous-email\n",
    "\n",
    "Currently the *Linux* kernel is the most successful *free software* project in history and is not only the basis of the *GNU/Linux* platform, but of other platforms as widespread as [*Android*](https://source.android.com/devices/architecture/kernel/)."
   ]
  },
  {
   "cell_type": "markdown",
   "metadata": {},
   "source": [
    "## The distributions of *GNU/Linux*.\n",
    "\n",
    "Due to the characteristics of the *GNU/Linux* platform, any person or organization with the resources and technical knowledge can create their own version of the platform. These variants are known as \"Distributions\" or \"Distros\".\n",
    "\n",
    "The [*Distro Watch*](https://www.distrowatch.com/) site maintains the registry of several dozen *GNU/Linux* distributions."
   ]
  },
  {
   "cell_type": "markdown",
   "metadata": {},
   "source": [
    "## Linux Foundation.\n",
    "\n",
    "Due to the success of the *GNU/Linux* platform, various system manufacturers and technology providers created the [*Linux Foundation*](https://wiki.linuxfoundation.org), an organization whose purpose is to outline the specifications of commercial distributions based on *GNU/Linux*."
   ]
  },
  {
   "cell_type": "markdown",
   "metadata": {},
   "source": [
    "### *Linux Standard Base*.\n",
    "\n",
    "To standardize environments based on GNU/Linux, the Linux Foundation has published [*Linux Standard Base*](https://wiki.linuxfoundation.org/lsb/start), which suggests a series of guidelines on the architecture and structure of commercial distributions based on the *GNU/Linux* platform."
   ]
  },
  {
   "cell_type": "markdown",
   "metadata": {},
   "source": [
    "<p style=\"text-align: center\"><a rel=\"license\" href=\"http://creativecommons.org/licenses/by/4.0/\"><img alt=\"Creative Commons License\" style=\" border-width:0\" src=\"https://i.creativecommons.org/l/by/4.0/80x15.png\" /></a><br />This work is licensed under a <a rel=\"license \" href=\"http://creativecommons.org/licenses/by/4.0/\">Creative Commons Attribution 4.0 International License</a>.</p>\n",
    "<p style=\"text-align: center\">Content created by: José Luis Chiquete Valdivieso. 2019.</p><p style=\"text-align: center\">Content modified by: Cristian Cardoso Arellano. 2023.</p>"
   ]
  }
 ],
 "metadata": {
  "kernelspec": {
   "display_name": "Bash",
   "language": "bash",
   "name": "bash"
  },
  "language_info": {
   "codemirror_mode": "shell",
   "file_extension": ".sh",
   "mimetype": "text/x-sh",
   "name": "bash"
  }
 },
 "nbformat": 4,
 "nbformat_minor": 2
}
