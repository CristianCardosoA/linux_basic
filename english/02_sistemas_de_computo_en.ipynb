{
 "cells": [
  {
   "cell_type": "markdown",
   "metadata": {},
   "source": [
    "# Computer systems."
   ]
  },
  {
   "cell_type": "markdown",
   "metadata": {},
   "source": [
    "Computer systems are made up of:\n",
    "\n",
    "* *Hardware*: which in general are the physical components of the system.\n",
    "* *Software*: corresponding to the input, processing, storage, transmission or display of data by means of hardware."
   ]
  },
  {
   "cell_type": "markdown",
   "metadata": {},
   "source": [
    "## *Hardware*.\n",
    "\n",
    "The main components of modern computer equipment are:\n",
    "\n",
    "* *Central Processing Unit* (*CPU*).\n",
    "* Input and output devices (*I/O*).\n",
    "* *Random Access Memory) (*RAM*, for its acronym in English).\n",
    "* Storage systems."
   ]
  },
  {
   "cell_type": "markdown",
   "metadata": {},
   "source": [
    "### The central processing unit.\n",
    "\n",
    "It is the main component of a computer equipment. It consists of one or more processing \"cores\" that receive very basic arithmetic instructions, but are capable of billions of calculations per second (measured in [*Hertz*](https://es.wikipedia.org/wiki/Hercio)).\n",
    "\n",
    "The processor is capable of performing arithmetic operations on data packets up to a certain size each cycle, and the size of each data packet is measured in *bits* (usually 32 or 64 *bits*).\n",
    "\n",
    "The processing unit contains a very limited instruction set. These instructions are known as \"Machine Language\" or \"Assembler\"."
   ]
  },
  {
   "cell_type": "markdown",
   "metadata": {},
   "source": [
    "### Bus, interfaces and ports.\n",
    "\n",
    "Since the *CPU* only performs operations with data, it is necessary that there is a flow of data.\n",
    "\n",
    "Data and instructions (which are also data) enter and leave the *CPU* by means of a \"bus\", in which various interfaces of various ports converge. Some ports and interfaces can be:\n",
    "\n",
    "* Serial ports.\n",
    "* Parallel ports.\n",
    "* USB ports*.\n",
    "* *PCI* ports.\n",
    "* *AGP* ports.\n",
    "* *VGA* ports.\n",
    "* *HDMI* ports.\n",
    "* *SCSI* ports.\n",
    "* Interface *ATA*.\n",
    "* Interface *SATA*."
   ]
  },
  {
   "cell_type": "markdown",
   "metadata": {},
   "source": [
    "### Input and output devices.\n",
    "\n",
    "#### Input devices.\n",
    "\n",
    "They are those that send information to the bus, such as keyboards, pointing devices, cameras, touch screens and various sensors, etc."
   ]
  },
  {
   "cell_type": "markdown",
   "metadata": {},
   "source": [
    "#### Output devices.\n",
    "\n",
    "They are those that receive the information from the bus and display or interpret it, such as monitors, printers, relays for servomotors, etc."
   ]
  },
  {
   "cell_type": "markdown",
   "metadata": {},
   "source": [
    "#### Two-way devices.\n",
    "\n",
    "They are devices that allow the input and output of data. Such is the case of network interfaces, storage systems, audio cards, etc.\n",
    "\n",
    "As devices become more sophisticated, two-way communication is necessary. For example, even when the main function of a printer is output, it is necessary that this type of device must identify itself, indicate that it is ready to print or, where appropriate, send error messages."
   ]
  },
  {
   "cell_type": "markdown",
   "metadata": {},
   "source": [
    "### RAM memory*.\n",
    "\n",
    "It is common that despite the enormous power of the *CPU*, it is not capable of processing all the data that is sent to it or that the information is required later. For these cases it is necessary to save said information temporarily while the *CPU* is ready to receive it.\n",
    "\n",
    "Random access memory (*RAM* for the acronym *Random Access Memory*) is an input and output device capable of temporarily storing data. This temporary storage is so critical that the interface for the memory modules has its own bus.\n",
    "\n",
    "RAM memory is volatile. That is, when the computer is turned off, the content stored in memory ceases to exist.\n",
    "\n",
    "Storage capacity is measured in *bytes* (one *byte* equals 8 *bits*).\n",
    "\n",
    "In the case of small devices such as *Arduinos*, *RAM* memory is small, in the order of *Kilobytes* (*KB*). 1 *KB* corresponds to 1024 *bytes*.\n",
    "\n",
    "In the case of personal devices such as personal computers and tablets and smartphones, *RAM* memory can reach a few tens of *Gigabytes* (*GB*). 1 *GB* corresponds to *1'048,576* *bytes*.\n",
    "\n",
    "Servers can have a capacity of hundreds of *GB* and even up to several *Terabytes* (*1,073'741,824* *bytes*)."
   ]
  },
  {
   "cell_type": "markdown",
   "metadata": {},
   "source": [
    "### Devices and storage media.\n",
    "\n",
    "Much of the information that is managed in a computer system can be preserved more permanently through the use of various storage media. In the past, coiled magnetic tapes were used to store a few *KB* of information. Subsequently, the first mechanical type \"hard drives\" appeared, floppy disks and more recently laser discs, compact discs (*CD*), *DVD*, *Blue Ray* discs and solid state storage units."
   ]
  },
  {
   "cell_type": "markdown",
   "metadata": {},
   "source": [
    "#### Read-only memory (*ROM*) chips.\n",
    "\n",
    "There are small pieces of silicon that contain integrated circuits (chips and microchips) and that store a certain amount of information which is written inside them since they are manufactured and cannot be rewritten. Non-volatile memory and storage devices are known as read-only devices (*ROM* for *Read Only Memory*)."
   ]
  },
  {
   "cell_type": "markdown",
   "metadata": {},
   "source": [
    "#### *EEPROM*.\n",
    "\n",
    "The *EEPROM*, for the acronym *Electrically Erasable Programmable Read-Only Memory*) are chips designed to contain a few tens of *KB* of code, which would not be erased even with the device turned off. The only way to write to these chips is through electrical impulses. *EEPROMs* are mainly used in small devices that require very basic instructions to operate or to store the *firmware* of a device."
   ]
  },
  {
   "cell_type": "markdown",
   "metadata": {},
   "source": [
    "#### Optical Discs.\n",
    "\n",
    "Optical discs are circular pieces covered with a reflective material whose particles are susceptible to being affected by a laser beam, in such a way that these changes in the surface of the disc can be \"read\" by means of a beam of light. Most optical discs can only be written to once, which is why they are known as *ROMs*. There is a variety of optical discs whose surface can be overwritten a few times (*RAM*). these disks can only be modified a few times since the surface degrades as it is modified. Some of these media are:\n",
    "\n",
    "* Laser discs.\n",
    "* *CD*.\n",
    "* *DVD*.\n",
    "* *Discos Blue Ray*."
   ]
  },
  {
   "cell_type": "markdown",
   "metadata": {},
   "source": [
    "#### Magnetic disks.\n",
    "\n",
    "* **Magnetic discs** are circular pieces covered with a material whose particles can be modified in their polarity by applying magnetism. The device that writes and reads from disks is known as a *drive*.\n",
    "* **Flexible disks** or *floppy disks*, are very light plastic disks that are generally protected by a more rigid cover, which can be accessed through a slot. These disks are portable, interchangeable, and come in a variety of sizes. The most common are 3 and 1/2 inches and 5 and 1/4 inches. Its storage capacity is up to 1.4 MB. They were very popular for their ease of use and low cost, but now they are very scarce and obsolete.\n",
    "* **Hard drives** are magnetic media that were originally designed to store large amounts of data. Hard drives are permanently housed inside the drive (*HDD* for the acronym *Hard Disk Drive*), which spins them at thousands of revolutions per minute (*RPM*). Their capacity currently varies from a few hundred *GB* to a few *TB*. Laptops and desktops typically include one hard drive, but it is possible to deploy arrays consisting of hundreds or even thousands of drives."
   ]
  },
  {
   "cell_type": "markdown",
   "metadata": {},
   "source": [
    "\n",
    "#### Non-volatile memory devices.\n",
    "\n",
    "As memory storage technology has advanced, it has become increasingly efficient, small, and affordable; in such a way that since the beginning of the 21st century, devices based on memory modules that do not lose the stored information when disconnected have begun to be marketed.\n",
    "\n",
    "Along with the rise of mobile devices such as smartphones, digital cameras, tablets, etc. it became necessary to have small, interchangeable, low power consumption and low cost devices. It was then that \"USB sticks\", SD cards, etc. appeared. This range of devices are known as *Flash Memory* Devices.\n",
    "\n",
    "*Solid state drives (*SSD*) are devices designed to replace *HDD*. They are memory units that can be connected to the interfaces traditionally used by *HDD*. *SSD* offer many advantages regarding the speed of access to information, but they are still more expensive than *HDD*."
   ]
  },
  {
   "cell_type": "markdown",
   "metadata": {},
   "source": [
    "### Virtualization.\n",
    "\n",
    "Currently it is possible to emulate practically any type of device through software, allowing the creation of \"virtualized\" machines within a computer known as a host (*host*), which through a \"hypervisor\" is capable of managing resources emulated and compute that can be accessed by each virtual machine."
   ]
  },
  {
   "cell_type": "markdown",
   "metadata": {},
   "source": [
    "## Software.\n",
    "\n",
    "The software corresponds to the data and instructions that are executed and processed in a computer system and that go from the necessary instructions to start the system up to advanced user applications."
   ]
  },
  {
   "cell_type": "markdown",
   "metadata": {},
   "source": [
    "### *Bootloaders*.\n",
    "\n",
    "It is the software that initializes a device and configures it to run other software.\n",
    "\n",
    "Bootloaders are primarily used in embedded systems, mobile devices, and IoT."
   ]
  },
  {
   "cell_type": "markdown",
   "metadata": {},
   "source": [
    "### *BIOS/EFI*.\n",
    "\n",
    "The basic input-output system (*BIOS*) is the software of a motherboard that allows basic management of the system hardware to be carried out at a very low level.\n",
    "\n",
    "Currently the Unified Extensible Firmware Interface (*UEFI*) is replacing *BIOS* in newer devices."
   ]
  },
  {
   "cell_type": "markdown",
   "metadata": {},
   "source": [
    "### Operating systems.\n",
    "\n",
    "An operating system is the software in charge of accessing and managing the resources (physical or virtual) of a computer equipment, in such a way that it allows the execution of various applications accessible to the users of said system."
   ]
  },
  {
   "cell_type": "markdown",
   "metadata": {},
   "source": [
    "#### The kernel.\n",
    "\n",
    "The core of an operating system is known as *kernel* and is the software component in charge of identifying, accessing and managing the basic hardware and communications resources of the operating system.\n",
    "\n",
    "#### Kernel space.\n",
    "The kernel has the most extensive privileges to access operating system resources. This environment is known as \"kernel space\".\n",
    "\n",
    "#### Userspace.\n",
    "The environment in which all other operating system systems, services, and applications run is known as \"user space.\""
   ]
  },
  {
   "cell_type": "markdown",
   "metadata": {},
   "source": [
    "### Applications.\n",
    "\n",
    "Applications are generally collections of programs and libraries that a user can use without requiring privileged permissions on the system."
   ]
  },
  {
   "cell_type": "markdown",
   "metadata": {},
   "source": [
    "The following figure represents in a simplified way the spaces of an operating system.\n",
    "\n",
    "<img src=\"../img/02/sistema-operativo.png\" width=\"45%\">"
   ]
  },
  {
   "cell_type": "markdown",
   "metadata": {},
   "source": [
    "<p style=\"text-align: center\"><a rel=\"license\" href=\"http://creativecommons.org/licenses/by/4.0/\"><img alt=\"Creative Commons License\" style=\" border-width:0\" src=\"https://i.creativecommons.org/l/by/4.0/80x15.png\" /></a><br />This work is licensed under a <a rel=\"license \" href=\"http://creativecommons.org/licenses/by/4.0/\">Creative Commons Attribution 4.0 International License</a>.</p>\n",
    "<p style=\"text-align: center\">Content created by: José Luis Chiquete Valdivieso. 2019.</p><p style=\"text-align: center\">Content modified by: Cristian Cardoso Arellano. 2023.</p>"
   ]
  },
  {
   "cell_type": "code",
   "execution_count": null,
   "metadata": {},
   "outputs": [],
   "source": []
  }
 ],
 "metadata": {
  "kernelspec": {
   "display_name": "Bash",
   "language": "bash",
   "name": "bash"
  },
  "language_info": {
   "codemirror_mode": "shell",
   "file_extension": ".sh",
   "mimetype": "text/x-sh",
   "name": "bash"
  }
 },
 "nbformat": 4,
 "nbformat_minor": 2
}
