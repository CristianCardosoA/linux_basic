{
 "cells": [
  {
   "cell_type": "markdown",
   "metadata": {},
   "source": [
    "## Regular expressions (regex).\n",
    "\n",
    "Regular expressions are part of formal languages ​​and allow you to identify text patterns by using a combination of certain characters."
   ]
  },
  {
   "cell_type": "markdown",
   "metadata": {},
   "source": [
    "### Special characters for regular expressions.\n",
    "|character| Action|\n",
    "|:---:|:-------:\n",
    "|```^```|Finds a pattern at the beginning of a line.|\n",
    "|```$```|Search for a pattern at the end of a line.|\n",
    "|```?```| Matches exactly one character.|\n",
    "|```\\```|Escape character.|\n",
    "|```.```| Replaces a character of any type.|\n",
    "|```*```| Matches 0 or more characters.|\n",
    "|```[``` ...```]```|Range of characters that can be matched.|\n",
    "|```[^``` ... ```]```| Range of characters that can NOT be matched.|\n",
    "|```(<expr 1>```\\|```<expr 2>``` \\| ...```)``` | Group regular expressions.|\n",
    "|```{n}```| Checks if the previous character is repeated *n* times.|\n",
    "|```{n,m}```| Checks if the previous character is repeated in a range between *n* and *m* times.|\n"
   ]
  },
  {
   "cell_type": "markdown",
   "metadata": {},
   "source": [
    "## Regular expressions with the ```ls``` command.\n",
    "\n",
    "The ls command allows you to enter regular expressions with the following syntax.\n",
    "\n",
    "```\n",
    "ls <path/><regexp>\n",
    "```"
   ]
  },
  {
   "cell_type": "code",
   "execution_count": 1,
   "metadata": {},
   "outputs": [
    {
     "name": "stdout",
     "output_type": "stream",
     "text": [
      "01_introduccion_en.ipynb\n",
      "02_sistemas_de_computo_en.ipynb\n",
      "03_la_linea_de_comandos_en.ipynb\n",
      "04_directorios_y_archivos_en.ipynb\n",
      "05_jerarquía_de_directorios_en.ipynb\n",
      "06_flujos_de_texto_filtros_y_pipes_en.ipynb\n",
      "07_expresiones_regulares_y_grep_en.ipynb\n",
      "08_introduccion_a_vim_en.ipynb\n",
      "09_usuarios_y_grupos_en.ipynb\n",
      "10_permisos_y_propietarios_de_archivos_en.ipynb\n",
      "11_procesos_trabajos_y_daemons_en.ipynb\n",
      "12_find_y_xargs_en.ipynb\n",
      "13_introduccion_a_bash_scripting_en.ipynb\n",
      "14_entorno_del_shell_en.ipynb\n",
      "16_kernel_modulos_y_dispositivos_en.ipynb\n",
      "18_gestion_de_servicios_con_systemd_en.ipynb\n",
      "19_chroot_y_contenedores_en.ipynb\n",
      "20_introduccion_a_redes_en.ipynb\n",
      "21_sesiones_remotas_y_transmision_de_datos_en.ipynb\n",
      "22_virtualizacion_en.ipynb\n",
      "23_compresion_de_archivos_en.ipynb\n",
      "24_distribucion_de_software_en.ipynb\n",
      "26_seguridad_basica_en.ipynb\n",
      "x00\n",
      "x01\n",
      "x02\n",
      "xaa\n",
      "xab\n",
      "xac\n",
      "xad\n",
      "xae\n"
     ]
    }
   ],
   "source": [
    "ls *"
   ]
  },
  {
   "cell_type": "code",
   "execution_count": 2,
   "metadata": {},
   "outputs": [
    {
     "name": "stdout",
     "output_type": "stream",
     "text": [
      "01_introduccion_en.ipynb\n",
      "02_sistemas_de_computo_en.ipynb\n",
      "03_la_linea_de_comandos_en.ipynb\n",
      "04_directorios_y_archivos_en.ipynb\n",
      "05_jerarquía_de_directorios_en.ipynb\n",
      "06_flujos_de_texto_filtros_y_pipes_en.ipynb\n",
      "07_expresiones_regulares_y_grep_en.ipynb\n",
      "08_introduccion_a_vim_en.ipynb\n",
      "09_usuarios_y_grupos_en.ipynb\n",
      "10_permisos_y_propietarios_de_archivos_en.ipynb\n",
      "11_procesos_trabajos_y_daemons_en.ipynb\n",
      "12_find_y_xargs_en.ipynb\n",
      "13_introduccion_a_bash_scripting_en.ipynb\n",
      "14_entorno_del_shell_en.ipynb\n",
      "16_kernel_modulos_y_dispositivos_en.ipynb\n",
      "18_gestion_de_servicios_con_systemd_en.ipynb\n",
      "19_chroot_y_contenedores_en.ipynb\n",
      "20_introduccion_a_redes_en.ipynb\n",
      "21_sesiones_remotas_y_transmision_de_datos_en.ipynb\n",
      "22_virtualizacion_en.ipynb\n",
      "23_compresion_de_archivos_en.ipynb\n",
      "24_distribucion_de_software_en.ipynb\n",
      "26_seguridad_basica_en.ipynb\n"
     ]
    }
   ],
   "source": [
    "ls *.ipynb"
   ]
  },
  {
   "cell_type": "code",
   "execution_count": 3,
   "metadata": {},
   "outputs": [
    {
     "name": "stdout",
     "output_type": "stream",
     "text": [
      "10_permisos_y_propietarios_de_archivos_en.ipynb\n",
      "11_procesos_trabajos_y_daemons_en.ipynb\n",
      "12_find_y_xargs_en.ipynb\n",
      "13_introduccion_a_bash_scripting_en.ipynb\n",
      "14_entorno_del_shell_en.ipynb\n",
      "16_kernel_modulos_y_dispositivos_en.ipynb\n",
      "18_gestion_de_servicios_con_systemd_en.ipynb\n",
      "19_chroot_y_contenedores_en.ipynb\n"
     ]
    }
   ],
   "source": [
    "ls 1?_*"
   ]
  },
  {
   "cell_type": "code",
   "execution_count": 4,
   "metadata": {},
   "outputs": [
    {
     "name": "stdout",
     "output_type": "stream",
     "text": [
      "11_procesos_trabajos_y_daemons_en.ipynb\n",
      "12_find_y_xargs_en.ipynb\n",
      "13_introduccion_a_bash_scripting_en.ipynb\n",
      "14_entorno_del_shell_en.ipynb\n"
     ]
    }
   ],
   "source": [
    "ls 1[1-5]*"
   ]
  },
  {
   "cell_type": "code",
   "execution_count": 5,
   "metadata": {},
   "outputs": [
    {
     "name": "stdout",
     "output_type": "stream",
     "text": [
      "01_introduccion_en.ipynb\n",
      "02_sistemas_de_computo_en.ipynb\n",
      "03_la_linea_de_comandos_en.ipynb\n",
      "04_directorios_y_archivos_en.ipynb\n",
      "05_jerarquía_de_directorios_en.ipynb\n",
      "11_procesos_trabajos_y_daemons_en.ipynb\n",
      "12_find_y_xargs_en.ipynb\n",
      "13_introduccion_a_bash_scripting_en.ipynb\n",
      "14_entorno_del_shell_en.ipynb\n",
      "21_sesiones_remotas_y_transmision_de_datos_en.ipynb\n",
      "22_virtualizacion_en.ipynb\n",
      "23_compresion_de_archivos_en.ipynb\n",
      "24_distribucion_de_software_en.ipynb\n"
     ]
    }
   ],
   "source": [
    "ls ?[1-5]*"
   ]
  },
  {
   "cell_type": "code",
   "execution_count": 16,
   "metadata": {
    "scrolled": true
   },
   "outputs": [
    {
     "name": "stdout",
     "output_type": "stream",
     "text": [
      "20_introduccion_a_redes_en.ipynb  26_seguridad_basica_en.ipynb\n"
     ]
    }
   ],
   "source": [
    "ls [2][^1-5]*"
   ]
  },
  {
   "cell_type": "code",
   "execution_count": 18,
   "metadata": {},
   "outputs": [
    {
     "name": "stdout",
     "output_type": "stream",
     "text": [
      "24_distribucion_de_software_en.ipynb\n"
     ]
    }
   ],
   "source": [
    "ls *ft*"
   ]
  },
  {
   "cell_type": "code",
   "execution_count": 20,
   "metadata": {},
   "outputs": [
    {
     "name": "stdout",
     "output_type": "stream",
     "text": [
      "06_flujos_de_texto_filtros_y_pipes_en.ipynb\n",
      "07_expresiones_regulares_y_grep_en.ipynb\n",
      "24_distribucion_de_software_en.ipynb\n"
     ]
    }
   ],
   "source": [
    "ls *[xf][tp]*"
   ]
  },
  {
   "cell_type": "markdown",
   "metadata": {},
   "source": [
    "## The ```grep``` family of commands.\n",
    "\n",
    "To take advantage of the use of regular expressions in text flows, there is a family of commands that look for the lines that match a regular expression. The most commonly used command in this family is ```grep```.\n",
    "\n",
    "```\n",
    "grep <options> <regexp> <stream>\n",
    "```\n",
    "\n",
    "### Options.\n",
    "\n",
    "* ```-i``` allows case to be indistinct.\n",
    "* ```-E``` allows you to use escape characters."
   ]
  },
  {
   "cell_type": "code",
   "execution_count": 21,
   "metadata": {},
   "outputs": [
    {
     "name": "stdout",
     "output_type": "stream",
     "text": [
      "MIT License\n",
      "\n",
      "Copyright (c) 2018 Cloudevel®\n",
      "\n",
      "ssion is hereby granted, free of charge, to any person obtaining a copy\n",
      "of this software and associated documentation files (the \"Software\"), to deal\n",
      "in the Software without restriction, including without limitation the rights\n",
      "t use, copia, modify, merge, publish, distribute, sublicense, and/or sell\n",
      "copies of the Software, and to permit persons to whom the Software is\n",
      "furnished to do so, subject to the following conditions:\n",
      "\n",
      "The above copiaright notice and this permission notice shall be included in all\n",
      "copies or substantial portions of the Software.\n",
      "\n",
      "THE SOFTWARE IS PROVIDED \"AS IS\", WITHOUT WARRANTY OF ANY KIND, EXPRESS OR\n",
      "IMPLIED, INCLUDING BUT NOT LIMITED TO THE WARRANTIES OF MERCHANTABILITY,\n",
      "FITNESS FOR A PARTICULAR PURPOSE AND NONINFRINGEMENT. IN NO EVENT SHALL THE\n",
      "AUTHORS OR COPYRIGHT HOLDERS BE LIABLE FOR ANY CLAIM, DAMAGES OR OTHER\n",
      "LIABILITY, WHETHER IN AN ACTION OF CONTRACT, TORT OR OTHERWISE, ARISING FROM,\n",
      "OUT OF OR IN CONNECTION WITH THE SOFTWARE OR THE USE OR OTHER DEALINGS IN THE\n",
      "SOFTWARE.\n"
     ]
    }
   ],
   "source": [
    "cat ../LICENSE"
   ]
  },
  {
   "cell_type": "code",
   "execution_count": 23,
   "metadata": {},
   "outputs": [
    {
     "name": "stdout",
     "output_type": "stream",
     "text": [
      "MIT License\n",
      "IMPLIED, INCLUDING BUT NOT LIMITED TO THE WARRANTIES OF MERCHANTABILITY,\n"
     ]
    }
   ],
   "source": [
    "grep MIT ../LICENSE"
   ]
  },
  {
   "cell_type": "code",
   "execution_count": 24,
   "metadata": {},
   "outputs": [
    {
     "name": "stdout",
     "output_type": "stream",
     "text": [
      "MIT License\n"
     ]
    }
   ],
   "source": [
    "grep \"MIT \" ../LICENSE"
   ]
  },
  {
   "cell_type": "code",
   "execution_count": 25,
   "metadata": {},
   "outputs": [
    {
     "name": "stdout",
     "output_type": "stream",
     "text": [
      "MIT License\n",
      "in the Software without restriction, including without limitation the rights\n",
      "copies of the Software, and to permit persons to whom the Software is\n",
      "IMPLIED, INCLUDING BUT NOT LIMITED TO THE WARRANTIES OF MERCHANTABILITY,\n"
     ]
    }
   ],
   "source": [
    "grep -i mit ../LICENSE"
   ]
  },
  {
   "cell_type": "code",
   "execution_count": 30,
   "metadata": {},
   "outputs": [
    {
     "name": "stdout",
     "output_type": "stream",
     "text": [
      "MIT License\n"
     ]
    }
   ],
   "source": [
    "grep -i ^mit ../LICENSE"
   ]
  },
  {
   "cell_type": "code",
   "execution_count": 31,
   "metadata": {},
   "outputs": [
    {
     "name": "stdout",
     "output_type": "stream",
     "text": [
      "THE SOFTWARE IS PROVIDED \"AS IS\", WITHOUT WARRANTY OF ANY KIND, EXPRESS OR\n",
      "AUTHORS OR COPYRIGHT HOLDERS BE LIABLE FOR ANY CLAIM, DAMAGES OR OTHER\n"
     ]
    }
   ],
   "source": [
    "grep -i r$ ../LICENSE"
   ]
  },
  {
   "cell_type": "code",
   "execution_count": 32,
   "metadata": {
    "scrolled": true
   },
   "outputs": [
    {
     "name": "stdout",
     "output_type": "stream",
     "text": [
      "The above copiaright notice and this permission notice shall be included in all\n",
      "THE SOFTWARE IS PROVIDED \"AS IS\", WITHOUT WARRANTY OF ANY KIND, EXPRESS OR\n"
     ]
    }
   ],
   "source": [
    "grep -i ^the ../LICENSE"
   ]
  },
  {
   "cell_type": "code",
   "execution_count": 37,
   "metadata": {},
   "outputs": [
    {
     "name": "stdout",
     "output_type": "stream",
     "text": [
      "ssion is hereby granted, free of charge, to any person obtaining a copy\n"
     ]
    }
   ],
   "source": [
    "grep -Ei \"y*\\e{2}\" ../LICENSE"
   ]
  },
  {
   "cell_type": "code",
   "execution_count": 43,
   "metadata": {},
   "outputs": [
    {
     "name": "stdout",
     "output_type": "stream",
     "text": [
      "THE SOFTWARE IS PROVIDED \"AS IS\", WITHOUT WARRANTY OF ANY KIND, EXPRESS OR\n",
      "IMPLIED, INCLUDING BUT NOT LIMITED TO THE WARRANTIES OF MERCHANTABILITY,\n"
     ]
    }
   ],
   "source": [
    "grep -Ei r\\{2} ../LICENSE"
   ]
  },
  {
   "cell_type": "code",
   "execution_count": 40,
   "metadata": {},
   "outputs": [
    {
     "name": "stdout",
     "output_type": "stream",
     "text": [
      "MIT License\n",
      "t use, copia, modify, merge, publish, distribute, sublicense, and/or sell\n",
      "LIABILITY, WHETHER IN AN ACTION OF CONTRACT, TORT OR OTHERWISE, ARISING FROM,\n"
     ]
    }
   ],
   "source": [
    "grep -Ei \"(license|liability)\" ../LICENSE"
   ]
  },
  {
   "cell_type": "code",
   "execution_count": 41,
   "metadata": {},
   "outputs": [
    {
     "name": "stdout",
     "output_type": "stream",
     "text": [
      "MIT License\n",
      "t use, copia, modify, merge, publish, distribute, sublicense, and/or sell\n"
     ]
    }
   ],
   "source": [
    "grep -Ei \"(license|merge)\" ../LICENSE"
   ]
  },
  {
   "cell_type": "markdown",
   "metadata": {},
   "source": [
    "### The ```grep``` man page."
   ]
  },
  {
   "cell_type": "code",
   "execution_count": 45,
   "metadata": {},
   "outputs": [
    {
     "name": "stdout",
     "output_type": "stream",
     "text": [
      "GREP(1)                          User Commands                         GREP(1)\n",
      "\n",
      "NAME\n",
      "       grep, egrep, fgrep, rgrep - print lines that match patterns\n",
      "\n",
      "SYNOPSIS\n",
      "       grep [OPTION...] PATTERNS [FILE...]\n",
      "       grep [OPTION...] -e PATTERNS ... [FILE...]\n",
      "       grep [OPTION...] -f PATTERN_FILE ... [FILE...]\n",
      "\n",
      "DESCRIPTION\n",
      "       grep  searches  for  PATTERNS  in  each  FILE.  PATTERNS is one or more\n",
      "       patterns separated by newline characters, and  grep  prints  each  line\n",
      "       that  matches a pattern.  Typically PATTERNS should be quoted when grep\n",
      "       is used in a shell command.\n",
      "\n",
      "       A FILE of “-”  stands  for  standard  input.   If  no  FILE  is  given,\n",
      "       recursive  searches  examine  the  working  directory, and nonrecursive\n",
      "       searches read standard input.\n",
      "\n",
      "       In addition, the variant programs egrep, fgrep and rgrep are  the  same\n",
      "       as  grep -E,  grep -F,  and  grep -r, respectively.  These variants are\n",
      "       deprecated, but are provided for backward compatibility.\n",
      "\n",
      "OPTIONS\n",
      "   Generic Program Information\n",
      "       --help Output a usage message and exit.\n",
      "\n",
      "       -V, --version\n",
      "              Output the version number of grep and exit.\n",
      "\n",
      "   Pattern Syntax\n",
      "       -E, --extended-regexp\n",
      "              Interpret PATTERNS as extended regular  expressions  (EREs,  see\n",
      "              below).\n",
      "\n",
      "       -F, --fixed-strings\n",
      "              Interpret PATTERNS as fixed strings, not regular expressions.\n",
      "\n",
      "       -G, --basic-regexp\n",
      "              Interpret  PATTERNS  as  basic  regular  expressions  (BREs, see\n",
      "              below).  This is the default.\n",
      "\n",
      "       -P, --perl-regexp\n",
      "              Interpret  PATTERNS  as  Perl-compatible   regular   expressions\n",
      "              (PCREs).   This option is experimental when combined with the -z\n",
      "              (--null-data) option, and grep  -P  may  warn  of  unimplemented\n",
      "              features.\n",
      "\n",
      "   Matching Control\n",
      "       -e PATTERNS, --regexp=PATTERNS\n",
      "              Use  PATTERNS  as the patterns.  If this option is used multiple\n",
      "              times or is combined with the -f (--file) option, search for all\n",
      "              patterns  given.   This  option can be used to protect a pattern\n",
      "              beginning with “-”.\n",
      "\n",
      "       -f FILE, --file=FILE\n",
      "              Obtain patterns from FILE, one per line.  If this option is used\n",
      "              multiple  times  or  is  combined with the -e (--regexp) option,\n",
      "              search for all patterns given.  The  empty  file  contains  zero\n",
      "              patterns, and therefore matches nothing.\n",
      "\n",
      "       -i, --ignore-case\n",
      "              Ignore  case  distinctions  in  patterns and input data, so that\n",
      "              characters that differ only in case match each other.\n",
      "\n",
      "       --no-ignore-case\n",
      "              Do not ignore case distinctions  in  patterns  and  input  data.\n",
      "              This is the default.  This option is useful for passing to shell\n",
      "              scripts that already use -i, to cancel its effects  because  the\n",
      "              two options override each other.\n",
      "\n",
      "       -v, --invert-match\n",
      "              Invert the sense of matching, to select non-matching lines.\n",
      "\n",
      "       -w, --word-regexp\n",
      "              Select  only  those  lines  containing  matches  that form whole\n",
      "              words.  The test is that the matching substring must  either  be\n",
      "              at  the  beginning  of  the  line,  or  preceded  by  a non-word\n",
      "              constituent character.  Similarly, it must be either at the  end\n",
      "              of  the  line  or  followed by a non-word constituent character.\n",
      "              Word-constituent  characters  are  letters,  digits,   and   the\n",
      "              underscore.  This option has no effect if -x is also specified.\n",
      "\n",
      "       -x, --line-regexp\n",
      "              Select  only  those  matches  that exactly match the whole line.\n",
      "              For a regular expression pattern, this  is  like  parenthesizing\n",
      "              the pattern and then surrounding it with ^ and $.\n",
      "\n",
      "       -y     Obsolete synonym for -i.\n",
      "\n",
      "   General Output Control\n",
      "       -c, --count\n",
      "              Suppress  normal output; instead print a count of matching lines\n",
      "              for each input file.  With the -v,  --invert-match  option  (see\n",
      "              below), count non-matching lines.\n",
      "\n",
      "       --color[=WHEN], --colour[=WHEN]\n",
      "              Surround   the  matched  (non-empty)  strings,  matching  lines,\n",
      "              context lines, file  names,  line  numbers,  byte  offsets,  and\n",
      "              separators  (for fields and groups of context lines) with escape\n",
      "              sequences to display them in color on the terminal.  The  colors\n",
      "              are  defined  by  the  environment  variable  GREP_COLORS.   The\n",
      "              deprecated environment variable GREP_COLOR is  still  supported,\n",
      "              but  its setting does not have priority.  WHEN is never, always,\n",
      "              or auto.\n",
      "\n",
      "       -L, --files-without-match\n",
      "              Suppress normal output; instead print the  name  of  each  input\n",
      "              file from which no output would normally have been printed.  The\n",
      "              scanning will stop on the first match.\n",
      "\n",
      "       -l, --files-with-matches\n",
      "              Suppress normal output; instead print the  name  of  each  input\n",
      "              file  from  which  output would normally have been printed.  The\n",
      "              scanning will stop on the first match.\n",
      "\n",
      "       -m NUM, --max-count=NUM\n",
      "              Stop reading a file after NUM matching lines.  If the  input  is\n",
      "              standard  input  from a regular file, and NUM matching lines are\n",
      "              output, grep ensures that the standard input  is  positioned  to\n",
      "              just  after the last matching line before exiting, regardless of\n",
      "              the presence of trailing context lines.  This enables a  calling\n",
      "              process  to resume a search.  When grep stops after NUM matching\n",
      "              lines, it outputs any trailing context lines.  When  the  -c  or\n",
      "              --count  option  is  also  used,  grep  does  not output a count\n",
      "              greater than NUM.  When the -v or --invert-match option is  also\n",
      "              used, grep stops after outputting NUM non-matching lines.\n",
      "\n",
      "       -o, --only-matching\n",
      "              Print  only  the  matched  (non-empty) parts of a matching line,\n",
      "              with each such part on a separate output line.\n",
      "\n",
      "       -q, --quiet, --silent\n",
      "              Quiet;  do  not  write  anything  to  standard   output.    Exit\n",
      "              immediately  with  zero status if any match is found, even if an\n",
      "              error was detected.  Also see the -s or --no-messages option.\n",
      "\n",
      "       -s, --no-messages\n",
      "              Suppress error messages about nonexistent or unreadable files.\n",
      "\n",
      "   Output Line Prefix Control\n",
      "       -b, --byte-offset\n",
      "              Print the 0-based byte offset within the input file before  each\n",
      "              line of output.  If -o (--only-matching) is specified, print the\n",
      "              offset of the matching part itself.\n",
      "\n",
      "       -H, --with-filename\n",
      "              Print the file name for each match.  This is  the  default  when\n",
      "              there is more than one file to search.\n",
      "\n",
      "       -h, --no-filename\n",
      "              Suppress  the  prefixing  of  file names on output.  This is the\n",
      "              default when there is only one file (or only standard input)  to\n",
      "              search.\n",
      "\n",
      "       --label=LABEL\n",
      "              Display  input  actually  coming  from  standard  input as input\n",
      "              coming from file LABEL.  This can be useful  for  commands  that\n",
      "              transform  a  file's  contents  before searching, e.g., gzip -cd\n",
      "              foo.gz | grep --label=foo -H 'some pattern'.  See  also  the  -H\n",
      "              option.\n",
      "\n",
      "       -n, --line-number\n",
      "              Prefix  each  line of output with the 1-based line number within\n",
      "              its input file.\n",
      "\n",
      "       -T, --initial-tab\n",
      "              Make sure that the first character of actual line  content  lies\n",
      "              on a tab stop, so that the alignment of tabs looks normal.  This\n",
      "              is useful with options that prefix their output  to  the  actual\n",
      "              content:  -H,-n,  and  -b.   In order to improve the probability\n",
      "              that lines from a single file will all start at the same column,\n"
     ]
    },
    {
     "name": "stdout",
     "output_type": "stream",
     "text": [
      "              this also causes the line number and byte offset (if present) to\n",
      "              be printed in a minimum size field width.\n",
      "\n",
      "       -u, --unix-byte-offsets\n",
      "              Report Unix-style byte offsets.   This  switch  causes  grep  to\n",
      "              report  byte offsets as if the file were a Unix-style text file,\n",
      "              i.e., with  CR  characters  stripped  off.   This  will  produce\n",
      "              results  identical  to  running  grep  on  a Unix machine.  This\n",
      "              option has no effect unless -b option is also used;  it  has  no\n",
      "              effect on platforms other than MS-DOS and MS-Windows.\n",
      "\n",
      "       -Z, --null\n",
      "              Output  a  zero  byte  (the  ASCII NUL character) instead of the\n",
      "              character that normally follows a file name.  For example,  grep\n",
      "              -lZ  outputs  a  zero  byte  after each file name instead of the\n",
      "              usual newline.  This option makes the output  unambiguous,  even\n",
      "              in the presence of file names containing unusual characters like\n",
      "              newlines.  This option can  be  used  with  commands  like  find\n",
      "              -print0,  perl  -0,  sort  -z, and xargs -0 to process arbitrary\n",
      "              file names, even those that contain newline characters.\n",
      "\n",
      "   Context Line Control\n",
      "       -A NUM, --after-context=NUM\n",
      "              Print NUM  lines  of  trailing  context  after  matching  lines.\n",
      "              Places   a  line  containing  a  group  separator  (--)  between\n",
      "              contiguous groups of matches.  With the  -o  or  --only-matching\n",
      "              option, this has no effect and a warning is given.\n",
      "\n",
      "       -B NUM, --before-context=NUM\n",
      "              Print  NUM  lines  of  leading  context  before  matching lines.\n",
      "              Places  a  line  containing  a  group  separator  (--)   between\n",
      "              contiguous  groups  of  matches.  With the -o or --only-matching\n",
      "              option, this has no effect and a warning is given.\n",
      "\n",
      "       -C NUM, -NUM, --context=NUM\n",
      "              Print NUM lines of output context.  Places a line  containing  a\n",
      "              group separator (--) between contiguous groups of matches.  With\n",
      "              the -o or --only-matching option,  this  has  no  effect  and  a\n",
      "              warning is given.\n",
      "\n",
      "   File and Directory Selection\n",
      "       -a, --text\n",
      "              Process  a binary file as if it were text; this is equivalent to\n",
      "              the --binary-files=text option.\n",
      "\n",
      "       --binary-files=TYPE\n",
      "              If a file's data or metadata indicate  that  the  file  contains\n",
      "              binary  data,  assume  that  the file is of type TYPE.  Non-text\n",
      "              bytes indicate binary data; these are either output  bytes  that\n",
      "              are  improperly  encoded  for  the current locale, or null input\n",
      "              bytes when the -z option is not given.\n",
      "\n",
      "              By default, TYPE is binary, and  grep  suppresses  output  after\n",
      "              null  input  binary  data  is  discovered, and suppresses output\n",
      "              lines that contain improperly encoded data.  When some output is\n",
      "              suppressed,  grep  follows  any  output  with a one-line message\n",
      "              saying that a binary file matches.\n",
      "\n",
      "              If TYPE is without-match, when grep discovers null input  binary\n",
      "              data  it  assumes that the rest of the file does not match; this\n",
      "              is equivalent to the -I option.\n",
      "\n",
      "              If TYPE is text, grep processes a binary  file  as  if  it  were\n",
      "              text; this is equivalent to the -a option.\n",
      "\n",
      "              When  type  is  binary,  grep  may  treat non-text bytes as line\n",
      "              terminators even without the -z  option.   This  means  choosing\n",
      "              binary  versus text can affect whether a pattern matches a file.\n",
      "              For example, when type is binary the pattern q$  might  match  q\n",
      "              immediately  followed  by  a  null byte, even though this is not\n",
      "              matched when type is text.  Conversely, when type is binary  the\n",
      "              pattern . (period) might not match a null byte.\n",
      "\n",
      "              Warning:  The  -a  option might output binary garbage, which can\n",
      "              have nasty side effects if the output is a terminal and  if  the\n",
      "              terminal driver interprets some of it as commands.  On the other\n",
      "              hand, when reading files whose text encodings  are  unknown,  it\n",
      "              can   be  helpful  to  use  -a  or  to  set  LC_ALL='C'  in  the\n",
      "              environment, in order to find more matches even if  the  matches\n",
      "              are unsafe for direct display.\n",
      "\n",
      "       -D ACTION, --devices=ACTION\n",
      "              If  an  input  file  is  a device, FIFO or socket, use ACTION to\n",
      "              process it.  By  default,  ACTION  is  read,  which  means  that\n",
      "              devices are read just as if they were ordinary files.  If ACTION\n",
      "              is skip, devices are silently skipped.\n",
      "\n",
      "       -d ACTION, --directories=ACTION\n",
      "              If an input file is a directory, use ACTION to process  it.   By\n",
      "              default,  ACTION is read, i.e., read directories just as if they\n",
      "              were  ordinary  files.   If  ACTION  is  skip,   silently   skip\n",
      "              directories.   If  ACTION  is recurse, read all files under each\n",
      "              directory, recursively, following symbolic links  only  if  they\n",
      "              are on the command line.  This is equivalent to the -r option.\n",
      "\n",
      "       --exclude=GLOB\n",
      "              Skip  any  command-line file with a name suffix that matches the\n",
      "              pattern GLOB, using wildcard matching; a name suffix  is  either\n",
      "              the  whole name, or a trailing part that starts with a non-slash\n",
      "              character immediately after a  slash  (/)  in  the  name.   When\n",
      "              searching  recursively, skip any subfile whose base name matches\n",
      "              GLOB; the base name is the part after the last slash.  A pattern\n",
      "              can  use *, ?, and [...] as wildcards, and \\ to quote a wildcard\n",
      "              or backslash character literally.\n",
      "\n",
      "       --exclude-from=FILE\n",
      "              Skip files whose base name matches any of  the  file-name  globs\n",
      "              read  from  FILE  (using  wildcard  matching  as described under\n",
      "              --exclude).\n",
      "\n",
      "       --exclude-dir=GLOB\n",
      "              Skip any command-line directory with a name suffix that  matches\n",
      "              the   pattern   GLOB.   When  searching  recursively,  skip  any\n",
      "              subdirectory whose base name matches GLOB.  Ignore any redundant\n",
      "              trailing slashes in GLOB.\n",
      "\n",
      "       -I     Process  a  binary  file as if it did not contain matching data;\n",
      "              this is equivalent to the --binary-files=without-match option.\n",
      "\n",
      "       --include=GLOB\n",
      "              Search only files whose base name matches GLOB  (using  wildcard\n",
      "              matching   as  described  under  --exclude).   If  contradictory\n",
      "              --include and --exclude options are given, the last matching one\n",
      "              wins.   If  no  --include  or --exclude options match, a file is\n",
      "              included unless the first such option is --include.\n",
      "\n",
      "       -r, --recursive\n",
      "              Read all files  under  each  directory,  recursively,  following\n",
      "              symbolic  links only if they are on the command line.  Note that\n",
      "              if  no  file  operand  is  given,  grep  searches  the   working\n",
      "              directory.  This is equivalent to the -d recurse option.\n",
      "\n",
      "       -R, --dereference-recursive\n",
      "              Read  all  files  under each directory, recursively.  Follow all\n",
      "              symbolic links, unlike -r.\n",
      "\n",
      "   Other Options\n",
      "       --line-buffered\n",
      "              Use line buffering on output.   This  can  cause  a  performance\n",
      "              penalty.\n",
      "\n",
      "       -U, --binary\n",
      "              Treat  the  file(s) as binary.  By default, under MS-DOS and MS-\n",
      "              Windows, grep guesses whether  a  file  is  text  or  binary  as\n",
      "              described  for  the  --binary-files option.  If grep decides the\n",
      "              file is a text file,  it  strips  the  CR  characters  from  the\n",
      "              original file contents (to make regular expressions with ^ and $\n"
     ]
    },
    {
     "name": "stdout",
     "output_type": "stream",
     "text": [
      "              work  correctly).   Specifying  -U  overrules  this   guesswork,\n",
      "              causing  all  files  to  be  read  and  passed  to  the matching\n",
      "              mechanism verbatim; if the file is a text file with CR/LF  pairs\n",
      "              at   the  end  of  each  line,  this  will  cause  some  regular\n",
      "              expressions to fail.  This option has  no  effect  on  platforms\n",
      "              other than MS-DOS and MS-Windows.\n",
      "\n",
      "       -z, --null-data\n",
      "              Treat  input  and  output  data  as  sequences  of  lines,  each\n",
      "              terminated by a zero byte (the ASCII NUL character) instead of a\n",
      "              newline.   Like the -Z or --null option, this option can be used\n",
      "              with commands like sort -z to process arbitrary file names.\n",
      "\n",
      "REGULAR EXPRESSIONS\n",
      "       A regular expression is a pattern that  describes  a  set  of  strings.\n",
      "       Regular   expressions   are   constructed   analogously  to  arithmetic\n",
      "       expressions, by using various operators to combine smaller expressions.\n",
      "\n",
      "       grep understands three different versions of regular expression syntax:\n",
      "       “basic”  (BRE),  “extended” (ERE) and “perl” (PCRE).  In GNU grep there\n",
      "       is no difference in available functionality between basic and  extended\n",
      "       syntaxes.  In other implementations, basic regular expressions are less\n",
      "       powerful.   The  following  description  applies  to  extended  regular\n",
      "       expressions;  differences  for basic regular expressions are summarized\n",
      "       afterwards.   Perl-compatible  regular  expressions   give   additional\n",
      "       functionality,  and are documented in pcresyntax(3) and pcrepattern(3),\n",
      "       but work only if PCRE is available in the system.\n",
      "\n",
      "       The fundamental building blocks are the regular expressions that  match\n",
      "       a single character.  Most characters, including all letters and digits,\n",
      "       are regular expressions that match themselves.  Any meta-character with\n",
      "       special meaning may be quoted by preceding it with a backslash.\n",
      "\n",
      "       The  period  . matches any single character.  It is unspecified whether\n",
      "       it matches an encoding error.\n",
      "\n",
      "   Character Classes and Bracket Expressions\n",
      "       A bracket expression is a list of characters enclosed by [ and  ].   It\n",
      "       matches  any  single character in that list.  If the first character of\n",
      "       the list is the caret ^ then it matches any character not in the  list;\n",
      "       it  is  unspecified whether it matches an encoding error.  For example,\n",
      "       the regular expression [0123456789] matches any single digit.\n",
      "\n",
      "       Within a  bracket  expression,  a  range  expression  consists  of  two\n",
      "       characters separated by a hyphen.  It matches any single character that\n",
      "       sorts  between  the  two  characters,  inclusive,  using  the  locale's\n",
      "       collating  sequence  and  character set.  For example, in the default C\n",
      "       locale, [a-d] is equivalent to [abcd].  Many locales sort characters in\n",
      "       dictionary   order,  and  in  these  locales  [a-d]  is  typically  not\n",
      "       equivalent to [abcd]; it might be equivalent to [aBbCcDd], for example.\n",
      "       To  obtain  the  traditional interpretation of bracket expressions, you\n",
      "       can use the C locale by setting the LC_ALL environment variable to  the\n",
      "       value C.\n",
      "\n",
      "       Finally,  certain  named  classes  of  characters are predefined within\n",
      "       bracket expressions, as follows.  Their names are self explanatory, and\n",
      "       they   are   [:alnum:],  [:alpha:],  [:blank:],  [:cntrl:],  [:digit:],\n",
      "       [:graph:], [:lower:], [:print:], [:punct:], [:space:],  [:upper:],  and\n",
      "       [:xdigit:].   For  example,  [[:alnum:]]  means  the character class of\n",
      "       numbers and letters in the current locale.  In the C locale  and  ASCII\n",
      "       character  set  encoding,  this is the same as [0-9A-Za-z].  (Note that\n",
      "       the brackets in these class names are part of the symbolic  names,  and\n",
      "       must  be  included  in  addition to the brackets delimiting the bracket\n",
      "       expression.)  Most meta-characters lose their  special  meaning  inside\n",
      "       bracket  expressions.   To  include  a  literal ] place it first in the\n",
      "       list.  Similarly, to include a literal ^ place it anywhere  but  first.\n",
      "       Finally, to include a literal - place it last.\n",
      "\n",
      "   Anchoring\n",
      "       The caret ^ and the dollar sign $ are meta-characters that respectively\n",
      "       match the empty string at the beginning and end of a line.\n",
      "\n",
      "   The Backslash Character and Special Expressions\n",
      "       The symbols \\< and \\>  respectively  match  the  empty  string  at  the\n",
      "       beginning and end of a word.  The symbol \\b matches the empty string at\n",
      "       the edge of a word, and \\B matches the empty string provided  it's  not\n",
      "       at the edge of a word.  The symbol \\w is a synonym for [_[:alnum:]] and\n",
      "       \\W is a synonym for [^_[:alnum:]].\n",
      "\n",
      "   Repetition\n",
      "       A regular expression may be  followed  by  one  of  several  repetition\n",
      "       operators:\n",
      "       ?      The preceding item is optional and matched at most once.\n",
      "       *      The preceding item will be matched zero or more times.\n",
      "       +      The preceding item will be matched one or more times.\n",
      "       {n}    The preceding item is matched exactly n times.\n",
      "       {n,}   The preceding item is matched n or more times.\n",
      "       {,m}   The  preceding  item  is matched at most m times.  This is a GNU\n",
      "              extension.\n",
      "       {n,m}  The preceding item is matched at least n  times,  but  not  more\n",
      "              than m times.\n",
      "\n",
      "   Concatenation\n",
      "       Two  regular  expressions  may  be  concatenated; the resulting regular\n",
      "       expression matches any string formed by  concatenating  two  substrings\n",
      "       that respectively match the concatenated expressions.\n",
      "\n",
      "   Alternation\n",
      "       Two  regular  expressions  may  be  joined by the infix operator |; the\n",
      "       resulting  regular  expression  matches  any  string  matching   either\n",
      "       alternate expression.\n",
      "\n",
      "   Precedence\n",
      "       Repetition  takes  precedence  over  concatenation, which in turn takes\n",
      "       precedence over alternation.  A whole expression  may  be  enclosed  in\n",
      "       parentheses   to   override   these   precedence   rules   and  form  a\n",
      "       subexpression.\n",
      "\n",
      "   Back-references and Subexpressions\n",
      "       The back-reference \\n, where n is a single digit, matches the substring\n",
      "       previously  matched  by  the  nth  parenthesized  subexpression  of the\n",
      "       regular expression.\n",
      "\n",
      "   Basic vs Extended Regular Expressions\n",
      "       In basic regular expressions the meta-characters ?, +, {, |, (,  and  )\n",
      "       lose  their  special  meaning; instead use the backslashed versions \\?,\n",
      "       \\+, \\{, \\|, \\(, and \\).\n",
      "\n",
      "EXIT STATUS\n",
      "       Normally the exit status is 0 if a line is selected, 1 if no lines were\n",
      "       selected, and 2 if an error occurred.  However, if the -q or --quiet or\n",
      "       --silent is used and a line is selected, the exit status is 0  even  if\n",
      "       an error occurred.\n",
      "\n",
      "ENVIRONMENT\n",
      "       The   behavior  of  grep  is  affected  by  the  following  environment\n",
      "       variables.\n",
      "\n",
      "       The locale for category LC_foo is  specified  by  examining  the  three\n",
      "       environment  variables  LC_ALL, LC_foo, LANG, in that order.  The first\n",
      "       of these variables that is set specifies the locale.  For  example,  if\n",
      "       LC_ALL  is not set, but LC_MESSAGES is set to pt_BR, then the Brazilian\n",
      "       Portuguese locale is used for the LC_MESSAGES category.  The  C  locale\n",
      "       is  used  if none of these environment variables are set, if the locale\n",
      "       catalog is not installed, or if grep was  not  compiled  with  national\n",
      "       language support (NLS).  The shell command locale -a lists locales that\n",
      "       are currently available.\n",
      "\n",
      "       GREP_COLOR\n",
      "              This variable specifies the  color  used  to  highlight  matched\n",
      "              (non-empty) text.  It is deprecated in favor of GREP_COLORS, but\n",
      "              still supported.  The mt, ms, and mc capabilities of GREP_COLORS\n",
      "              have  priority  over  it.  It can only specify the color used to\n",
      "              highlight the matching non-empty text in any  matching  line  (a\n",
      "              selected  line  when the -v command-line option is omitted, or a\n"
     ]
    },
    {
     "name": "stdout",
     "output_type": "stream",
     "text": [
      "              context line when -v is specified).  The default is 01;31, which\n",
      "              means  a  bold  red  foreground  text  on the terminal's default\n",
      "              background.\n",
      "\n",
      "       GREP_COLORS\n",
      "              Specifies the colors and  other  attributes  used  to  highlight\n",
      "              various  parts  of  the  output.  Its value is a colon-separated\n",
      "              list      of      capabilities      that       defaults       to\n",
      "              ms=01;31:mc=01;31:sl=:cx=:fn=35:ln=32:bn=32:se=36  with  the  rv\n",
      "              and ne boolean capabilities omitted  (i.e.,  false).   Supported\n",
      "              capabilities are as follows.\n",
      "\n",
      "              sl=    SGR  substring  for  whole selected lines (i.e., matching\n",
      "                     lines when the -v command-line option is omitted, or non-\n",
      "                     matching  lines  when  -v  is specified).  If however the\n",
      "                     boolean rv capability and the -v command-line option  are\n",
      "                     both  specified,  it  applies  to  context matching lines\n",
      "                     instead.  The default  is  empty  (i.e.,  the  terminal's\n",
      "                     default color pair).\n",
      "\n",
      "              cx=    SGR substring for whole context lines (i.e., non-matching\n",
      "                     lines when the -v  command-line  option  is  omitted,  or\n",
      "                     matching  lines  when  -v  is specified).  If however the\n",
      "                     boolean rv capability and the -v command-line option  are\n",
      "                     both specified, it applies to selected non-matching lines\n",
      "                     instead.  The default  is  empty  (i.e.,  the  terminal's\n",
      "                     default color pair).\n",
      "\n",
      "              rv     Boolean  value  that reverses (swaps) the meanings of the\n",
      "                     sl= and cx= capabilities when the -v command-line  option\n",
      "                     is specified.  The default is false (i.e., the capability\n",
      "                     is omitted).\n",
      "\n",
      "              mt=01;31\n",
      "                     SGR substring for matching non-empty text in any matching\n",
      "                     line  (i.e.,  a  selected  line  when the -v command-line\n",
      "                     option  is  omitted,  or  a  context  line  when  -v   is\n",
      "                     specified).   Setting  this is equivalent to setting both\n",
      "                     ms= and mc= at once to the same value.  The default is  a\n",
      "                     bold   red   text   foreground   over  the  current  line\n",
      "                     background.\n",
      "\n",
      "              ms=01;31\n",
      "                     SGR substring for matching non-empty text in  a  selected\n",
      "                     line.  (This is only used when the -v command-line option\n",
      "                     is omitted.)  The effect  of  the  sl=  (or  cx=  if  rv)\n",
      "                     capability  remains  active  when  this  kicks  in.   The\n",
      "                     default is a bold red text foreground  over  the  current\n",
      "                     line background.\n",
      "\n",
      "              mc=01;31\n",
      "                     SGR  substring  for  matching non-empty text in a context\n",
      "                     line.  (This is only used when the -v command-line option\n",
      "                     is  specified.)   The  effect  of  the cx= (or sl= if rv)\n",
      "                     capability  remains  active  when  this  kicks  in.   The\n",
      "                     default  is  a  bold red text foreground over the current\n",
      "                     line background.\n",
      "\n",
      "              fn=35  SGR substring for file names prefixing any content  line.\n",
      "                     The  default  is  a  magenta  text  foreground  over  the\n",
      "                     terminal's default background.\n",
      "\n",
      "              ln=32  SGR substring for  line  numbers  prefixing  any  content\n",
      "                     line.   The  default  is a green text foreground over the\n",
      "                     terminal's default background.\n",
      "\n",
      "              bn=32  SGR substring for  byte  offsets  prefixing  any  content\n",
      "                     line.   The  default  is a green text foreground over the\n",
      "                     terminal's default background.\n",
      "\n",
      "              se=36  SGR substring for separators that  are  inserted  between\n",
      "                     selected  line  fields  (:), between context line fields,\n",
      "                     (-), and between groups of adjacent  lines  when  nonzero\n",
      "                     context  is  specified  (--).  The default is a cyan text\n",
      "                     foreground over the terminal's default background.\n",
      "\n",
      "              ne     Boolean value that prevents clearing to the end  of  line\n",
      "                     using  Erase  in  Line  (EL) to Right (\\33[K) each time a\n",
      "                     colorized item ends.  This  is  needed  on  terminals  on\n",
      "                     which  EL  is  not  supported.  It is otherwise useful on\n",
      "                     terminals for which the  back_color_erase  (bce)  boolean\n",
      "                     terminfo  capability  does  not  apply,  when  the chosen\n",
      "                     highlight colors do not affect the background, or when EL\n",
      "                     is  too  slow or causes too much flicker.  The default is\n",
      "                     false (i.e., the capability is omitted).\n",
      "\n",
      "              Note that boolean capabilities have  no  =...  part.   They  are\n",
      "              omitted (i.e., false) by default and become true when specified.\n",
      "\n",
      "              See   the   Select   Graphic  Rendition  (SGR)  section  in  the\n",
      "              documentation of the text terminal that is  used  for  permitted\n",
      "              values   and  their  meaning  as  character  attributes.   These\n",
      "              substring values are integers in decimal representation and  can\n",
      "              be  concatenated with semicolons.  grep takes care of assembling\n",
      "              the result into a  complete  SGR  sequence  (\\33[...m).   Common\n",
      "              values to concatenate include 1 for bold, 4 for underline, 5 for\n",
      "              blink, 7 for inverse, 39 for default foreground color, 30 to  37\n",
      "              for  foreground  colors,  90  to 97 for 16-color mode foreground\n",
      "              colors, 38;5;0 to 38;5;255  for  88-color  and  256-color  modes\n",
      "              foreground colors, 49 for default background color, 40 to 47 for\n",
      "              background colors, 100  to  107  for  16-color  mode  background\n",
      "              colors,  and 48;5;0 to 48;5;255 for 88-color and 256-color modes\n",
      "              background colors.\n",
      "\n",
      "       LC_ALL, LC_COLLATE, LANG\n",
      "              These variables specify the locale for the LC_COLLATE  category,\n",
      "              which  determines the collating sequence used to interpret range\n",
      "              expressions like [a-z].\n",
      "\n",
      "       LC_ALL, LC_CTYPE, LANG\n",
      "              These variables specify the locale for  the  LC_CTYPE  category,\n",
      "              which  determines the type of characters, e.g., which characters\n",
      "              are whitespace.  This category  also  determines  the  character\n",
      "              encoding,  that  is, whether text is encoded in UTF-8, ASCII, or\n",
      "              some other encoding.  In the C or POSIX locale,  all  characters\n",
      "              are  encoded  as  a  single  byte  and  every  byte  is  a valid\n",
      "              character.\n",
      "\n",
      "       LC_ALL, LC_MESSAGES, LANG\n",
      "              These variables specify the locale for the LC_MESSAGES category,\n",
      "              which  determines the language that grep uses for messages.  The\n",
      "              default C locale uses American English messages.\n",
      "\n",
      "       POSIXLY_CORRECT\n",
      "              If set, grep behaves as POSIX requires; otherwise, grep  behaves\n",
      "              more  like other GNU programs.  POSIX requires that options that\n",
      "              follow file names must be treated as  file  names;  by  default,\n",
      "              such  options  are permuted to the front of the operand list and\n",
      "              are treated as options.  Also, POSIX requires that  unrecognized\n",
      "              options be diagnosed as “illegal”, but since they are not really\n",
      "              against the law the default is to diagnose  them  as  “invalid”.\n",
      "              POSIXLY_CORRECT   also   disables  _N_GNU_nonoption_argv_flags_,\n",
      "              described below.\n",
      "\n",
      "       _N_GNU_nonoption_argv_flags_\n",
      "              (Here N is grep's numeric process ID.)  If the ith character  of\n",
      "              this  environment variable's value is 1, do not consider the ith\n"
     ]
    },
    {
     "name": "stdout",
     "output_type": "stream",
     "text": [
      "              operand of grep to be an option, even if it appears to  be  one.\n",
      "              A  shell  can  put  this  variable  in  the environment for each\n",
      "              command it runs, specifying which operands are  the  results  of\n",
      "              file name wildcard expansion and therefore should not be treated\n",
      "              as options.  This behavior is available  only  with  the  GNU  C\n",
      "              library, and only when POSIXLY_CORRECT is not set.\n",
      "\n",
      "NOTES\n",
      "       This  man  page  is maintained only fitfully; the full documentation is\n",
      "       often more up-to-date.\n",
      "\n",
      "COPYRIGHT\n",
      "       Copyright 1998-2000, 2002, 2005-2020 Free Software Foundation, Inc.\n",
      "\n",
      "       This is free software; see the source for copying conditions.  There is\n",
      "       NO  warranty;  not even for MERCHANTABILITY or FITNESS FOR A PARTICULAR\n",
      "       PURPOSE.\n",
      "\n",
      "BUGS\n",
      "   Reporting Bugs\n",
      "       Email bug reports to the bug-reporting address ⟨bug-grep@gnu.org⟩.   An\n",
      "       email  archive  ⟨https://lists.gnu.org/mailman/listinfo/bug-grep⟩ and a\n",
      "       bug  tracker   ⟨https://debbugs.gnu.org/cgi/pkgreport.cgi?package=grep⟩\n",
      "       are available.\n",
      "\n",
      "   Known Bugs\n",
      "       Large  repetition  counts  in the {n,m} construct may cause grep to use\n",
      "       lots of memory.  In addition, certain other obscure regular expressions\n",
      "       require  exponential  time  and space, and may cause grep to run out of\n",
      "       memory.\n",
      "\n",
      "       Back-references are very slow, and may require exponential time.\n",
      "\n",
      "EXAMPLE\n",
      "       The following example outputs the location and  contents  of  any  line\n",
      "       containing  “f” and ending in “.c”, within all files in the current di‐\n",
      "       rectory whose names contain “g” and end in “.h”.  The -n option outputs\n",
      "       line  numbers,  the  --  argument treats expansions of “*g*.h” starting\n",
      "       with “-” as file names not options, and the empty file /dev/null causes\n",
      "       file names to be output even if only one file name happens to be of the\n",
      "       form “*g*.h”.\n",
      "\n",
      "         $ grep -n -- 'f.*\\.c$' *g*.h /dev/null\n",
      "         argmatch.h:1:/* definitions and prototypes for argmatch.c\n",
      "\n",
      "       The only line that matches is line 1 of argmatch.h.  Note that the reg‐\n",
      "       ular  expression  syntax  used in the pattern differs from the globbing\n",
      "       syntax that the shell uses to match file names.\n",
      "\n",
      "SEE ALSO\n",
      "   Regular Manual Pages\n",
      "       awk(1), cmp(1), diff(1), find(1), perl(1), sed(1),  sort(1),  xargs(1),\n",
      "       read(2),  pcre(3), pcresyntax(3), pcrepattern(3), terminfo(5), glob(7),\n",
      "       regex(7).\n",
      "\n",
      "   Full Documentation\n",
      "       A complete manual ⟨https://www.gnu.org/software/grep/manual/⟩ is avail‐\n",
      "       able.   If  the  info  and grep programs are properly installed at your\n",
      "       site, the command\n",
      "\n",
      "              info grep\n",
      "\n",
      "       should give you access to the complete manual.\n",
      "\n",
      "GNU grep 3.6                      2019-12-29                           GREP(1)\n"
     ]
    }
   ],
   "source": [
    "man grep"
   ]
  },
  {
   "cell_type": "markdown",
   "metadata": {
    "collapsed": true
   },
   "source": [
    "<p style=\"text-align: center\"><a rel=\"license\" href=\"http://creativecommons.org/licenses/by/4.0/\"><img alt=\"Creative Commons License\" style=\" border-width:0\" src=\"https://i.creativecommons.org/l/by/4.0/80x15.png\" /></a><br />This work is licensed under a <a rel=\"license \" href=\"http://creativecommons.org/licenses/by/4.0/\">Creative Commons Attribution 4.0 International License</a>.</p>\n",
    "<p style=\"text-align: center\">Content created by: José Luis Chiquete Valdivieso. 2019.</p><p style=\"text-align: center\">Content modified by: Cristian Cardoso Arellano. 2023.</p>"
   ]
  }
 ],
 "metadata": {
  "kernelspec": {
   "display_name": "Bash",
   "language": "bash",
   "name": "bash"
  },
  "language_info": {
   "codemirror_mode": "shell",
   "file_extension": ".sh",
   "mimetype": "text/x-sh",
   "name": "bash"
  }
 },
 "nbformat": 4,
 "nbformat_minor": 2
}
