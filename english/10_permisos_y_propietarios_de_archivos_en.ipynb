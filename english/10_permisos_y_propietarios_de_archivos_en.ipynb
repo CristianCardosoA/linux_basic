{
 "cells": [
  {
   "cell_type": "markdown",
   "metadata": {},
   "source": [
    "# Permissions and file owners.\n",
    "\n",
    "Both directories, files and system processes have owners and access permissions.\n",
    "\n",
    "This chapter will explore how to change owners and permissions."
   ]
  },
  {
   "cell_type": "markdown",
   "metadata": {},
   "source": [
    "## Changing owners of system resources."
   ]
  },
  {
   "cell_type": "markdown",
   "metadata": {},
   "source": [
    "### The ```chown``` command.\n",
    "\n",
    "This command allows you to change the owner and group of a file or directory.\n",
    "\n",
    "```\n",
    "chown <options> <user>:<group> <path>\n",
    "```"
   ]
  },
  {
   "cell_type": "markdown",
   "metadata": {},
   "source": [
    "#### ```chown``` options.\n",
    "\n",
    "* ```-R``` o ```--recursive```"
   ]
  },
  {
   "cell_type": "markdown",
   "metadata": {},
   "source": [
    "**Example:**"
   ]
  },
  {
   "cell_type": "code",
   "execution_count": null,
   "metadata": {},
   "outputs": [],
   "source": [
    "echo \"<h1>Hola, mundo.</h1>\" > ~/index.html"
   ]
  },
  {
   "cell_type": "code",
   "execution_count": null,
   "metadata": {},
   "outputs": [],
   "source": [
    "ls -l ~/index.html"
   ]
  },
  {
   "cell_type": "code",
   "execution_count": null,
   "metadata": {},
   "outputs": [],
   "source": [
    "sudo chown www-data ~/index.html"
   ]
  },
  {
   "cell_type": "code",
   "execution_count": null,
   "metadata": {
    "scrolled": true
   },
   "outputs": [],
   "source": [
    "ls -l ~/index.html"
   ]
  },
  {
   "cell_type": "code",
   "execution_count": null,
   "metadata": {},
   "outputs": [],
   "source": [
    "sudo chown www-data:root ~/index.html"
   ]
  },
  {
   "cell_type": "code",
   "execution_count": null,
   "metadata": {},
   "outputs": [],
   "source": [
    "ls -l ~/index.html"
   ]
  },
  {
   "cell_type": "code",
   "execution_count": null,
   "metadata": {},
   "outputs": [],
   "source": [
    "rm ~/index.html"
   ]
  },
  {
   "cell_type": "markdown",
   "metadata": {},
   "source": [
    "#### LA *pretty afraid* of ```eat oh I can```."
   ]
  },
  {
   "cell_type": "code",
   "execution_count": null,
   "metadata": {},
   "outputs": [],
   "source": [
    "man chown"
   ]
  },
  {
   "cell_type": "markdown",
   "metadata": {},
   "source": [
    "### The ```chgrp``` command.\n",
    "\n",
    "This command allows you to change the group to which a directory or file belongs.\n",
    "\n",
    "```\n",
    "chgrp <options> <group> <path>\n",
    "```"
   ]
  },
  {
   "cell_type": "markdown",
   "metadata": {},
   "source": [
    "**Example:**"
   ]
  },
  {
   "cell_type": "code",
   "execution_count": null,
   "metadata": {},
   "outputs": [],
   "source": [
    "sudo chgrp www-data ~/index.html"
   ]
  },
  {
   "cell_type": "code",
   "execution_count": null,
   "metadata": {},
   "outputs": [],
   "source": [
    "ls -l ~/index.html"
   ]
  },
  {
   "cell_type": "markdown",
   "metadata": {},
   "source": [
    "#### The *man page* of ```chgrp```."
   ]
  },
  {
   "cell_type": "code",
   "execution_count": null,
   "metadata": {},
   "outputs": [],
   "source": [
    "man chgrp"
   ]
  },
  {
   "cell_type": "markdown",
   "metadata": {},
   "source": [
    "## Deployment of access permissions to a file."
   ]
  },
  {
   "cell_type": "markdown",
   "metadata": {},
   "source": [
    "The following image presents the description column of a directory in detail.\n",
    "\n",
    "<img src=\"../img/10/detalle_listado.png\" width=\"45%\">"
   ]
  },
  {
   "cell_type": "markdown",
   "metadata": {},
   "source": [
    "## Permissions.\n",
    "\n",
    "| Number | Letter | permission |\n",
    "|:--------:|:--------| :---: |\n",
    "|4| r|read|\n",
    "|2| w|Writing|\n",
    "|1| x|Execution or exploration|\n",
    "\n",
    "http://permissions-calculator.org"
   ]
  },
  {
   "cell_type": "markdown",
   "metadata": {},
   "source": [
    "## The ```chmod``` command.\n",
    "\n",
    "This command allows you to modify the access permissions of a directory or file.\n",
    "\n",
    "```\n",
    "chmod <options> <permission> <path>\n",
    "```"
   ]
  },
  {
   "cell_type": "code",
   "execution_count": 1,
   "metadata": {},
   "outputs": [
    {
     "name": "stdout",
     "output_type": "stream",
     "text": [
      "total 100\n",
      "-rw-r--r-- 1 oi oi    0 Mar 21 10:25  archivo\n",
      "-rw-r--r-- 1 oi oi   36 Mar 21 12:25  campos.txt\n",
      "-rw-r--r-- 1 oi oi   17 Mar 21 11:00  cartas.txt\n",
      "drwxr-xr-x 2 oi oi 4096 Mar 21 10:25  con\n",
      "-rw-r--r-- 1 oi oi 1050 Mar 21 10:50  concatenado.txt\n",
      "drwxr-xr-x 2 oi oi 4096 Mar 21 10:26 'directorio con espacios'\n",
      "drwxr-xr-x 2 oi oi 4096 Mar 21 10:24  ejemplo_1\n",
      "drwxr-xr-x 3 oi oi 4096 Mar 21 10:24  ejemplo_2\n",
      "drwxr-xr-x 2 oi oi 4096 Mar 21 10:25  erroneo\n",
      "-rw-r--r-- 1 oi oi   56 Mar 21 10:52  error.txt\n",
      "drwxr-xr-x 2 oi oi 4096 Mar 21 10:25  espacios\n",
      "-rwxr-xr-x 1 oi oi   83 Jul 18  2022  jupyter.sh\n",
      "-rw-r--r-- 1 oi oi 1012 Mar 21 10:49  listado.txt\n",
      "-rw-r--r-- 1 oi oi  860 Mar 21 12:46  lista.txt\n",
      "-rw-r--r-- 1 oi oi   34 Mar 21 12:42  maspatos_ord.txt\n",
      "-rw-r--r-- 1 oi oi   34 Mar 21 12:42  maspatos.txt\n",
      "-rw-r--r-- 1 oi oi  254 Mar 21 10:52  mensaje.txt\n",
      "-rw-r--r-- 1 oi oi   17 Mar 21 11:00  numeros.txt\n",
      "-rw-r--r-- 1 oi oi    0 Mar 21 10:28  objeto\n",
      "-rw-r--r-- 1 oi oi    0 Mar 21 10:25  otro_archivo\n",
      "-rw-r--r-- 1 oi oi   47 Mar 21 12:43  parche.txt\n",
      "-rw-r--r-- 1 oi oi   15 Mar 21 12:42  patos_ord.txt\n",
      "-rw-r--r-- 1 oi oi   34 Mar 21 12:43  patos.txt\n",
      "drwxr-xr-x 3 oi oi 4096 Jul 18  2022  py-deploy\n",
      "drwxr-xr-x 5 oi oi 4096 Jul 18  2022  pythonista\n",
      "-rw-r--r-- 1 oi oi   92 Mar 21 12:41  repetidos.txt\n",
      "-rw-r--r-- 1 oi oi   38 Mar 21 10:49  saludo.txt\n",
      "-rw-r--r-- 1 oi oi   36 Mar 21 12:25  separados.txt\n",
      "-rw-r--r-- 1 oi oi    0 Mar 21 10:26 '~tilde'\n",
      "-rw-r--r-- 1 oi oi    0 Mar 21 10:26  tilde\n"
     ]
    }
   ],
   "source": [
    "ls -l ~"
   ]
  },
  {
   "cell_type": "code",
   "execution_count": null,
   "metadata": {},
   "outputs": [],
   "source": [
    "touch archivo"
   ]
  },
  {
   "cell_type": "code",
   "execution_count": null,
   "metadata": {},
   "outputs": [],
   "source": [
    "ls -l archivo"
   ]
  },
  {
   "cell_type": "code",
   "execution_count": null,
   "metadata": {},
   "outputs": [],
   "source": [
    "chmod 764 archivo"
   ]
  },
  {
   "cell_type": "code",
   "execution_count": null,
   "metadata": {},
   "outputs": [],
   "source": [
    "ls -l archivo"
   ]
  },
  {
   "cell_type": "code",
   "execution_count": null,
   "metadata": {},
   "outputs": [],
   "source": [
    "chmod 1762 archivo"
   ]
  },
  {
   "cell_type": "code",
   "execution_count": null,
   "metadata": {},
   "outputs": [],
   "source": [
    "ls -l archivo"
   ]
  },
  {
   "cell_type": "code",
   "execution_count": null,
   "metadata": {},
   "outputs": [],
   "source": [
    "chmod +x archivo"
   ]
  },
  {
   "cell_type": "code",
   "execution_count": null,
   "metadata": {},
   "outputs": [],
   "source": [
    "ls -l archivo"
   ]
  },
  {
   "cell_type": "code",
   "execution_count": null,
   "metadata": {},
   "outputs": [],
   "source": [
    "chmod -x archivo"
   ]
  },
  {
   "cell_type": "code",
   "execution_count": 2,
   "metadata": {},
   "outputs": [
    {
     "name": "stdout",
     "output_type": "stream",
     "text": [
      "ls: cannot access 'archivo': No such file or directory\n"
     ]
    },
    {
     "ename": "",
     "evalue": "2",
     "output_type": "error",
     "traceback": []
    }
   ],
   "source": [
    "ls -l archivo"
   ]
  },
  {
   "cell_type": "markdown",
   "metadata": {},
   "source": [
    "### The *man page* for ```chmod```."
   ]
  },
  {
   "cell_type": "code",
   "execution_count": 3,
   "metadata": {
    "scrolled": false
   },
   "outputs": [
    {
     "name": "stdout",
     "output_type": "stream",
     "text": [
      "CHMOD(1)                         User Commands                        CHMOD(1)\n",
      "\n",
      "NAME\n",
      "       chmod - change file mode bits\n",
      "\n",
      "SYNOPSIS\n",
      "       chmod [OPTION]... MODE[,MODE]... FILE...\n",
      "       chmod [OPTION]... OCTAL-MODE FILE...\n",
      "       chmod [OPTION]... --reference=RFILE FILE...\n",
      "\n",
      "DESCRIPTION\n",
      "       This manual page documents the GNU version of chmod.  chmod changes the\n",
      "       file mode bits of each given file according to mode, which can  be  ei‐\n",
      "       ther  a  symbolic representation of changes to make, or an octal number\n",
      "       representing the bit pattern for the new mode bits.\n",
      "\n",
      "       The format of a symbolic mode is  [ugoa...][[-+=][perms...]...],  where\n",
      "       perms  is  either zero or more letters from the set rwxXst, or a single\n",
      "       letter from the set ugo.  Multiple symbolic modes can be  given,  sepa‐\n",
      "       rated by commas.\n",
      "\n",
      "       A  combination  of the letters ugoa controls which users' access to the\n",
      "       file will be changed: the user who owns it  (u),  other  users  in  the\n",
      "       file's group (g), other users not in the file's group (o), or all users\n",
      "       (a).  If none of these are given, the effect is as if (a)  were  given,\n",
      "       but bits that are set in the umask are not affected.\n",
      "\n",
      "       The  operator  +  causes the selected file mode bits to be added to the\n",
      "       existing file mode bits of each file; - causes them to be removed;  and\n",
      "       = causes them to be added and causes unmentioned bits to be removed ex‐\n",
      "       cept that a directory's unmentioned set user and group ID bits are  not\n",
      "       affected.\n",
      "\n",
      "       The  letters  rwxXst select file mode bits for the affected users: read\n",
      "       (r), write (w), execute (or search for directories) (x), execute/search\n",
      "       only  if  the file is a directory or already has execute permission for\n",
      "       some user (X), set user or group ID on execution (s), restricted  dele‐\n",
      "       tion  flag or sticky bit (t).  Instead of one or more of these letters,\n",
      "       you can specify exactly one of the letters ugo: the permissions granted\n",
      "       to  the  user  who  owns the file (u), the permissions granted to other\n",
      "       users who are members of the file's  group  (g),  and  the  permissions\n",
      "       granted  to  users  that are in neither of the two preceding categories\n",
      "       (o).\n",
      "\n",
      "       A numeric mode is from one to  four  octal  digits  (0-7),  derived  by\n",
      "       adding up the bits with values 4, 2, and 1.  Omitted digits are assumed\n",
      "       to be leading zeros.  The first digit selects the set user ID  (4)  and\n",
      "       set group ID (2) and restricted deletion or sticky (1) attributes.  The\n",
      "       second digit selects permissions for the user who owns the  file:  read\n",
      "       (4),  write  (2),  and  execute  (1); the third selects permissions for\n",
      "       other users in the file's group, with the same values; and  the  fourth\n",
      "       for other users not in the file's group, with the same values.\n",
      "\n",
      "       chmod never changes the permissions of symbolic links; the chmod system\n",
      "       call cannot change their permissions.  This is not a problem since  the\n",
      "       permissions  of  symbolic links are never used.  However, for each sym‐\n",
      "       bolic link listed on the command line, chmod changes the permissions of\n",
      "       the pointed-to file.  In contrast, chmod ignores symbolic links encoun‐\n",
      "       tered during recursive directory traversals.\n",
      "\n",
      "SETUID AND SETGID BITS\n",
      "       chmod clears the set-group-ID bit of a regular file if the file's group\n",
      "       ID  does  not  match the user's effective group ID or one of the user's\n",
      "       supplementary group IDs, unless the user  has  appropriate  privileges.\n",
      "       Additional restrictions may cause the set-user-ID and set-group-ID bits\n",
      "       of MODE or RFILE to be ignored.  This behavior depends  on  the  policy\n",
      "       and  functionality of the underlying chmod system call.  When in doubt,\n",
      "       check the underlying system behavior.\n",
      "\n",
      "       For directories chmod preserves set-user-ID and set-group-ID  bits  un‐\n",
      "       less  you  explicitly specify otherwise.  You can set or clear the bits\n",
      "       with symbolic modes like u+s and g-s.  To clear these bits for directo‐\n",
      "       ries  with a numeric mode requires an additional leading zero, or lead‐\n",
      "       ing = like 00755 , or =755\n",
      "\n",
      "RESTRICTED DELETION FLAG OR STICKY BIT\n",
      "       The restricted deletion flag or sticky bit is a single bit,  whose  in‐\n",
      "       terpretation  depends  on  the file type.  For directories, it prevents\n",
      "       unprivileged users from removing or renaming a file  in  the  directory\n",
      "       unless  they  own  the  file  or  the directory; this is called the re‐\n",
      "       stricted deletion flag for the directory,  and  is  commonly  found  on\n",
      "       world-writable  directories like /tmp.  For regular files on some older\n",
      "       systems, the bit saves the program's text image on the swap  device  so\n",
      "       it will load more quickly when run; this is called the sticky bit.\n",
      "\n",
      "OPTIONS\n",
      "       Change  the  mode  of  each FILE to MODE.  With --reference, change the\n",
      "       mode of each FILE to that of RFILE.\n",
      "\n",
      "       -c, --changes\n",
      "              like verbose but report only when a change is made\n",
      "\n",
      "       -f, --silent, --quiet\n",
      "              suppress most error messages\n",
      "\n",
      "       -v, --verbose\n",
      "              output a diagnostic for every file processed\n",
      "\n",
      "       --no-preserve-root\n",
      "              do not treat '/' specially (the default)\n",
      "\n",
      "       --preserve-root\n",
      "              fail to operate recursively on '/'\n",
      "\n",
      "       --reference=RFILE\n",
      "              use RFILE's mode instead of MODE values\n",
      "\n",
      "       -R, --recursive\n",
      "              change files and directories recursively\n",
      "\n",
      "       --help display this help and exit\n",
      "\n",
      "       --version\n",
      "              output version information and exit\n",
      "\n",
      "       Each          MODE          is          of           the           form\n",
      "       '[ugoa]*([-+=]([rwxXst]*|[ugo]))+|[-+=][0-7]+'.\n",
      "\n",
      "AUTHOR\n",
      "       Written by David MacKenzie and Jim Meyering.\n",
      "\n",
      "REPORTING BUGS\n",
      "       GNU coreutils online help: <https://www.gnu.org/software/coreutils/>\n",
      "       Report any translation bugs to <https://translationproject.org/team/>\n",
      "\n",
      "COPYRIGHT\n",
      "       Copyright  ©  2020  Free Software Foundation, Inc.  License GPLv3+: GNU\n",
      "       GPL version 3 or later <https://gnu.org/licenses/gpl.html>.\n",
      "       This is free software: you are free  to  change  and  redistribute  it.\n",
      "       There is NO WARRANTY, to the extent permitted by law.\n",
      "\n",
      "SEE ALSO\n",
      "       chmod(2)\n",
      "\n",
      "       Full documentation <https://www.gnu.org/software/coreutils/chmod>\n",
      "       or available locally via: info '(coreutils) chmod invocation'\n",
      "\n",
      "GNU coreutils 8.32              September 2020                        CHMOD(1)\n"
     ]
    }
   ],
   "source": [
    "man chmod"
   ]
  },
  {
   "cell_type": "markdown",
   "metadata": {
    "collapsed": true
   },
   "source": [
    "<p style=\"text-align: center\"><a rel=\"license\" href=\"http://creativecommons.org/licenses/by/4.0/\"><img alt=\"Creative Commons License\" style=\" border-width:0\" src=\"https://i.creativecommons.org/l/by/4.0/80x15.png\" /></a><br />This work is licensed under a <a rel=\"license \" href=\"http://creativecommons.org/licenses/by/4.0/\">Creative Commons Attribution 4.0 International License</a>.</p>\n",
    "<p style=\"text-align: center\">Content created by: José Luis Chiquete Valdivieso. 2019.</p><p style=\"text-align: center\">Content modified by: Cristian Cardoso Arellano. 2023.</p>"
   ]
  }
 ],
 "metadata": {
  "kernelspec": {
   "display_name": "Bash",
   "language": "bash",
   "name": "bash"
  },
  "language_info": {
   "codemirror_mode": "shell",
   "file_extension": ".sh",
   "mimetype": "text/x-sh",
   "name": "bash"
  }
 },
 "nbformat": 4,
 "nbformat_minor": 2
}
