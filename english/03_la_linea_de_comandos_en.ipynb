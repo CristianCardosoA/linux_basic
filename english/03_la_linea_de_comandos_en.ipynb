{
 "cells": [
  {
   "cell_type": "markdown",
   "metadata": {},
   "source": [
    "# The command line."
   ]
  },
  {
   "cell_type": "markdown",
   "metadata": {},
   "source": [
    "## Terminals.\n",
    "\n",
    "Both *GNU/Linux* and *UNIX* are based on the *client-server* architecture, which allows multiple users to simultaneously connect to and access a server through one or more *sessions*.\n",
    "\n",
    "The connection interface of a client to a *GNU/Linux* server is known as a *terminal*.\n"
   ]
  },
  {
   "cell_type": "markdown",
   "metadata": {},
   "source": [
    "### Text terminals.\n",
    "\n",
    "The text terminal, also known as a console, is the basic interface of a *UNIX* and *GNU/Linux* system.\n",
    "\n",
    "Text terminals emulate a screen that displays text characters and generally require a valid username and password to start a session on the server to which they connect.\n",
    "\n",
    "The input interface is through the keyboard and the output interface is done by displaying characters on the screen."
   ]
  },
  {
   "cell_type": "markdown",
   "metadata": {},
   "source": [
    "**Example:**\n",
    "\n",
    "The following images illustrate the access to the terminal deployed by the virtual machine provided by Cloudevel<sup>®</sup>"
   ]
  },
  {
   "cell_type": "markdown",
   "metadata": {},
   "source": [
    "* The terminal requires entering a username and a valid password.\n",
    "\n",
    "<img src=\"../img/03/login.png\" width=\"70%\">"
   ]
  },
  {
   "cell_type": "markdown",
   "metadata": {},
   "source": [
    "* In this case the username is ```oi``` and the password is ```0p3n5t4ck```.\n",
    "\n",
    "<img src=\"../img/03/password.png\" width=\"70%\">"
   ]
  },
  {
   "cell_type": "markdown",
   "metadata": {},
   "source": [
    "* Once the data is validated, you have access to the *shell*.\n",
    "\n",
    "<img src=\"../img/03/inicio.png\" width=\"70%\">"
   ]
  },
  {
   "cell_type": "markdown",
   "metadata": {},
   "source": [
    "### Graphic terminals.\n",
    "\n",
    "Both modern *UNIX* systems and *GNU/Linux* systems allow managing graphical terminals by means of servers specialized in deploying said interfaces.\n",
    "\n",
    "Such a system has a graphic environment server to which various clients can connect.\n",
    "\n",
    "The [*X Window*](https://es.wikipedia.org/wiki/Sistema_de_ventanas_X) or simply *the X* is the most popular system on *UNIX* and *GNU/Linux*, while *MacOS X* uses [*X Window *](https://es.wikipedia.org/wiki/Sistema_de_ventanas_X)).\n",
    "\n",
    "For MacOS users, need to install https://www.xquartz.org\n",
    "\n",
    "Example: gvim\n",
    "\n",
    "### *GNU/Linux* desktop environments.\n",
    "\n",
    "The *X* only provide a basic service for displaying graphical elements and simple windows, so along with these, desktop environment managers are used, which allow running various applications.\n",
    "\n",
    "The most popular graphical environments are:\n",
    "* [*KDE*](https://kde.org/)\n",
    "* [*GNOME*](https://gnome.org).\n",
    "* [*Mate*](https://mate-desktop.org/).\n",
    "* [*Xfce*](https://xfce.org/).\n",
    "* [*AfterStep*](http://afterstep.org/).\n",
    "\n",
    "**Note:** This course is intended to take advantage of the capabilities of text terminals."
   ]
  },
  {
   "cell_type": "markdown",
   "metadata": {},
   "source": [
    "<img src=\"../img/03/xprotocol.png\" width=\"70%\">"
   ]
  },
  {
   "cell_type": "markdown",
   "metadata": {},
   "source": [
    "## *shell*.\n",
    "\n",
    "The terminal or console is only the interface that manages the input and output of a connection. When a user logs into a text terminal, the user is typically assigned an interactive environment known as a *shell*.\n",
    "\n",
    "A *shell* allows you to interact with the server through predefined commands and also by running system applications.\n",
    "\n",
    "There are several shells for *UNIX* and *GNU/Linux*:\n",
    "\n",
    "* [*C shell*](https://en.wikipedia.org/wiki/C_shell) (csh y tcsh).\n",
    "* [*Zshell*](https://en.wikipedia.org/wiki/Z_shell) (zsh).\n",
    "* [*Korn shell*](https://en.wikipedia.org/wiki/KornShell)(ksh).\n",
    "* [*Bourne shell*](https://en.wikipedia.org/wiki/Bourne_shell) (sh).\n",
    "* [*Bourne-again shell*](https://en.wikipedia.org/wiki/Bash_(Unix_shell)) (bash).\n",
    "\n",
    "In this course we will use *Bash*, which is the most common *shell* in *GNU/Linux* distributions."
   ]
  },
  {
   "cell_type": "markdown",
   "metadata": {},
   "source": [
    "## The *prompt*.\n",
    "\n",
    "Once a session has been started by entering a valid username and password, the terminal will display a series of characters to the left of a start line and to its right a blinking cursor. This is known as the *prompt*."
   ]
  },
  {
   "cell_type": "markdown",
   "metadata": {},
   "source": [
    "## Execution of commands.\n",
    "\n",
    "Terminal commands have the following structure:\n",
    "\n",
    "```\n",
    "<command> <sub-command> <option> <argument>\n",
    "```"
   ]
  },
  {
   "cell_type": "markdown",
   "metadata": {},
   "source": [
    "### Running commands on *Jupyter* notebooks.\n",
    "\n",
    "The *Jupyter* notebooks used in this course are not terminals, but interfaces that connect to a *bash* shell.\n",
    "\n",
    "Because of this, notebook code cells can execute *bash* commands directly.\n",
    "\n",
    "**WARNING:** Cells can only send commands and display the result of these commands. If there is any additional interaction from the shell, the cell will be locked and the kernel will need to be interrupted to get out of that state."
   ]
  },
  {
   "cell_type": "markdown",
   "metadata": {},
   "source": [
    "**Examples:**\n",
    "\n",
    "* The following command will indicate the directory in which this notebook is located."
   ]
  },
  {
   "cell_type": "code",
   "execution_count": 1,
   "metadata": {},
   "outputs": [
    {
     "name": "stdout",
     "output_type": "stream",
     "text": [
      "/opt/oi/cd101/english\n"
     ]
    }
   ],
   "source": [
    "pwd"
   ]
  },
  {
   "cell_type": "markdown",
   "metadata": {},
   "source": [
    "* The following command will bring up a complete listing of the *home* directory of the user running *Jupyter*, including hidden files."
   ]
  },
  {
   "cell_type": "code",
   "execution_count": 2,
   "metadata": {},
   "outputs": [
    {
     "name": "stdout",
     "output_type": "stream",
     "text": [
      "total 84\n",
      "drwxr-xr-x 10 oi   oi    4096 Mar 14 20:32 .\n",
      "drwxr-xr-x  3 root root  4096 Jul 18  2022 ..\n",
      "-rw-r--r--  1 oi   oi   14271 Mar 15 19:18 .bash_history\n",
      "-rw-r--r--  1 oi   oi     220 Jul 18  2022 .bash_logout\n",
      "-rw-r--r--  1 oi   oi    4036 Mar 14 20:33 .bashrc\n",
      "drwxr-xr-x  4 oi   oi    4096 Mar 14 20:34 .cache\n",
      "drwxr-xr-x  2 oi   oi    4096 Mar 14 20:32 .conda\n",
      "-rw-r--r--  1 oi   oi      66 Mar 14 16:05 .gitconfig\n",
      "drwxr-xr-x  3 oi   oi    4096 Mar 14 15:22 .ipython\n",
      "drwx------  2 oi   oi    4096 Jul 18  2022 .jupyter\n",
      "-rwxr-xr-x  1 oi   oi      83 Jul 18  2022 jupyter.sh\n",
      "drwxr-xr-x  3 oi   oi    4096 Jul 18  2022 .local\n",
      "-rw-r--r--  1 oi   oi     807 Jul 18  2022 .profile\n",
      "drwxr-xr-x  3 oi   oi    4096 Jul 18  2022 py-deploy\n",
      "-rw-------  1 oi   oi      12 Mar 14 20:26 .python_history\n",
      "drwxr-xr-x  5 oi   oi    4096 Jul 18  2022 pythonista\n",
      "drwx------  2 oi   oi    4096 Mar 14 16:11 .ssh\n",
      "-rw-r--r--  1 oi   oi     208 Jul 18  2022 .wget-hsts\n"
     ]
    }
   ],
   "source": [
    "ls ~ -al"
   ]
  },
  {
   "cell_type": "markdown",
   "metadata": {},
   "source": [
    "## How to get help.\n",
    "\n",
    "There are certain commands that allow us to search for help on other system commands."
   ]
  },
  {
   "cell_type": "markdown",
   "metadata": {},
   "source": [
    "### Las *man pages*.\n",
    "\n",
    "One of the best practices when developing applications on *GNU/Linux* and *UNIX* is that each command usually contains detailed documentation in the form of a manual, known as a *man page*.\n",
    "\n",
    "The *man pages* describe how a command works and all the options and parameters it can accept, including a brief description."
   ]
  },
  {
   "cell_type": "markdown",
   "metadata": {},
   "source": [
    "### The ```man``` command.\n",
    "\n",
    "To access the *man page* of a command, use the ```man``` command.\n",
    "\n",
    "``` \n",
    "man <comando>\n",
    "```\n",
    "\n",
    "This command will display the *man page* in a window that allows the user to scroll through the text using the keys:\n",
    "* <kbd>Top</kbd>\n",
    "* <kbd>Down</kbd>\n",
    "* <kbd>Arriba Page</kbd>\n",
    "* <kbd>Page Down</kbd>\n",
    "* <kbd>Home</kbd>\n",
    "* <kbd>Fin</kbd>\n",
    "\n",
    "To get help, press the <kbd>h</kbd> key.\n",
    "\n",
    "To exit the help window, press the <kbd>q</kbd> key."
   ]
  },
  {
   "cell_type": "markdown",
   "metadata": {},
   "source": [
    "**Examples:**\n",
    "\n",
    "* In the case of the following cell, a window will open with the *man page* of the ```ls``` command which can be viewed using the mouse scroll or the side scroll bar."
   ]
  },
  {
   "cell_type": "code",
   "execution_count": null,
   "metadata": {},
   "outputs": [],
   "source": [
    "man ls"
   ]
  },
  {
   "cell_type": "markdown",
   "metadata": {},
   "source": [
    "* The previous cell command executed from the virtual machine terminal looks like this:"
   ]
  },
  {
   "cell_type": "markdown",
   "metadata": {},
   "source": [
    "<img src=\"../img/03/man.png\" width=\"70%\">"
   ]
  },
  {
   "cell_type": "markdown",
   "metadata": {},
   "source": [
    "### The ```whatis``` command.\n",
    "\n",
    "This ```whatis``` command returns only the description of the searched command.\n",
    "\n",
    "```whatis <comando>```"
   ]
  },
  {
   "cell_type": "markdown",
   "metadata": {},
   "source": [
    "**Ejemplo:**\n",
    "\n",
    "* La siguiente celda despelgará la descripción del comando ```pwd```."
   ]
  },
  {
   "cell_type": "code",
   "execution_count": 3,
   "metadata": {},
   "outputs": [
    {
     "name": "stdout",
     "output_type": "stream",
     "text": [
      "pwd (1)              - print name of current/working directory\n"
     ]
    }
   ],
   "source": [
    "whatis pwd"
   ]
  },
  {
   "cell_type": "markdown",
   "metadata": {},
   "source": [
    "## Command ```apropos```.\n",
    "\n",
    "Command ```apropos``` returns a list of results if the desired term is included in the *man page*.\n",
    "\n",
    "```\n",
    "apropos <term>\n",
    "```"
   ]
  },
  {
   "cell_type": "markdown",
   "metadata": {},
   "source": [
    "**Example:**\n",
    "\n",
    "* Looking for seach term ```network``` en su *man page*."
   ]
  },
  {
   "cell_type": "code",
   "execution_count": 5,
   "metadata": {
    "scrolled": true
   },
   "outputs": [
    {
     "name": "stdout",
     "output_type": "stream",
     "text": [
      "interfaces (5)       - network interface configuration for ifup and ifdown\n",
      "avahi-autoipd (8)    - IPv4LL network address configuration daemon\n",
      "byteorder (3)        - convert values between host and network byte order\n",
      "ctstat (8)           - unified linux network statistics\n",
      "dhclient-script (8)  - DHCP client network configuration script\n",
      "endhostent (3)       - get network host entry\n",
      "endnetent (3)        - get network entry\n",
      "endnetgrent (3)      - handle network group entries\n",
      "freeaddrinfo (3)     - network address and service translation\n",
      "freehostent (3)      - get network hostnames and addresses\n",
      "gai_cancel (3)       - asynchronous network address and service translation\n",
      "gai_error (3)        - asynchronous network address and service translation\n",
      "gai_strerror (3)     - network address and service translation\n",
      "gai_suspend (3)      - asynchronous network address and service translation\n",
      "getaddrinfo (3)      - network address and service translation\n",
      "getaddrinfo_a (3)    - asynchronous network address and service translation\n",
      "gethostbyaddr (3)    - get network host entry\n",
      "gethostbyaddr_r (3)  - get network host entry\n",
      "gethostbyname (3)    - get network host entry\n",
      "gethostbyname2 (3)   - get network host entry\n",
      "gethostbyname2_r (3) - get network host entry\n",
      "gethostbyname_r (3)  - get network host entry\n",
      "gethostent (3)       - get network host entry\n",
      "gethostent_r (3)     - get network host entry\n",
      "getipnodebyaddr (3)  - get network hostnames and addresses\n",
      "getipnodebyname (3)  - get network hostnames and addresses\n",
      "getnetbyaddr (3)     - get network entry\n",
      "getnetbyaddr_r (3)   - get network entry (reentrant)\n",
      "getnetbyname (3)     - get network entry\n",
      "getnetbyname_r (3)   - get network entry (reentrant)\n",
      "getnetconfig (3t)    - get network configuration database entry\n",
      "getnetent (3)        - get network entry\n",
      "getnetent_r (3)      - get network entry (reentrant)\n",
      "getnetgrent (3)      - handle network group entries\n",
      "getnetgrent_r (3)    - handle network group entries\n",
      "h_errno (3)          - get network host entry\n",
      "herror (3)           - get network host entry\n",
      "hstrerror (3)        - get network host entry\n",
      "htonl (3)            - convert values between host and network byte order\n",
      "htons (3)            - convert values between host and network byte order\n",
      "if_freenameindex (3) - get network interface names and indexes\n",
      "if_indextoname (3)   - mappings between network interface names and indexes\n",
      "if_nameindex (3)     - get network interface names and indexes\n",
      "if_nametoindex (3)   - mappings between network interface names and indexes\n",
      "ifdown (8)           - take a network interface down\n",
      "ifup (8)             - bring a network interface up\n",
      "inet_net_ntop (3)    - Internet network number conversion\n",
      "inet_net_pton (3)    - Internet network number conversion\n",
      "inet_network (3)     - Internet address manipulation routines\n",
      "innetgr (3)          - handle network group entries\n",
      "ip (8)               - show / manipulate routing, network devices, interfaces...\n",
      "ip-link (8)          - network device configuration\n",
      "ip-netconf (8)       - network configuration monitoring\n",
      "ip-netns (8)         - process network namespace management\n",
      "iwconfig (8)         - configure a wireless network interface\n",
      "iwgetid (8)          - Report ESSID, NWID or AP/Cell Address of wireless network\n",
      "iwpriv (8)           - configure optionals (private) parameters of a wireless...\n",
      "lft (1)              - print the route packets trace to network host\n",
      "lft.db (1)           - print the route packets trace to network host\n",
      "lnstat (8)           - unified linux network statistics\n",
      "netconfig (5)        - network configuration data base\n",
      "netdevice (7)        - low-level access to Linux network devices\n",
      "network_namespaces (7) - overview of Linux network namespaces\n",
      "networkctl (1)       - Query the status of network links\n",
      "networkd.conf (5)    - Global Network configuration files\n",
      "networkd.conf.d (5)  - Global Network configuration files\n",
      "networks (5)         - network name information\n",
      "nstat (8)            - network statistics tools.\n",
      "ntohl (3)            - convert values between host and network byte order\n",
      "ntohs (3)            - convert values between host and network byte order\n",
      "ping (8)             - send ICMP ECHO_REQUEST to network hosts\n",
      "ping4 (8)            - send ICMP ECHO_REQUEST to network hosts\n",
      "ping6 (8)            - send ICMP ECHO_REQUEST to network hosts\n",
      "resolved.conf (5)    - Network Name Resolution configuration files\n",
      "resolved.conf.d (5)  - Network Name Resolution configuration files\n",
      "rtacct (8)           - network statistics tools.\n",
      "rtstat (8)           - unified linux network statistics\n",
      "services (5)         - Internet network services list\n",
      "sethostent (3)       - get network host entry\n",
      "setnetent (3)        - get network entry\n",
      "setnetgrent (3)      - handle network group entries\n",
      "systemd-network-generator (8) - Generate network configuration from the kerne...\n",
      "systemd-network-generator.service (8) - Generate network configuration from t...\n",
      "systemd-networkd (8) - Network manager\n",
      "systemd-networkd-wait-online (8) - Wait for network to come online\n",
      "systemd-networkd-wait-online.service (8) - Wait for network to come online\n",
      "systemd-networkd.service (8) - Network manager\n",
      "systemd-resolved (8) - Network Name Resolution manager\n",
      "systemd-resolved.service (8) - Network Name Resolution manager\n",
      "systemd-timesyncd (8) - Network Time Synchronization\n",
      "systemd-timesyncd.service (8) - Network Time Synchronization\n",
      "systemd.link (5)     - Network device configuration\n",
      "systemd.net-naming-scheme (7) - Network device naming schemes\n",
      "systemd.netdev (5)   - Virtual Network Device configuration\n",
      "systemd.network (5)  - Network configuration\n",
      "tc-netem (8)         - Network Emulator\n",
      "tcptraceroute (8)    - print the route packets trace to network host\n",
      "tcptraceroute.db (8) - print the route packets trace to network host\n",
      "timesyncd.conf (5)   - Network Time Synchronization configuration files\n",
      "timesyncd.conf.d (5) - Network Time Synchronization configuration files\n",
      "traceproto (1)       - print the route packets trace to network host\n",
      "traceproto.db (1)    - print the route packets trace to network host\n",
      "traceroute (1)       - print the route packets trace to network host\n",
      "traceroute-nanog (1) - print the route packets trace to network host\n",
      "traceroute.db (1)    - print the route packets trace to network host\n",
      "traceroute6 (1)      - print the route packets trace to network host\n",
      "traceroute6.db (1)   - print the route packets trace to network host\n",
      "wget (1)             - The non-interactive network downloader.\n"
     ]
    }
   ],
   "source": [
    "apropos network"
   ]
  },
  {
   "cell_type": "markdown",
   "metadata": {},
   "source": [
    "### Command ```whereis```.\n",
    "\n",
    "This command returns the path where the commands, libraries, and settings that correspond to a particular command are located.\n",
    "\n",
    "```\n",
    "whereis <term>\n",
    "```"
   ]
  },
  {
   "cell_type": "markdown",
   "metadata": {},
   "source": [
    "**Example:**\n",
    "\n",
    "* The next cell will display the location of the term ```python```."
   ]
  },
  {
   "cell_type": "code",
   "execution_count": 4,
   "metadata": {},
   "outputs": [
    {
     "name": "stdout",
     "output_type": "stream",
     "text": [
      "python: /usr/bin/python3.9 /usr/lib/python3.9 /usr/lib/python2.7 /etc/python3.9 /usr/local/lib/python3.9 /opt/oi/ls/bin/python3.9 /opt/oi/ls/bin/python3.9-config /opt/oi/ls/bin/python /home/oi/pythonista/bin/python3.9 /home/oi/pythonista/bin/python\n"
     ]
    }
   ],
   "source": [
    "whereis python"
   ]
  },
  {
   "cell_type": "markdown",
   "metadata": {},
   "source": [
    "### Command ```which```.\n",
    "\n",
    "This command indicates the path where a specific command is located.\n",
    "\n",
    "```\n",
    "which <comando>\n",
    "```"
   ]
  },
  {
   "cell_type": "markdown",
   "metadata": {},
   "source": [
    "**Example:**\n",
    "\n",
    "* The next cell will display the path where the command is located ```python3```."
   ]
  },
  {
   "cell_type": "code",
   "execution_count": 7,
   "metadata": {},
   "outputs": [
    {
     "name": "stdout",
     "output_type": "stream",
     "text": [
      "/opt/oi/ls/bin/python3\n"
     ]
    }
   ],
   "source": [
    "which python3"
   ]
  },
  {
   "cell_type": "markdown",
   "metadata": {},
   "source": [
    "## Close session.\n",
    "\n",
    "To log out of a terminal, use the command ```exit```."
   ]
  },
  {
   "cell_type": "markdown",
   "metadata": {},
   "source": [
    "<p style=\"text-align: center\"><a rel=\"license\" href=\"http://creativecommons.org/licenses/by/4.0/\"><img alt=\"Creative Commons License\" style=\" border-width:0\" src=\"https://i.creativecommons.org/l/by/4.0/80x15.png\" /></a><br />This work is licensed under a <a rel=\"license \" href=\"http://creativecommons.org/licenses/by/4.0/\">Creative Commons Attribution 4.0 International License</a>.</p>\n",
    "<p style=\"text-align: center\">Content created by: José Luis Chiquete Valdivieso. 2019.</p><p style=\"text-align: center\">Content modified by: Cristian Cardoso Arellano. 2023.</p>"
   ]
  },
  {
   "cell_type": "code",
   "execution_count": null,
   "metadata": {},
   "outputs": [],
   "source": []
  }
 ],
 "metadata": {
  "kernelspec": {
   "display_name": "Bash",
   "language": "bash",
   "name": "bash"
  },
  "language_info": {
   "codemirror_mode": "shell",
   "file_extension": ".sh",
   "mimetype": "text/x-sh",
   "name": "bash"
  }
 },
 "nbformat": 4,
 "nbformat_minor": 2
}
